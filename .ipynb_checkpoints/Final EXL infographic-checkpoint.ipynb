{
 "cells": [
  {
   "cell_type": "code",
   "execution_count": 4,
   "metadata": {},
   "outputs": [],
   "source": [
    "import pandas as pd\n",
    "import numpy as np\n",
    "from sklearn.metrics import confusion_matrix\n",
    "from sklearn.metrics import accuracy_score\n",
    "from sklearn.metrics import f1_score\n",
    "from sklearn import svm\n",
    "from sklearn.model_selection import train_test_split\n",
    "import matplotlib.pyplot as plt"
   ]
  },
  {
   "cell_type": "code",
   "execution_count": 5,
   "metadata": {},
   "outputs": [
    {
     "name": "stderr",
     "output_type": "stream",
     "text": [
      "/anaconda3/lib/python3.6/site-packages/pandas/io/excel.py:329: FutureWarning: The `sheetname` keyword is deprecated, use `sheet_name` instead\n",
      "  **kwds)\n"
     ]
    }
   ],
   "source": [
    "customers = pd.read_excel('Dataset.xlsx',\n",
    "sheetname=0,\n",
    "header=0,\n",
    "index_col=False,\n",
    "keep_default_na=True\n",
    ")"
   ]
  },
  {
   "cell_type": "code",
   "execution_count": 7,
   "metadata": {},
   "outputs": [
    {
     "data": {
      "text/html": [
       "<div>\n",
       "<style scoped>\n",
       "    .dataframe tbody tr th:only-of-type {\n",
       "        vertical-align: middle;\n",
       "    }\n",
       "\n",
       "    .dataframe tbody tr th {\n",
       "        vertical-align: top;\n",
       "    }\n",
       "\n",
       "    .dataframe thead th {\n",
       "        text-align: right;\n",
       "    }\n",
       "</style>\n",
       "<table border=\"1\" class=\"dataframe\">\n",
       "  <thead>\n",
       "    <tr style=\"text-align: right;\">\n",
       "      <th></th>\n",
       "      <th>Month</th>\n",
       "      <th>WeekOfMonth</th>\n",
       "      <th>DayOfWeek</th>\n",
       "      <th>Make</th>\n",
       "      <th>AccidentArea</th>\n",
       "      <th>DayOfWeekClaimed</th>\n",
       "      <th>MonthClaimed</th>\n",
       "      <th>WeekOfMonthClaimed</th>\n",
       "      <th>Sex</th>\n",
       "      <th>MaritalStatus</th>\n",
       "      <th>...</th>\n",
       "      <th>AgeOfPolicyHolder</th>\n",
       "      <th>PoliceReportFiled</th>\n",
       "      <th>WitnessPresent</th>\n",
       "      <th>AgentType</th>\n",
       "      <th>NumberOfSuppliments</th>\n",
       "      <th>AddressChange_Claim</th>\n",
       "      <th>NumberOfCars</th>\n",
       "      <th>Year</th>\n",
       "      <th>BasePolicy</th>\n",
       "      <th>ClaimSize</th>\n",
       "    </tr>\n",
       "  </thead>\n",
       "  <tbody>\n",
       "    <tr>\n",
       "      <th>0</th>\n",
       "      <td>Dec</td>\n",
       "      <td>5</td>\n",
       "      <td>Wednesday</td>\n",
       "      <td>Honda</td>\n",
       "      <td>Urban</td>\n",
       "      <td>Tuesday</td>\n",
       "      <td>Jan</td>\n",
       "      <td>1</td>\n",
       "      <td>Female</td>\n",
       "      <td>Single</td>\n",
       "      <td>...</td>\n",
       "      <td>26 to 30</td>\n",
       "      <td>No</td>\n",
       "      <td>No</td>\n",
       "      <td>External</td>\n",
       "      <td>none</td>\n",
       "      <td>1 year</td>\n",
       "      <td>3 to 4</td>\n",
       "      <td>1994</td>\n",
       "      <td>Liability</td>\n",
       "      <td>55526.069421</td>\n",
       "    </tr>\n",
       "    <tr>\n",
       "      <th>1</th>\n",
       "      <td>Jan</td>\n",
       "      <td>3</td>\n",
       "      <td>Wednesday</td>\n",
       "      <td>Honda</td>\n",
       "      <td>Urban</td>\n",
       "      <td>Monday</td>\n",
       "      <td>Jan</td>\n",
       "      <td>4</td>\n",
       "      <td>Male</td>\n",
       "      <td>Single</td>\n",
       "      <td>...</td>\n",
       "      <td>31 to 35</td>\n",
       "      <td>Yes</td>\n",
       "      <td>No</td>\n",
       "      <td>External</td>\n",
       "      <td>none</td>\n",
       "      <td>no change</td>\n",
       "      <td>1 vehicle</td>\n",
       "      <td>1994</td>\n",
       "      <td>Collision</td>\n",
       "      <td>59294.455571</td>\n",
       "    </tr>\n",
       "    <tr>\n",
       "      <th>2</th>\n",
       "      <td>Oct</td>\n",
       "      <td>5</td>\n",
       "      <td>Friday</td>\n",
       "      <td>Honda</td>\n",
       "      <td>Urban</td>\n",
       "      <td>Thursday</td>\n",
       "      <td>Nov</td>\n",
       "      <td>2</td>\n",
       "      <td>Male</td>\n",
       "      <td>Married</td>\n",
       "      <td>...</td>\n",
       "      <td>41 to 50</td>\n",
       "      <td>No</td>\n",
       "      <td>No</td>\n",
       "      <td>External</td>\n",
       "      <td>none</td>\n",
       "      <td>no change</td>\n",
       "      <td>1 vehicle</td>\n",
       "      <td>1994</td>\n",
       "      <td>Collision</td>\n",
       "      <td>71756.941320</td>\n",
       "    </tr>\n",
       "    <tr>\n",
       "      <th>3</th>\n",
       "      <td>Jun</td>\n",
       "      <td>2</td>\n",
       "      <td>Saturday</td>\n",
       "      <td>Toyota</td>\n",
       "      <td>Rural</td>\n",
       "      <td>Friday</td>\n",
       "      <td>Jul</td>\n",
       "      <td>1</td>\n",
       "      <td>Male</td>\n",
       "      <td>Married</td>\n",
       "      <td>...</td>\n",
       "      <td>51 to 65</td>\n",
       "      <td>Yes</td>\n",
       "      <td>No</td>\n",
       "      <td>External</td>\n",
       "      <td>more than 5</td>\n",
       "      <td>no change</td>\n",
       "      <td>1 vehicle</td>\n",
       "      <td>1994</td>\n",
       "      <td>Liability</td>\n",
       "      <td>7584.153493</td>\n",
       "    </tr>\n",
       "    <tr>\n",
       "      <th>4</th>\n",
       "      <td>Feb</td>\n",
       "      <td>1</td>\n",
       "      <td>Saturday</td>\n",
       "      <td>Honda</td>\n",
       "      <td>Urban</td>\n",
       "      <td>Monday</td>\n",
       "      <td>Feb</td>\n",
       "      <td>3</td>\n",
       "      <td>Male</td>\n",
       "      <td>Married</td>\n",
       "      <td>...</td>\n",
       "      <td>36 to 40</td>\n",
       "      <td>No</td>\n",
       "      <td>No</td>\n",
       "      <td>External</td>\n",
       "      <td>1 to 2</td>\n",
       "      <td>no change</td>\n",
       "      <td>1 vehicle</td>\n",
       "      <td>1994</td>\n",
       "      <td>Collision</td>\n",
       "      <td>98545.374339</td>\n",
       "    </tr>\n",
       "  </tbody>\n",
       "</table>\n",
       "<p>5 rows × 34 columns</p>\n",
       "</div>"
      ],
      "text/plain": [
       "  Month  WeekOfMonth  DayOfWeek    Make AccidentArea DayOfWeekClaimed  \\\n",
       "0   Dec            5  Wednesday   Honda        Urban          Tuesday   \n",
       "1   Jan            3  Wednesday   Honda        Urban           Monday   \n",
       "2   Oct            5     Friday   Honda        Urban         Thursday   \n",
       "3   Jun            2   Saturday  Toyota        Rural           Friday   \n",
       "4   Feb            1   Saturday   Honda        Urban           Monday   \n",
       "\n",
       "  MonthClaimed  WeekOfMonthClaimed     Sex MaritalStatus      ...       \\\n",
       "0          Jan                   1  Female        Single      ...        \n",
       "1          Jan                   4    Male        Single      ...        \n",
       "2          Nov                   2    Male       Married      ...        \n",
       "3          Jul                   1    Male       Married      ...        \n",
       "4          Feb                   3    Male       Married      ...        \n",
       "\n",
       "   AgeOfPolicyHolder PoliceReportFiled WitnessPresent AgentType  \\\n",
       "0           26 to 30                No             No  External   \n",
       "1           31 to 35               Yes             No  External   \n",
       "2           41 to 50                No             No  External   \n",
       "3           51 to 65               Yes             No  External   \n",
       "4           36 to 40                No             No  External   \n",
       "\n",
       "  NumberOfSuppliments  AddressChange_Claim  NumberOfCars  Year  BasePolicy  \\\n",
       "0                none               1 year        3 to 4  1994   Liability   \n",
       "1                none            no change     1 vehicle  1994   Collision   \n",
       "2                none            no change     1 vehicle  1994   Collision   \n",
       "3         more than 5            no change     1 vehicle  1994   Liability   \n",
       "4              1 to 2            no change     1 vehicle  1994   Collision   \n",
       "\n",
       "      ClaimSize  \n",
       "0  55526.069421  \n",
       "1  59294.455571  \n",
       "2  71756.941320  \n",
       "3   7584.153493  \n",
       "4  98545.374339  \n",
       "\n",
       "[5 rows x 34 columns]"
      ]
     },
     "execution_count": 7,
     "metadata": {},
     "output_type": "execute_result"
    }
   ],
   "source": [
    "customers.head()"
   ]
  },
  {
   "cell_type": "code",
   "execution_count": 6,
   "metadata": {},
   "outputs": [
    {
     "data": {
      "image/png": "[encoded data removed]",
      "text/plain": [
       "<Figure size 432x288 with 1 Axes>"
      ]
     },
     "metadata": {},
     "output_type": "display_data"
    },
    {
     "name": "stdout",
     "output_type": "stream",
     "text": [
      "Percentage of Female Fraud Done from Female Insurance Policy Holder 4.06 %\n",
      "Percentage of Male Fraud Done from Male Insurance Policy Holder 6.27 %\n"
     ]
    }
   ],
   "source": [
    "plt.title('Gender vs Number of Fraud Done')\n",
    "plt.xlabel('Number of Fraud Done')\n",
    "plt.ylabel('Gender')\n",
    "customers[customers['FraudFound_P']==1]['Sex'].value_counts().plot('barh')\n",
    "plt.show()\n",
    "print('Percentage of Female Fraud Done from Female Insurance Policy Holder',format((73/1797)*100,'.2f'),'%')\n",
    "print('Percentage of Male Fraud Done from Male Insurance Policy Holder',format((612/9767)*100,'.2f'),'%')"
   ]
  },
  {
   "cell_type": "markdown",
   "metadata": {},
   "source": [
    "# Age of Policy Holder"
   ]
  },
  {
   "cell_type": "code",
   "execution_count": 24,
   "metadata": {},
   "outputs": [
    {
     "data": {
      "image/png": "[encoded data removed]",
      "text/plain": [
       "<Figure size 432x288 with 1 Axes>"
      ]
     },
     "metadata": {},
     "output_type": "display_data"
    },
    {
     "name": "stdout",
     "output_type": "stream",
     "text": [
      "31 to 35 36.31 %\n",
      "36 to 40 26.01 %\n",
      "41 to 50 18.35 %\n",
      "51 to 65 9.25 %\n",
      "26 to 30 3.85 %\n",
      "over 65 3.35 %\n",
      "16 to 17 2.14 %\n",
      "21 to 25 0.63 %\n",
      "18 to 20 0.11 %\n"
     ]
    }
   ],
   "source": [
    "plt.title('Age of Policy Holder vs Number of Claims')\n",
    "plt.xlabel('Number of Claims')\n",
    "plt.ylabel('Age of Policy Holder')\n",
    "customers['AgeOfPolicyHolder'].value_counts().plot('barh')\n",
    "plt.show()\n",
    "x=customers['AgeOfPolicyHolder'].value_counts().index\n",
    "y=np.array(customers['AgeOfPolicyHolder'].value_counts().values)\n",
    "perFraud=np.true_divide(y, y.sum())*100\n",
    "for i in range(len(perFraud)):\n",
    "    print(x[i],format(perFraud[i],'.2f'),'%')"
   ]
  },
  {
   "cell_type": "code",
   "execution_count": 20,
   "metadata": {},
   "outputs": [
    {
     "data": {
      "image/png": "[encoded data removed]",
      "text/plain": [
       "<Figure size 432x288 with 1 Axes>"
      ]
     },
     "metadata": {},
     "output_type": "display_data"
    },
    {
     "name": "stdout",
     "output_type": "stream",
     "text": [
      "31 to 35 39.42 %\n",
      "36 to 40 25.40 %\n",
      "41 to 50 16.35 %\n",
      "51 to 65 7.74 %\n",
      "16 to 17 3.80 %\n",
      "26 to 30 2.92 %\n",
      "over 65 2.92 %\n",
      "21 to 25 1.31 %\n",
      "18 to 20 0.15 %\n"
     ]
    }
   ],
   "source": [
    "plt.title('Age of Policy Holder vs Number of Fraud Done')\n",
    "plt.xlabel('Number of Fraud')\n",
    "plt.ylabel('Age of Policy Holder')\n",
    "customers[customers['FraudFound_P']==1]['AgeOfPolicyHolder'].value_counts().plot('barh')\n",
    "plt.show()\n",
    "x=customers[customers['FraudFound_P']==1]['AgeOfPolicyHolder'].value_counts().index\n",
    "y=np.array(customers[customers['FraudFound_P']==1]['AgeOfPolicyHolder'].value_counts().values)\n",
    "perFraud=np.true_divide(y, y.sum())*100\n",
    "for i in range(len(perFraud)):\n",
    "    print(x[i],format(perFraud[i],'.2f'),'%')"
   ]
  },
  {
   "cell_type": "markdown",
   "metadata": {},
   "source": [
    "# From above two graph we get that poilcy holder have age greater than 50 year have low chance of doing fraud."
   ]
  },
  {
   "cell_type": "code",
   "execution_count": 23,
   "metadata": {},
   "outputs": [
    {
     "data": {
      "image/png": "[encoded data removed]",
      "text/plain": [
       "<Figure size 432x288 with 1 Axes>"
      ]
     },
     "metadata": {},
     "output_type": "display_data"
    },
    {
     "name": "stdout",
     "output_type": "stream",
     "text": [
      "31 to 35 52.53 %\n",
      "16 to 17 13.13 %\n",
      "36 to 40 12.12 %\n",
      "26 to 30 8.59 %\n",
      "41 to 50 4.55 %\n",
      "21 to 25 4.04 %\n",
      "51 to 65 2.53 %\n",
      "over 65 2.02 %\n",
      "18 to 20 0.51 %\n"
     ]
    }
   ],
   "source": [
    "customers['MaritalStatus'].value_counts()\n",
    "single=customers[customers['MaritalStatus']=='Single']\n",
    "plt.title('Age of Policy Holder-Single vs Number of Fraud Done')\n",
    "plt.xlabel('Number of Fraud')\n",
    "plt.ylabel('Age of Policy Holder')\n",
    "single[single['FraudFound_P']==1]['AgeOfPolicyHolder'].value_counts().plot('barh')\n",
    "plt.show()\n",
    "x=single[single['FraudFound_P']==1]['AgeOfPolicyHolder'].value_counts().index\n",
    "y=np.array(single[single['FraudFound_P']==1]['AgeOfPolicyHolder'].value_counts().values)\n",
    "perFraud=np.true_divide(y, y.sum())*100\n",
    "for i in range(len(perFraud)):\n",
    "    print(x[i],format(perFraud[i],'.2f'),'%')"
   ]
  },
  {
   "cell_type": "markdown",
   "metadata": {},
   "source": [
    "# From this graph we can observe that single people having age between 31 to 35 have high chance of fraud"
   ]
  },
  {
   "cell_type": "code",
   "execution_count": 27,
   "metadata": {},
   "outputs": [
    {
     "data": {
      "image/png": "[encoded data removed]",
      "text/plain": [
       "<Figure size 432x288 with 1 Axes>"
      ]
     },
     "metadata": {},
     "output_type": "display_data"
    },
    {
     "name": "stdout",
     "output_type": "stream",
     "text": [
      "31 to 35 34.02 %\n",
      "36 to 40 30.71 %\n",
      "41 to 50 21.16 %\n",
      "51 to 65 9.96 %\n",
      "over 65 3.32 %\n",
      "26 to 30 0.62 %\n",
      "21 to 25 0.21 %\n"
     ]
    }
   ],
   "source": [
    "customers['MaritalStatus'].value_counts()\n",
    "married=customers[customers['MaritalStatus']=='Married']\n",
    "plt.title('Age of Policy Holder-Married vs Number of Fraud Done')\n",
    "plt.xlabel('Number of Fraud')\n",
    "plt.ylabel('Age of Policy Holder')\n",
    "married[married['FraudFound_P']==1]['AgeOfPolicyHolder'].value_counts().plot('barh')\n",
    "plt.show()\n",
    "x=married[married['FraudFound_P']==1]['AgeOfPolicyHolder'].value_counts().index\n",
    "y=np.array(married[married['FraudFound_P']==1]['AgeOfPolicyHolder'].value_counts().values)\n",
    "perFraud=np.true_divide(y, y.sum())*100\n",
    "for i in range(len(perFraud)):\n",
    "    print(x[i],format(perFraud[i],'.2f'),'%')"
   ]
  },
  {
   "cell_type": "code",
   "execution_count": 28,
   "metadata": {},
   "outputs": [
    {
     "data": {
      "text/plain": [
       "31 to 35    4199\n",
       "36 to 40    3008\n",
       "41 to 50    2122\n",
       "51 to 65    1070\n",
       "26 to 30     445\n",
       "over 65      388\n",
       "16 to 17     247\n",
       "21 to 25      73\n",
       "18 to 20      13\n",
       "Name: AgeOfPolicyHolder, dtype: int64"
      ]
     },
     "execution_count": 28,
     "metadata": {},
     "output_type": "execute_result"
    }
   ],
   "source": [
    "customers['AgeOfPolicyHolder'].value_counts()"
   ]
  },
  {
   "cell_type": "code",
   "execution_count": 29,
   "metadata": {},
   "outputs": [
    {
     "data": {
      "text/plain": [
       "31 to 35    270\n",
       "36 to 40    174\n",
       "41 to 50    112\n",
       "51 to 65     53\n",
       "16 to 17     26\n",
       "26 to 30     20\n",
       "over 65      20\n",
       "21 to 25      9\n",
       "18 to 20      1\n",
       "Name: AgeOfPolicyHolder, dtype: int64"
      ]
     },
     "execution_count": 29,
     "metadata": {},
     "output_type": "execute_result"
    }
   ],
   "source": [
    "customers[customers['FraudFound_P']==1]['AgeOfPolicyHolder'].value_counts()"
   ]
  }
 ],
 "metadata": {
  "kernelspec": {
   "display_name": "Python 3",
   "language": "python",
   "name": "python3"
  },
  "language_info": {
   "codemirror_mode": {
    "name": "ipython",
    "version": 3
   },
   "file_extension": ".py",
   "mimetype": "text/x-python",
   "name": "python",
   "nbconvert_exporter": "python",
   "pygments_lexer": "ipython3",
   "version": "3.6.5"
  }
 },
 "nbformat": 4,
 "nbformat_minor": 2
}
