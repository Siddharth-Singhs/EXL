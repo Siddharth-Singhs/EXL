{
 "cells": [
  {
   "cell_type": "code",
   "execution_count": 1,
   "metadata": {},
   "outputs": [],
   "source": [
    "%load_ext autoreload\n",
    "%autoreload 2\n",
    "%matplotlib inline"
   ]
  },
  {
   "cell_type": "code",
   "execution_count": 2,
   "metadata": {},
   "outputs": [],
   "source": [
    "import sys\n",
    "sys.path.append('/home/hellraizer/fastai/courses/ml1/')"
   ]
  },
  {
   "cell_type": "code",
   "execution_count": 3,
   "metadata": {},
   "outputs": [],
   "source": [
    "from fastai.imports import *\n",
    "from fastai.structured import *"
   ]
  },
  {
   "cell_type": "code",
   "execution_count": 4,
   "metadata": {},
   "outputs": [],
   "source": [
    "from sklearn.ensemble import RandomForestClassifier, IsolationForest\n",
    "from sklearn.model_selection import train_test_split\n",
    "from sklearn.metrics import confusion_matrix, f1_score, classification_report"
   ]
  },
  {
   "cell_type": "code",
   "execution_count": 5,
   "metadata": {},
   "outputs": [
    {
     "name": "stderr",
     "output_type": "stream",
     "text": [
      "/home/hellraizer/miniconda3/envs/fastai/lib/python3.6/site-packages/pandas/util/_decorators.py:188: FutureWarning: The `sheetname` keyword is deprecated, use `sheet_name` instead\n",
      "  return func(*args, **kwargs)\n"
     ]
    }
   ],
   "source": [
    "customers = pd.read_excel('Dataset.xlsx',\n",
    "sheetname=0,\n",
    "header=0,\n",
    "index_col=False,\n",
    "keep_default_na=True\n",
    ")"
   ]
  },
  {
   "cell_type": "code",
   "execution_count": 6,
   "metadata": {},
   "outputs": [],
   "source": [
    "df_raw = customers.copy()"
   ]
  },
  {
   "cell_type": "code",
   "execution_count": 41,
   "metadata": {},
   "outputs": [],
   "source": [
    "def plot_2d_space(X, y, label='Classes'):   \n",
    "    colors = ['#1F77B4', '#FF7F0E']\n",
    "    markers = ['o', 's']\n",
    "    for l, c, m in zip(np.unique(y), colors, markers):\n",
    "        plt.scatter(\n",
    "            X[y==l, 0],\n",
    "            X[y==l, 1],\n",
    "            c=c, label=l, marker=m\n",
    "        )\n",
    "    plt.title(label)\n",
    "    plt.legend(loc='upper right')\n",
    "    plt.show()"
   ]
  },
  {
   "cell_type": "code",
   "execution_count": 7,
   "metadata": {},
   "outputs": [
    {
     "data": {
      "text/plain": [
       "Index(['Month', 'WeekOfMonth', 'DayOfWeek', 'Make', 'AccidentArea',\n",
       "       'DayOfWeekClaimed', 'MonthClaimed', 'WeekOfMonthClaimed', 'Sex',\n",
       "       'MaritalStatus', 'Age', 'Fault', 'PolicyType', 'VehicleCategory',\n",
       "       'VehiclePrice', 'FraudFound_P', 'PolicyNumber', 'RepNumber',\n",
       "       'Deductible', 'DriverRating', 'Days_Policy_Accident',\n",
       "       'Days_Policy_Claim', 'PastNumberOfClaims', 'AgeOfVehicle',\n",
       "       'AgeOfPolicyHolder', 'PoliceReportFiled', 'WitnessPresent', 'AgentType',\n",
       "       'NumberOfSuppliments', 'AddressChange_Claim', 'NumberOfCars', 'Year',\n",
       "       'BasePolicy', 'ClaimSize'],\n",
       "      dtype='object')"
      ]
     },
     "execution_count": 7,
     "metadata": {},
     "output_type": "execute_result"
    }
   ],
   "source": [
    "customers.columns"
   ]
  },
  {
   "cell_type": "code",
   "execution_count": 8,
   "metadata": {},
   "outputs": [],
   "source": [
    "def display_all(df):\n",
    "    with pd.option_context(\"display.max_rows\", 1000): \n",
    "        with pd.option_context(\"display.max_columns\", 50): \n",
    "            display(df)"
   ]
  },
  {
   "cell_type": "code",
   "execution_count": 9,
   "metadata": {
    "scrolled": true
   },
   "outputs": [
    {
     "data": {
      "text/html": [
       "<div>\n",
       "<style scoped>\n",
       "    .dataframe tbody tr th:only-of-type {\n",
       "        vertical-align: middle;\n",
       "    }\n",
       "\n",
       "    .dataframe tbody tr th {\n",
       "        vertical-align: top;\n",
       "    }\n",
       "\n",
       "    .dataframe thead th {\n",
       "        text-align: right;\n",
       "    }\n",
       "</style>\n",
       "<table border=\"1\" class=\"dataframe\">\n",
       "  <thead>\n",
       "    <tr style=\"text-align: right;\">\n",
       "      <th></th>\n",
       "      <th>Month</th>\n",
       "      <th>WeekOfMonth</th>\n",
       "      <th>DayOfWeek</th>\n",
       "      <th>Make</th>\n",
       "      <th>AccidentArea</th>\n",
       "      <th>DayOfWeekClaimed</th>\n",
       "      <th>MonthClaimed</th>\n",
       "      <th>WeekOfMonthClaimed</th>\n",
       "      <th>Sex</th>\n",
       "      <th>MaritalStatus</th>\n",
       "      <th>Age</th>\n",
       "      <th>Fault</th>\n",
       "      <th>PolicyType</th>\n",
       "      <th>VehicleCategory</th>\n",
       "      <th>VehiclePrice</th>\n",
       "      <th>FraudFound_P</th>\n",
       "      <th>PolicyNumber</th>\n",
       "      <th>RepNumber</th>\n",
       "      <th>Deductible</th>\n",
       "      <th>DriverRating</th>\n",
       "      <th>Days_Policy_Accident</th>\n",
       "      <th>Days_Policy_Claim</th>\n",
       "      <th>PastNumberOfClaims</th>\n",
       "      <th>AgeOfVehicle</th>\n",
       "      <th>AgeOfPolicyHolder</th>\n",
       "      <th>PoliceReportFiled</th>\n",
       "      <th>WitnessPresent</th>\n",
       "      <th>AgentType</th>\n",
       "      <th>NumberOfSuppliments</th>\n",
       "      <th>AddressChange_Claim</th>\n",
       "      <th>NumberOfCars</th>\n",
       "      <th>Year</th>\n",
       "      <th>BasePolicy</th>\n",
       "      <th>ClaimSize</th>\n",
       "    </tr>\n",
       "  </thead>\n",
       "  <tbody>\n",
       "    <tr>\n",
       "      <th>0</th>\n",
       "      <td>Dec</td>\n",
       "      <td>5</td>\n",
       "      <td>Wednesday</td>\n",
       "      <td>Honda</td>\n",
       "      <td>Urban</td>\n",
       "      <td>Tuesday</td>\n",
       "      <td>Jan</td>\n",
       "      <td>1</td>\n",
       "      <td>Female</td>\n",
       "      <td>Single</td>\n",
       "      <td>21.0</td>\n",
       "      <td>Policy Holder</td>\n",
       "      <td>Sport - Liability</td>\n",
       "      <td>Sport</td>\n",
       "      <td>more than 69000</td>\n",
       "      <td>0</td>\n",
       "      <td>1</td>\n",
       "      <td>12</td>\n",
       "      <td>300</td>\n",
       "      <td>1.0</td>\n",
       "      <td>more than 30</td>\n",
       "      <td>more than 30</td>\n",
       "      <td>none</td>\n",
       "      <td>3 years</td>\n",
       "      <td>26 to 30</td>\n",
       "      <td>No</td>\n",
       "      <td>No</td>\n",
       "      <td>External</td>\n",
       "      <td>none</td>\n",
       "      <td>1 year</td>\n",
       "      <td>3 to 4</td>\n",
       "      <td>1994</td>\n",
       "      <td>Liability</td>\n",
       "      <td>55526.069421</td>\n",
       "    </tr>\n",
       "    <tr>\n",
       "      <th>1</th>\n",
       "      <td>Jan</td>\n",
       "      <td>3</td>\n",
       "      <td>Wednesday</td>\n",
       "      <td>Honda</td>\n",
       "      <td>Urban</td>\n",
       "      <td>Monday</td>\n",
       "      <td>Jan</td>\n",
       "      <td>4</td>\n",
       "      <td>Male</td>\n",
       "      <td>Single</td>\n",
       "      <td>34.0</td>\n",
       "      <td>Policy Holder</td>\n",
       "      <td>Sport - Collision</td>\n",
       "      <td>Sport</td>\n",
       "      <td>more than 69000</td>\n",
       "      <td>0</td>\n",
       "      <td>2</td>\n",
       "      <td>15</td>\n",
       "      <td>400</td>\n",
       "      <td>4.0</td>\n",
       "      <td>more than 30</td>\n",
       "      <td>more than 30</td>\n",
       "      <td>none</td>\n",
       "      <td>6 years</td>\n",
       "      <td>31 to 35</td>\n",
       "      <td>Yes</td>\n",
       "      <td>No</td>\n",
       "      <td>External</td>\n",
       "      <td>none</td>\n",
       "      <td>no change</td>\n",
       "      <td>1 vehicle</td>\n",
       "      <td>1994</td>\n",
       "      <td>Collision</td>\n",
       "      <td>59294.455571</td>\n",
       "    </tr>\n",
       "    <tr>\n",
       "      <th>2</th>\n",
       "      <td>Oct</td>\n",
       "      <td>5</td>\n",
       "      <td>Friday</td>\n",
       "      <td>Honda</td>\n",
       "      <td>Urban</td>\n",
       "      <td>Thursday</td>\n",
       "      <td>Nov</td>\n",
       "      <td>2</td>\n",
       "      <td>Male</td>\n",
       "      <td>Married</td>\n",
       "      <td>47.0</td>\n",
       "      <td>Policy Holder</td>\n",
       "      <td>Sport - Collision</td>\n",
       "      <td>Sport</td>\n",
       "      <td>more than 69000</td>\n",
       "      <td>0</td>\n",
       "      <td>3</td>\n",
       "      <td>7</td>\n",
       "      <td>400</td>\n",
       "      <td>3.0</td>\n",
       "      <td>more than 30</td>\n",
       "      <td>more than 30</td>\n",
       "      <td>1</td>\n",
       "      <td>7 years</td>\n",
       "      <td>41 to 50</td>\n",
       "      <td>No</td>\n",
       "      <td>No</td>\n",
       "      <td>External</td>\n",
       "      <td>none</td>\n",
       "      <td>no change</td>\n",
       "      <td>1 vehicle</td>\n",
       "      <td>1994</td>\n",
       "      <td>Collision</td>\n",
       "      <td>71756.941320</td>\n",
       "    </tr>\n",
       "    <tr>\n",
       "      <th>3</th>\n",
       "      <td>Jun</td>\n",
       "      <td>2</td>\n",
       "      <td>Saturday</td>\n",
       "      <td>Toyota</td>\n",
       "      <td>Rural</td>\n",
       "      <td>Friday</td>\n",
       "      <td>Jul</td>\n",
       "      <td>1</td>\n",
       "      <td>Male</td>\n",
       "      <td>Married</td>\n",
       "      <td>65.0</td>\n",
       "      <td>Third Party</td>\n",
       "      <td>Sedan - Liability</td>\n",
       "      <td>Sport</td>\n",
       "      <td>20000 to 29000</td>\n",
       "      <td>0</td>\n",
       "      <td>4</td>\n",
       "      <td>4</td>\n",
       "      <td>400</td>\n",
       "      <td>2.0</td>\n",
       "      <td>more than 30</td>\n",
       "      <td>more than 30</td>\n",
       "      <td>1</td>\n",
       "      <td>more than 7</td>\n",
       "      <td>51 to 65</td>\n",
       "      <td>Yes</td>\n",
       "      <td>No</td>\n",
       "      <td>External</td>\n",
       "      <td>more than 5</td>\n",
       "      <td>no change</td>\n",
       "      <td>1 vehicle</td>\n",
       "      <td>1994</td>\n",
       "      <td>Liability</td>\n",
       "      <td>7584.153493</td>\n",
       "    </tr>\n",
       "    <tr>\n",
       "      <th>4</th>\n",
       "      <td>Feb</td>\n",
       "      <td>1</td>\n",
       "      <td>Saturday</td>\n",
       "      <td>Honda</td>\n",
       "      <td>Urban</td>\n",
       "      <td>Monday</td>\n",
       "      <td>Feb</td>\n",
       "      <td>3</td>\n",
       "      <td>Male</td>\n",
       "      <td>Married</td>\n",
       "      <td>36.0</td>\n",
       "      <td>Third Party</td>\n",
       "      <td>Sport - Collision</td>\n",
       "      <td>Sport</td>\n",
       "      <td>more than 69000</td>\n",
       "      <td>0</td>\n",
       "      <td>7</td>\n",
       "      <td>14</td>\n",
       "      <td>400</td>\n",
       "      <td>1.0</td>\n",
       "      <td>more than 30</td>\n",
       "      <td>more than 30</td>\n",
       "      <td>1</td>\n",
       "      <td>7 years</td>\n",
       "      <td>36 to 40</td>\n",
       "      <td>No</td>\n",
       "      <td>No</td>\n",
       "      <td>External</td>\n",
       "      <td>1 to 2</td>\n",
       "      <td>no change</td>\n",
       "      <td>1 vehicle</td>\n",
       "      <td>1994</td>\n",
       "      <td>Collision</td>\n",
       "      <td>98545.374339</td>\n",
       "    </tr>\n",
       "  </tbody>\n",
       "</table>\n",
       "</div>"
      ],
      "text/plain": [
       "  Month  WeekOfMonth  DayOfWeek    Make AccidentArea DayOfWeekClaimed  \\\n",
       "0   Dec            5  Wednesday   Honda        Urban          Tuesday   \n",
       "1   Jan            3  Wednesday   Honda        Urban           Monday   \n",
       "2   Oct            5     Friday   Honda        Urban         Thursday   \n",
       "3   Jun            2   Saturday  Toyota        Rural           Friday   \n",
       "4   Feb            1   Saturday   Honda        Urban           Monday   \n",
       "\n",
       "  MonthClaimed  WeekOfMonthClaimed     Sex MaritalStatus   Age          Fault  \\\n",
       "0          Jan                   1  Female        Single  21.0  Policy Holder   \n",
       "1          Jan                   4    Male        Single  34.0  Policy Holder   \n",
       "2          Nov                   2    Male       Married  47.0  Policy Holder   \n",
       "3          Jul                   1    Male       Married  65.0    Third Party   \n",
       "4          Feb                   3    Male       Married  36.0    Third Party   \n",
       "\n",
       "          PolicyType VehicleCategory     VehiclePrice  FraudFound_P  \\\n",
       "0  Sport - Liability           Sport  more than 69000             0   \n",
       "1  Sport - Collision           Sport  more than 69000             0   \n",
       "2  Sport - Collision           Sport  more than 69000             0   \n",
       "3  Sedan - Liability           Sport   20000 to 29000             0   \n",
       "4  Sport - Collision           Sport  more than 69000             0   \n",
       "\n",
       "   PolicyNumber  RepNumber  Deductible  DriverRating Days_Policy_Accident  \\\n",
       "0             1         12         300           1.0         more than 30   \n",
       "1             2         15         400           4.0         more than 30   \n",
       "2             3          7         400           3.0         more than 30   \n",
       "3             4          4         400           2.0         more than 30   \n",
       "4             7         14         400           1.0         more than 30   \n",
       "\n",
       "  Days_Policy_Claim PastNumberOfClaims AgeOfVehicle AgeOfPolicyHolder  \\\n",
       "0      more than 30               none      3 years          26 to 30   \n",
       "1      more than 30               none      6 years          31 to 35   \n",
       "2      more than 30                  1      7 years          41 to 50   \n",
       "3      more than 30                  1  more than 7          51 to 65   \n",
       "4      more than 30                  1      7 years          36 to 40   \n",
       "\n",
       "  PoliceReportFiled WitnessPresent AgentType NumberOfSuppliments  \\\n",
       "0                No             No  External                none   \n",
       "1               Yes             No  External                none   \n",
       "2                No             No  External                none   \n",
       "3               Yes             No  External         more than 5   \n",
       "4                No             No  External              1 to 2   \n",
       "\n",
       "  AddressChange_Claim NumberOfCars  Year BasePolicy     ClaimSize  \n",
       "0              1 year       3 to 4  1994  Liability  55526.069421  \n",
       "1           no change    1 vehicle  1994  Collision  59294.455571  \n",
       "2           no change    1 vehicle  1994  Collision  71756.941320  \n",
       "3           no change    1 vehicle  1994  Liability   7584.153493  \n",
       "4           no change    1 vehicle  1994  Collision  98545.374339  "
      ]
     },
     "metadata": {},
     "output_type": "display_data"
    }
   ],
   "source": [
    "display_all(customers.head())"
   ]
  },
  {
   "cell_type": "code",
   "execution_count": 10,
   "metadata": {},
   "outputs": [],
   "source": [
    "train_cats(df_raw)"
   ]
  },
  {
   "cell_type": "code",
   "execution_count": 11,
   "metadata": {},
   "outputs": [],
   "source": [
    "df_raw.Month.cat.set_categories(['Jan', 'Feb', 'Mar', 'Apr', 'May', 'Jun', 'Jul', 'Aug', 'Sep', 'Oct',\n",
    "       'Nov', 'Dec'], ordered=True, inplace=True)"
   ]
  },
  {
   "cell_type": "code",
   "execution_count": 12,
   "metadata": {},
   "outputs": [],
   "source": [
    "df_raw.DayOfWeek.cat.set_categories(['Monday', 'Tuesday','Wednesday', 'Thursday', 'Friday', 'Saturday', 'Sunday'],\n",
    "                                ordered=True, inplace=True)"
   ]
  },
  {
   "cell_type": "code",
   "execution_count": 13,
   "metadata": {},
   "outputs": [],
   "source": [
    "df_raw.DayOfWeekClaimed.cat.set_categories(['Monday', 'Tuesday','Wednesday', 'Thursday', 'Friday', 'Saturday',\n",
    "                                            'Sunday'], ordered=True, inplace=True)"
   ]
  },
  {
   "cell_type": "code",
   "execution_count": 14,
   "metadata": {},
   "outputs": [],
   "source": [
    "df_raw.MonthClaimed.cat.set_categories(['Jan', 'Feb', 'Mar', 'Apr', 'May', 'Jun', 'Jul', 'Aug', 'Sep', 'Oct',\n",
    "       'Nov', 'Dec'], ordered=True, inplace=True)"
   ]
  },
  {
   "cell_type": "code",
   "execution_count": 61,
   "metadata": {},
   "outputs": [
    {
     "data": {
      "text/html": [
       "<div>\n",
       "<style scoped>\n",
       "    .dataframe tbody tr th:only-of-type {\n",
       "        vertical-align: middle;\n",
       "    }\n",
       "\n",
       "    .dataframe tbody tr th {\n",
       "        vertical-align: top;\n",
       "    }\n",
       "\n",
       "    .dataframe thead th {\n",
       "        text-align: right;\n",
       "    }\n",
       "</style>\n",
       "<table border=\"1\" class=\"dataframe\">\n",
       "  <thead>\n",
       "    <tr style=\"text-align: right;\">\n",
       "      <th></th>\n",
       "      <th>Month</th>\n",
       "      <th>WeekOfMonth</th>\n",
       "      <th>DayOfWeek</th>\n",
       "      <th>Make</th>\n",
       "      <th>AccidentArea</th>\n",
       "      <th>DayOfWeekClaimed</th>\n",
       "      <th>MonthClaimed</th>\n",
       "      <th>WeekOfMonthClaimed</th>\n",
       "      <th>Sex</th>\n",
       "      <th>MaritalStatus</th>\n",
       "      <th>...</th>\n",
       "      <th>AgeOfPolicyHolder</th>\n",
       "      <th>PoliceReportFiled</th>\n",
       "      <th>WitnessPresent</th>\n",
       "      <th>AgentType</th>\n",
       "      <th>NumberOfSuppliments</th>\n",
       "      <th>AddressChange_Claim</th>\n",
       "      <th>NumberOfCars</th>\n",
       "      <th>Year</th>\n",
       "      <th>BasePolicy</th>\n",
       "      <th>ClaimSize</th>\n",
       "    </tr>\n",
       "  </thead>\n",
       "  <tbody>\n",
       "    <tr>\n",
       "      <th>1146</th>\n",
       "      <td>Jul</td>\n",
       "      <td>2</td>\n",
       "      <td>Monday</td>\n",
       "      <td>Honda</td>\n",
       "      <td>Rural</td>\n",
       "      <td>NaN</td>\n",
       "      <td>NaN</td>\n",
       "      <td>1</td>\n",
       "      <td>Male</td>\n",
       "      <td>Single</td>\n",
       "      <td>...</td>\n",
       "      <td>16 to 17</td>\n",
       "      <td>No</td>\n",
       "      <td>No</td>\n",
       "      <td>External</td>\n",
       "      <td>none</td>\n",
       "      <td>no change</td>\n",
       "      <td>1 vehicle</td>\n",
       "      <td>1994</td>\n",
       "      <td>All Perils</td>\n",
       "      <td>70530.646951</td>\n",
       "    </tr>\n",
       "  </tbody>\n",
       "</table>\n",
       "<p>1 rows × 34 columns</p>\n",
       "</div>"
      ],
      "text/plain": [
       "     Month  WeekOfMonth DayOfWeek   Make AccidentArea DayOfWeekClaimed  \\\n",
       "1146   Jul            2    Monday  Honda        Rural              NaN   \n",
       "\n",
       "     MonthClaimed  WeekOfMonthClaimed   Sex MaritalStatus  ...  \\\n",
       "1146          NaN                   1  Male        Single  ...   \n",
       "\n",
       "      AgeOfPolicyHolder PoliceReportFiled WitnessPresent AgentType  \\\n",
       "1146           16 to 17                No             No  External   \n",
       "\n",
       "     NumberOfSuppliments  AddressChange_Claim  NumberOfCars  Year  BasePolicy  \\\n",
       "1146                none            no change     1 vehicle  1994  All Perils   \n",
       "\n",
       "         ClaimSize  \n",
       "1146  70530.646951  \n",
       "\n",
       "[1 rows x 34 columns]"
      ]
     },
     "execution_count": 61,
     "metadata": {},
     "output_type": "execute_result"
    }
   ],
   "source": [
    "# df_raw['MonthClaimed'][df_raw['MonthClaimed']== 0]\n",
    "df_raw.drop(df_raw[df_raw['MonthClaimed'].isna()])"
   ]
  },
  {
   "cell_type": "code",
   "execution_count": 15,
   "metadata": {},
   "outputs": [],
   "source": [
    "df, y, nas = proc_df(df_raw, 'FraudFound_P')"
   ]
  },
  {
   "cell_type": "code",
   "execution_count": 16,
   "metadata": {},
   "outputs": [
    {
     "data": {
      "text/html": [
       "<div>\n",
       "<style scoped>\n",
       "    .dataframe tbody tr th:only-of-type {\n",
       "        vertical-align: middle;\n",
       "    }\n",
       "\n",
       "    .dataframe tbody tr th {\n",
       "        vertical-align: top;\n",
       "    }\n",
       "\n",
       "    .dataframe thead th {\n",
       "        text-align: right;\n",
       "    }\n",
       "</style>\n",
       "<table border=\"1\" class=\"dataframe\">\n",
       "  <thead>\n",
       "    <tr style=\"text-align: right;\">\n",
       "      <th></th>\n",
       "      <th>Month</th>\n",
       "      <th>WeekOfMonth</th>\n",
       "      <th>DayOfWeek</th>\n",
       "      <th>Make</th>\n",
       "      <th>AccidentArea</th>\n",
       "      <th>DayOfWeekClaimed</th>\n",
       "      <th>MonthClaimed</th>\n",
       "      <th>WeekOfMonthClaimed</th>\n",
       "      <th>Sex</th>\n",
       "      <th>MaritalStatus</th>\n",
       "      <th>Age</th>\n",
       "      <th>Fault</th>\n",
       "      <th>PolicyType</th>\n",
       "      <th>VehicleCategory</th>\n",
       "      <th>VehiclePrice</th>\n",
       "      <th>PolicyNumber</th>\n",
       "      <th>RepNumber</th>\n",
       "      <th>Deductible</th>\n",
       "      <th>DriverRating</th>\n",
       "      <th>Days_Policy_Accident</th>\n",
       "      <th>Days_Policy_Claim</th>\n",
       "      <th>PastNumberOfClaims</th>\n",
       "      <th>AgeOfVehicle</th>\n",
       "      <th>AgeOfPolicyHolder</th>\n",
       "      <th>PoliceReportFiled</th>\n",
       "      <th>WitnessPresent</th>\n",
       "      <th>AgentType</th>\n",
       "      <th>NumberOfSuppliments</th>\n",
       "      <th>AddressChange_Claim</th>\n",
       "      <th>NumberOfCars</th>\n",
       "      <th>Year</th>\n",
       "      <th>BasePolicy</th>\n",
       "      <th>ClaimSize</th>\n",
       "      <th>Age_na</th>\n",
       "      <th>DriverRating_na</th>\n",
       "    </tr>\n",
       "  </thead>\n",
       "  <tbody>\n",
       "    <tr>\n",
       "      <th>0</th>\n",
       "      <td>12</td>\n",
       "      <td>5</td>\n",
       "      <td>3</td>\n",
       "      <td>7</td>\n",
       "      <td>2</td>\n",
       "      <td>2</td>\n",
       "      <td>1</td>\n",
       "      <td>1</td>\n",
       "      <td>1</td>\n",
       "      <td>3</td>\n",
       "      <td>21.0</td>\n",
       "      <td>1</td>\n",
       "      <td>6</td>\n",
       "      <td>2</td>\n",
       "      <td>6</td>\n",
       "      <td>1</td>\n",
       "      <td>12</td>\n",
       "      <td>300</td>\n",
       "      <td>1.0</td>\n",
       "      <td>4</td>\n",
       "      <td>3</td>\n",
       "      <td>4</td>\n",
       "      <td>2</td>\n",
       "      <td>4</td>\n",
       "      <td>1</td>\n",
       "      <td>1</td>\n",
       "      <td>1</td>\n",
       "      <td>4</td>\n",
       "      <td>1</td>\n",
       "      <td>3</td>\n",
       "      <td>1994</td>\n",
       "      <td>3</td>\n",
       "      <td>55526.069421</td>\n",
       "      <td>False</td>\n",
       "      <td>False</td>\n",
       "    </tr>\n",
       "    <tr>\n",
       "      <th>1</th>\n",
       "      <td>1</td>\n",
       "      <td>3</td>\n",
       "      <td>3</td>\n",
       "      <td>7</td>\n",
       "      <td>2</td>\n",
       "      <td>1</td>\n",
       "      <td>1</td>\n",
       "      <td>4</td>\n",
       "      <td>2</td>\n",
       "      <td>3</td>\n",
       "      <td>34.0</td>\n",
       "      <td>1</td>\n",
       "      <td>5</td>\n",
       "      <td>2</td>\n",
       "      <td>6</td>\n",
       "      <td>2</td>\n",
       "      <td>15</td>\n",
       "      <td>400</td>\n",
       "      <td>4.0</td>\n",
       "      <td>4</td>\n",
       "      <td>3</td>\n",
       "      <td>4</td>\n",
       "      <td>5</td>\n",
       "      <td>5</td>\n",
       "      <td>2</td>\n",
       "      <td>1</td>\n",
       "      <td>1</td>\n",
       "      <td>4</td>\n",
       "      <td>4</td>\n",
       "      <td>1</td>\n",
       "      <td>1994</td>\n",
       "      <td>2</td>\n",
       "      <td>59294.455571</td>\n",
       "      <td>False</td>\n",
       "      <td>False</td>\n",
       "    </tr>\n",
       "    <tr>\n",
       "      <th>2</th>\n",
       "      <td>10</td>\n",
       "      <td>5</td>\n",
       "      <td>5</td>\n",
       "      <td>7</td>\n",
       "      <td>2</td>\n",
       "      <td>4</td>\n",
       "      <td>11</td>\n",
       "      <td>2</td>\n",
       "      <td>2</td>\n",
       "      <td>2</td>\n",
       "      <td>47.0</td>\n",
       "      <td>1</td>\n",
       "      <td>5</td>\n",
       "      <td>2</td>\n",
       "      <td>6</td>\n",
       "      <td>3</td>\n",
       "      <td>7</td>\n",
       "      <td>400</td>\n",
       "      <td>3.0</td>\n",
       "      <td>4</td>\n",
       "      <td>3</td>\n",
       "      <td>1</td>\n",
       "      <td>6</td>\n",
       "      <td>7</td>\n",
       "      <td>1</td>\n",
       "      <td>1</td>\n",
       "      <td>1</td>\n",
       "      <td>4</td>\n",
       "      <td>4</td>\n",
       "      <td>1</td>\n",
       "      <td>1994</td>\n",
       "      <td>2</td>\n",
       "      <td>71756.941320</td>\n",
       "      <td>False</td>\n",
       "      <td>False</td>\n",
       "    </tr>\n",
       "    <tr>\n",
       "      <th>3</th>\n",
       "      <td>6</td>\n",
       "      <td>2</td>\n",
       "      <td>6</td>\n",
       "      <td>18</td>\n",
       "      <td>1</td>\n",
       "      <td>5</td>\n",
       "      <td>7</td>\n",
       "      <td>1</td>\n",
       "      <td>2</td>\n",
       "      <td>2</td>\n",
       "      <td>65.0</td>\n",
       "      <td>2</td>\n",
       "      <td>3</td>\n",
       "      <td>2</td>\n",
       "      <td>1</td>\n",
       "      <td>4</td>\n",
       "      <td>4</td>\n",
       "      <td>400</td>\n",
       "      <td>2.0</td>\n",
       "      <td>4</td>\n",
       "      <td>3</td>\n",
       "      <td>1</td>\n",
       "      <td>7</td>\n",
       "      <td>8</td>\n",
       "      <td>2</td>\n",
       "      <td>1</td>\n",
       "      <td>1</td>\n",
       "      <td>3</td>\n",
       "      <td>4</td>\n",
       "      <td>1</td>\n",
       "      <td>1994</td>\n",
       "      <td>3</td>\n",
       "      <td>7584.153493</td>\n",
       "      <td>False</td>\n",
       "      <td>False</td>\n",
       "    </tr>\n",
       "    <tr>\n",
       "      <th>4</th>\n",
       "      <td>2</td>\n",
       "      <td>1</td>\n",
       "      <td>6</td>\n",
       "      <td>7</td>\n",
       "      <td>2</td>\n",
       "      <td>1</td>\n",
       "      <td>2</td>\n",
       "      <td>3</td>\n",
       "      <td>2</td>\n",
       "      <td>2</td>\n",
       "      <td>36.0</td>\n",
       "      <td>2</td>\n",
       "      <td>5</td>\n",
       "      <td>2</td>\n",
       "      <td>6</td>\n",
       "      <td>7</td>\n",
       "      <td>14</td>\n",
       "      <td>400</td>\n",
       "      <td>1.0</td>\n",
       "      <td>4</td>\n",
       "      <td>3</td>\n",
       "      <td>1</td>\n",
       "      <td>6</td>\n",
       "      <td>6</td>\n",
       "      <td>1</td>\n",
       "      <td>1</td>\n",
       "      <td>1</td>\n",
       "      <td>1</td>\n",
       "      <td>4</td>\n",
       "      <td>1</td>\n",
       "      <td>1994</td>\n",
       "      <td>2</td>\n",
       "      <td>98545.374339</td>\n",
       "      <td>False</td>\n",
       "      <td>False</td>\n",
       "    </tr>\n",
       "  </tbody>\n",
       "</table>\n",
       "</div>"
      ],
      "text/plain": [
       "   Month  WeekOfMonth  DayOfWeek  Make  AccidentArea  DayOfWeekClaimed  \\\n",
       "0     12            5          3     7             2                 2   \n",
       "1      1            3          3     7             2                 1   \n",
       "2     10            5          5     7             2                 4   \n",
       "3      6            2          6    18             1                 5   \n",
       "4      2            1          6     7             2                 1   \n",
       "\n",
       "   MonthClaimed  WeekOfMonthClaimed  Sex  MaritalStatus   Age  Fault  \\\n",
       "0             1                   1    1              3  21.0      1   \n",
       "1             1                   4    2              3  34.0      1   \n",
       "2            11                   2    2              2  47.0      1   \n",
       "3             7                   1    2              2  65.0      2   \n",
       "4             2                   3    2              2  36.0      2   \n",
       "\n",
       "   PolicyType  VehicleCategory  VehiclePrice  PolicyNumber  RepNumber  \\\n",
       "0           6                2             6             1         12   \n",
       "1           5                2             6             2         15   \n",
       "2           5                2             6             3          7   \n",
       "3           3                2             1             4          4   \n",
       "4           5                2             6             7         14   \n",
       "\n",
       "   Deductible  DriverRating  Days_Policy_Accident  Days_Policy_Claim  \\\n",
       "0         300           1.0                     4                  3   \n",
       "1         400           4.0                     4                  3   \n",
       "2         400           3.0                     4                  3   \n",
       "3         400           2.0                     4                  3   \n",
       "4         400           1.0                     4                  3   \n",
       "\n",
       "   PastNumberOfClaims  AgeOfVehicle  AgeOfPolicyHolder  PoliceReportFiled  \\\n",
       "0                   4             2                  4                  1   \n",
       "1                   4             5                  5                  2   \n",
       "2                   1             6                  7                  1   \n",
       "3                   1             7                  8                  2   \n",
       "4                   1             6                  6                  1   \n",
       "\n",
       "   WitnessPresent  AgentType  NumberOfSuppliments  AddressChange_Claim  \\\n",
       "0               1          1                    4                    1   \n",
       "1               1          1                    4                    4   \n",
       "2               1          1                    4                    4   \n",
       "3               1          1                    3                    4   \n",
       "4               1          1                    1                    4   \n",
       "\n",
       "   NumberOfCars  Year  BasePolicy     ClaimSize  Age_na  DriverRating_na  \n",
       "0             3  1994           3  55526.069421   False            False  \n",
       "1             1  1994           2  59294.455571   False            False  \n",
       "2             1  1994           2  71756.941320   False            False  \n",
       "3             1  1994           3   7584.153493   False            False  \n",
       "4             1  1994           2  98545.374339   False            False  "
      ]
     },
     "metadata": {},
     "output_type": "display_data"
    }
   ],
   "source": [
    "display_all(df.head())"
   ]
  },
  {
   "cell_type": "code",
   "execution_count": 18,
   "metadata": {},
   "outputs": [],
   "source": [
    "m = RandomForestClassifier()\n",
    "\n",
    "m.fit(df, y)\n",
    "\n",
    "m.score(df, y)"
   ]
  },
  {
   "cell_type": "code",
   "execution_count": 19,
   "metadata": {},
   "outputs": [],
   "source": [
    "X_train, X_valid, y_train, y_valid = train_test_split(df, y, random_state = 0, test_size=0.15)"
   ]
  },
  {
   "cell_type": "code",
   "execution_count": 20,
   "metadata": {},
   "outputs": [
    {
     "data": {
      "text/plain": [
       "((9830, 35), (1735, 35))"
      ]
     },
     "execution_count": 20,
     "metadata": {},
     "output_type": "execute_result"
    }
   ],
   "source": [
    "X_train.shape, X_valid.shape"
   ]
  },
  {
   "cell_type": "code",
   "execution_count": 21,
   "metadata": {},
   "outputs": [],
   "source": [
    "def error(x,y):\n",
    "    print(confusion_matrix(x, y))\n",
    "    print(f1_score(x, y))\n",
    "    print(classification_report(x, y))\n",
    "    \n",
    "def print_score(m):\n",
    "    res = [error(m.predict(X_train), y_train),\n",
    "           error(m.predict(X_valid), y_valid),\n",
    "           m.score(X_train, y_train), m.score(X_valid, y_valid)]\n",
    "    if hasattr(m, 'oob_score_'): res.append(m.oob_score_)\n",
    "#     print(res[2:])"
   ]
  },
  {
   "cell_type": "code",
   "execution_count": 22,
   "metadata": {},
   "outputs": [
    {
     "name": "stdout",
     "output_type": "stream",
     "text": [
      "[[9210  131]\n",
      " [  29  460]]\n",
      "0.8518518518518517\n",
      "              precision    recall  f1-score   support\n",
      "\n",
      "           0       1.00      0.99      0.99      9341\n",
      "           1       0.78      0.94      0.85       489\n",
      "\n",
      "   micro avg       0.98      0.98      0.98      9830\n",
      "   macro avg       0.89      0.96      0.92      9830\n",
      "weighted avg       0.99      0.98      0.98      9830\n",
      "\n",
      "[[1599   78]\n",
      " [  42   16]]\n",
      "0.21052631578947364\n",
      "              precision    recall  f1-score   support\n",
      "\n",
      "           0       0.97      0.95      0.96      1677\n",
      "           1       0.17      0.28      0.21        58\n",
      "\n",
      "   micro avg       0.93      0.93      0.93      1735\n",
      "   macro avg       0.57      0.61      0.59      1735\n",
      "weighted avg       0.95      0.93      0.94      1735\n",
      "\n"
     ]
    }
   ],
   "source": [
    "m = RandomForestClassifier(n_estimators=3, n_jobs=-1, max_features=0.5)\n",
    "\n",
    "m.fit(X_train, y_train)\n",
    "print_score(m)"
   ]
  },
  {
   "cell_type": "code",
   "execution_count": 23,
   "metadata": {},
   "outputs": [
    {
     "data": {
      "text/html": [
       "<div>\n",
       "<style scoped>\n",
       "    .dataframe tbody tr th:only-of-type {\n",
       "        vertical-align: middle;\n",
       "    }\n",
       "\n",
       "    .dataframe tbody tr th {\n",
       "        vertical-align: top;\n",
       "    }\n",
       "\n",
       "    .dataframe thead th {\n",
       "        text-align: right;\n",
       "    }\n",
       "</style>\n",
       "<table border=\"1\" class=\"dataframe\">\n",
       "  <thead>\n",
       "    <tr style=\"text-align: right;\">\n",
       "      <th></th>\n",
       "      <th>cols</th>\n",
       "      <th>imp</th>\n",
       "    </tr>\n",
       "  </thead>\n",
       "  <tbody>\n",
       "    <tr>\n",
       "      <th>15</th>\n",
       "      <td>PolicyNumber</td>\n",
       "      <td>0.147362</td>\n",
       "    </tr>\n",
       "    <tr>\n",
       "      <th>32</th>\n",
       "      <td>ClaimSize</td>\n",
       "      <td>0.089541</td>\n",
       "    </tr>\n",
       "    <tr>\n",
       "      <th>10</th>\n",
       "      <td>Age</td>\n",
       "      <td>0.069940</td>\n",
       "    </tr>\n",
       "    <tr>\n",
       "      <th>6</th>\n",
       "      <td>MonthClaimed</td>\n",
       "      <td>0.060964</td>\n",
       "    </tr>\n",
       "    <tr>\n",
       "      <th>16</th>\n",
       "      <td>RepNumber</td>\n",
       "      <td>0.057858</td>\n",
       "    </tr>\n",
       "    <tr>\n",
       "      <th>0</th>\n",
       "      <td>Month</td>\n",
       "      <td>0.050805</td>\n",
       "    </tr>\n",
       "    <tr>\n",
       "      <th>2</th>\n",
       "      <td>DayOfWeek</td>\n",
       "      <td>0.047481</td>\n",
       "    </tr>\n",
       "    <tr>\n",
       "      <th>3</th>\n",
       "      <td>Make</td>\n",
       "      <td>0.046445</td>\n",
       "    </tr>\n",
       "    <tr>\n",
       "      <th>11</th>\n",
       "      <td>Fault</td>\n",
       "      <td>0.036635</td>\n",
       "    </tr>\n",
       "    <tr>\n",
       "      <th>5</th>\n",
       "      <td>DayOfWeekClaimed</td>\n",
       "      <td>0.032307</td>\n",
       "    </tr>\n",
       "  </tbody>\n",
       "</table>\n",
       "</div>"
      ],
      "text/plain": [
       "                cols       imp\n",
       "15      PolicyNumber  0.147362\n",
       "32         ClaimSize  0.089541\n",
       "10               Age  0.069940\n",
       "6       MonthClaimed  0.060964\n",
       "16         RepNumber  0.057858\n",
       "0              Month  0.050805\n",
       "2          DayOfWeek  0.047481\n",
       "3               Make  0.046445\n",
       "11             Fault  0.036635\n",
       "5   DayOfWeekClaimed  0.032307"
      ]
     },
     "execution_count": 23,
     "metadata": {},
     "output_type": "execute_result"
    }
   ],
   "source": [
    "fi = rf_feat_importance(m, df); fi[:10]"
   ]
  },
  {
   "cell_type": "code",
   "execution_count": 24,
   "metadata": {},
   "outputs": [
    {
     "data": {
      "image/png": "[encoded data removed]",
      "text/plain": [
       "<Figure size 864x504 with 1 Axes>"
      ]
     },
     "metadata": {
      "needs_background": "light"
     },
     "output_type": "display_data"
    }
   ],
   "source": [
    "def plot_fi(fi): \n",
    "    return fi.plot('cols','imp','barh', figsize=(12,7), legend=False)\n",
    "plot_fi(fi[:30]);"
   ]
  },
  {
   "cell_type": "code",
   "execution_count": 25,
   "metadata": {},
   "outputs": [
    {
     "name": "stdout",
     "output_type": "stream",
     "text": [
      "[[9200  121]\n",
      " [  39  470]]\n",
      "0.8545454545454546\n",
      "              precision    recall  f1-score   support\n",
      "\n",
      "           0       1.00      0.99      0.99      9321\n",
      "           1       0.80      0.92      0.85       509\n",
      "\n",
      "   micro avg       0.98      0.98      0.98      9830\n",
      "   macro avg       0.90      0.96      0.92      9830\n",
      "weighted avg       0.99      0.98      0.98      9830\n",
      "\n",
      "[[1586   81]\n",
      " [  55   13]]\n",
      "0.1604938271604938\n",
      "              precision    recall  f1-score   support\n",
      "\n",
      "           0       0.97      0.95      0.96      1667\n",
      "           1       0.14      0.19      0.16        68\n",
      "\n",
      "   micro avg       0.92      0.92      0.92      1735\n",
      "   macro avg       0.55      0.57      0.56      1735\n",
      "weighted avg       0.93      0.92      0.93      1735\n",
      "\n",
      "[None, None, 0.9837232960325534, 0.9216138328530259]\n"
     ]
    }
   ],
   "source": [
    "m = RandomForestClassifier(n_estimators=3, n_jobs=-1, max_features=0.5)\n",
    "m.fit(X_train.drop('PolicyNumber', axis=1), y_train)\n",
    "res = [error(m.predict(X_train.drop('PolicyNumber', axis=1)), y_train),\n",
    "           error(m.predict(X_valid.drop('PolicyNumber', axis=1)), y_valid),\n",
    "           m.score(X_train.drop('PolicyNumber', axis=1), y_train), m.score(X_valid.drop('PolicyNumber', axis=1), y_valid)]\n",
    "print(res)"
   ]
  },
  {
   "cell_type": "code",
   "execution_count": 26,
   "metadata": {},
   "outputs": [
    {
     "data": {
      "image/png": "[encoded data removed]",
      "text/plain": [
       "<Figure size 864x504 with 1 Axes>"
      ]
     },
     "metadata": {
      "needs_background": "light"
     },
     "output_type": "display_data"
    }
   ],
   "source": [
    "fi = rf_feat_importance(m, df.drop('PolicyNumber', axis=1))\n",
    "plot_fi(fi[:30]);"
   ]
  },
  {
   "cell_type": "code",
   "execution_count": 27,
   "metadata": {},
   "outputs": [
    {
     "data": {
      "text/plain": [
       "RandomForestClassifier(bootstrap=True, class_weight=None, criterion='gini',\n",
       "            max_depth=3, max_features='auto', max_leaf_nodes=None,\n",
       "            min_impurity_decrease=0.0, min_impurity_split=None,\n",
       "            min_samples_leaf=1, min_samples_split=2,\n",
       "            min_weight_fraction_leaf=0.0, n_estimators=1, n_jobs=-1,\n",
       "            oob_score=False, random_state=None, verbose=0,\n",
       "            warm_start=False)"
      ]
     },
     "execution_count": 27,
     "metadata": {},
     "output_type": "execute_result"
    }
   ],
   "source": [
    "m = RandomForestClassifier(n_estimators=1, n_jobs=-1, max_depth=3)\n",
    "m.fit(X_train, y_train)"
   ]
  },
  {
   "cell_type": "code",
   "execution_count": 28,
   "metadata": {},
   "outputs": [
    {
     "data": {
      "image/svg+xml": [
       "<?xml version=\"1.0\" encoding=\"UTF-8\" standalone=\"no\"?>\n",
       "<!DOCTYPE svg PUBLIC \"-//W3C//DTD SVG 1.1//EN\"\n",
       " \"http://www.w3.org/Graphics/SVG/1.1/DTD/svg11.dtd\">\n",
       "<!-- Generated by graphviz version 2.40.1 (20161225.0304)\n",
       " -->\n",
       "<!-- Title: Tree Pages: 1 -->\n",
       "<svg width=\"720pt\" height=\"434pt\"\n",
       " viewBox=\"0.00 0.00 720.00 434.49\" xmlns=\"http://www.w3.org/2000/svg\" xmlns:xlink=\"http://www.w3.org/1999/xlink\">\n",
       "<g id=\"graph0\" class=\"graph\" transform=\"scale(.7787 .7787) rotate(0) translate(4 554)\">\n",
       "<title>Tree</title>\n",
       "<polygon fill=\"#ffffff\" stroke=\"transparent\" points=\"-4,4 -4,-554 920.6667,-554 920.6667,4 -4,4\"/>\n",
       "<!-- 0 -->\n",
       "<g id=\"node1\" class=\"node\">\n",
       "<title>0</title>\n",
       "<polygon fill=\"#e58139\" fill-opacity=\"0.937255\" stroke=\"#000000\" points=\"192.6667,-336.5 22.6667,-336.5 22.6667,-268.5 192.6667,-268.5 192.6667,-336.5\"/>\n",
       "<text text-anchor=\"start\" x=\"30.6667\" y=\"-321.3\" font-family=\"Times,serif\" font-size=\"14.00\" fill=\"#000000\">PastNumberOfClaims ≤ 3.5</text>\n",
       "<text text-anchor=\"start\" x=\"73.6667\" y=\"-306.3\" font-family=\"Times,serif\" font-size=\"14.00\" fill=\"#000000\">gini = 0.113</text>\n",
       "<text text-anchor=\"start\" x=\"63.6667\" y=\"-291.3\" font-family=\"Times,serif\" font-size=\"14.00\" fill=\"#000000\">samples = 6160</text>\n",
       "<text text-anchor=\"start\" x=\"53.1667\" y=\"-276.3\" font-family=\"Times,serif\" font-size=\"14.00\" fill=\"#000000\">value = [9237, 593]</text>\n",
       "</g>\n",
       "<!-- 1 -->\n",
       "<g id=\"node2\" class=\"node\">\n",
       "<title>1</title>\n",
       "<polygon fill=\"#e58139\" fill-opacity=\"0.945098\" stroke=\"#000000\" points=\"421.1667,-372.5 280.1667,-372.5 280.1667,-304.5 421.1667,-304.5 421.1667,-372.5\"/>\n",
       "<text text-anchor=\"start\" x=\"288.1667\" y=\"-357.3\" font-family=\"Times,serif\" font-size=\"14.00\" fill=\"#000000\">VehicleCategory ≤ 1.5</text>\n",
       "<text text-anchor=\"start\" x=\"316.6667\" y=\"-342.3\" font-family=\"Times,serif\" font-size=\"14.00\" fill=\"#000000\">gini = 0.098</text>\n",
       "<text text-anchor=\"start\" x=\"306.6667\" y=\"-327.3\" font-family=\"Times,serif\" font-size=\"14.00\" fill=\"#000000\">samples = 4386</text>\n",
       "<text text-anchor=\"start\" x=\"296.1667\" y=\"-312.3\" font-family=\"Times,serif\" font-size=\"14.00\" fill=\"#000000\">value = [6616, 359]</text>\n",
       "</g>\n",
       "<!-- 0&#45;&gt;1 -->\n",
       "<g id=\"edge1\" class=\"edge\">\n",
       "<title>0&#45;&gt;1</title>\n",
       "<path fill=\"none\" stroke=\"#000000\" d=\"M192.9977,-315.1416C217.998,-318.8454 245.2464,-322.8822 269.9501,-326.542\"/>\n",
       "<polygon fill=\"#000000\" stroke=\"#000000\" points=\"269.5986,-330.028 280.0035,-328.0314 270.6245,-323.1036 269.5986,-330.028\"/>\n",
       "<text text-anchor=\"middle\" x=\"259.9261\" y=\"-339.2276\" font-family=\"Times,serif\" font-size=\"14.00\" fill=\"#000000\">True</text>\n",
       "</g>\n",
       "<!-- 8 -->\n",
       "<g id=\"node9\" class=\"node\">\n",
       "<title>8</title>\n",
       "<polygon fill=\"#e58139\" fill-opacity=\"0.909804\" stroke=\"#000000\" points=\"413.1667,-245.5 288.1667,-245.5 288.1667,-177.5 413.1667,-177.5 413.1667,-245.5\"/>\n",
       "<text text-anchor=\"start\" x=\"302.6667\" y=\"-230.3\" font-family=\"Times,serif\" font-size=\"14.00\" fill=\"#000000\">PolicyType ≤ 4.5</text>\n",
       "<text text-anchor=\"start\" x=\"320.1667\" y=\"-215.3\" font-family=\"Times,serif\" font-size=\"14.00\" fill=\"#000000\">gini = 0.15</text>\n",
       "<text text-anchor=\"start\" x=\"306.6667\" y=\"-200.3\" font-family=\"Times,serif\" font-size=\"14.00\" fill=\"#000000\">samples = 1774</text>\n",
       "<text text-anchor=\"start\" x=\"296.1667\" y=\"-185.3\" font-family=\"Times,serif\" font-size=\"14.00\" fill=\"#000000\">value = [2621, 234]</text>\n",
       "</g>\n",
       "<!-- 0&#45;&gt;8 -->\n",
       "<g id=\"edge8\" class=\"edge\">\n",
       "<title>0&#45;&gt;8</title>\n",
       "<path fill=\"none\" stroke=\"#000000\" d=\"M192.9977,-270.5448C220.8891,-260.0998 251.5785,-248.6071 278.4109,-238.5587\"/>\n",
       "<polygon fill=\"#000000\" stroke=\"#000000\" points=\"279.9723,-241.7115 288.1097,-234.9267 277.5174,-235.156 279.9723,-241.7115\"/>\n",
       "<text text-anchor=\"middle\" x=\"265.3552\" y=\"-220.8713\" font-family=\"Times,serif\" font-size=\"14.00\" fill=\"#000000\">False</text>\n",
       "</g>\n",
       "<!-- 2 -->\n",
       "<g id=\"node3\" class=\"node\">\n",
       "<title>2</title>\n",
       "<polygon fill=\"#e58139\" fill-opacity=\"0.909804\" stroke=\"#000000\" points=\"661.1667,-486.5 536.1667,-486.5 536.1667,-418.5 661.1667,-418.5 661.1667,-486.5\"/>\n",
       "<text text-anchor=\"start\" x=\"550.6667\" y=\"-471.3\" font-family=\"Times,serif\" font-size=\"14.00\" fill=\"#000000\">PolicyType ≤ 1.5</text>\n",
       "<text text-anchor=\"start\" x=\"568.1667\" y=\"-456.3\" font-family=\"Times,serif\" font-size=\"14.00\" fill=\"#000000\">gini = 0.15</text>\n",
       "<text text-anchor=\"start\" x=\"554.6667\" y=\"-441.3\" font-family=\"Times,serif\" font-size=\"14.00\" fill=\"#000000\">samples = 2471</text>\n",
       "<text text-anchor=\"start\" x=\"544.1667\" y=\"-426.3\" font-family=\"Times,serif\" font-size=\"14.00\" fill=\"#000000\">value = [3590, 319]</text>\n",
       "</g>\n",
       "<!-- 1&#45;&gt;2 -->\n",
       "<g id=\"edge2\" class=\"edge\">\n",
       "<title>1&#45;&gt;2</title>\n",
       "<path fill=\"none\" stroke=\"#000000\" d=\"M421.4016,-371.0153C454.3795,-386.1744 493.5632,-404.1863 526.694,-419.4158\"/>\n",
       "<polygon fill=\"#000000\" stroke=\"#000000\" points=\"525.3201,-422.6363 535.8679,-423.6328 528.2438,-416.276 525.3201,-422.6363\"/>\n",
       "</g>\n",
       "<!-- 5 -->\n",
       "<g id=\"node6\" class=\"node\">\n",
       "<title>5</title>\n",
       "<polygon fill=\"#e58139\" fill-opacity=\"0.988235\" stroke=\"#000000\" points=\"688.1667,-372.5 509.1667,-372.5 509.1667,-304.5 688.1667,-304.5 688.1667,-372.5\"/>\n",
       "<text text-anchor=\"start\" x=\"517.1667\" y=\"-357.3\" font-family=\"Times,serif\" font-size=\"14.00\" fill=\"#000000\">WeekOfMonthClaimed ≤ 1.5</text>\n",
       "<text text-anchor=\"start\" x=\"564.6667\" y=\"-342.3\" font-family=\"Times,serif\" font-size=\"14.00\" fill=\"#000000\">gini = 0.026</text>\n",
       "<text text-anchor=\"start\" x=\"554.6667\" y=\"-327.3\" font-family=\"Times,serif\" font-size=\"14.00\" fill=\"#000000\">samples = 1915</text>\n",
       "<text text-anchor=\"start\" x=\"547.1667\" y=\"-312.3\" font-family=\"Times,serif\" font-size=\"14.00\" fill=\"#000000\">value = [3026, 40]</text>\n",
       "</g>\n",
       "<!-- 1&#45;&gt;5 -->\n",
       "<g id=\"edge5\" class=\"edge\">\n",
       "<title>1&#45;&gt;5</title>\n",
       "<path fill=\"none\" stroke=\"#000000\" d=\"M421.4016,-338.5C445.4158,-338.5 472.7207,-338.5 498.5829,-338.5\"/>\n",
       "<polygon fill=\"#000000\" stroke=\"#000000\" points=\"498.7947,-342.0001 508.7947,-338.5 498.7946,-335.0001 498.7947,-342.0001\"/>\n",
       "</g>\n",
       "<!-- 3 -->\n",
       "<g id=\"node4\" class=\"node\">\n",
       "<title>3</title>\n",
       "<polygon fill=\"#e58139\" fill-opacity=\"0.886275\" stroke=\"#000000\" points=\"900.1667,-550 775.1667,-550 775.1667,-497 900.1667,-497 900.1667,-550\"/>\n",
       "<text text-anchor=\"start\" x=\"803.6667\" y=\"-534.8\" font-family=\"Times,serif\" font-size=\"14.00\" fill=\"#000000\">gini = 0.184</text>\n",
       "<text text-anchor=\"start\" x=\"797.1667\" y=\"-519.8\" font-family=\"Times,serif\" font-size=\"14.00\" fill=\"#000000\">samples = 897</text>\n",
       "<text text-anchor=\"start\" x=\"783.1667\" y=\"-504.8\" font-family=\"Times,serif\" font-size=\"14.00\" fill=\"#000000\">value = [1268, 145]</text>\n",
       "</g>\n",
       "<!-- 2&#45;&gt;3 -->\n",
       "<g id=\"edge3\" class=\"edge\">\n",
       "<title>2&#45;&gt;3</title>\n",
       "<path fill=\"none\" stroke=\"#000000\" d=\"M661.4611,-471.1544C693.3083,-480.6153 732.1504,-492.1542 765.2539,-501.9883\"/>\n",
       "<polygon fill=\"#000000\" stroke=\"#000000\" points=\"764.2944,-505.3543 774.8771,-504.847 766.2879,-498.6442 764.2944,-505.3543\"/>\n",
       "</g>\n",
       "<!-- 4 -->\n",
       "<g id=\"node5\" class=\"node\">\n",
       "<title>4</title>\n",
       "<polygon fill=\"#e58139\" fill-opacity=\"0.925490\" stroke=\"#000000\" points=\"900.1667,-479 775.1667,-479 775.1667,-426 900.1667,-426 900.1667,-479\"/>\n",
       "<text text-anchor=\"start\" x=\"807.1667\" y=\"-463.8\" font-family=\"Times,serif\" font-size=\"14.00\" fill=\"#000000\">gini = 0.13</text>\n",
       "<text text-anchor=\"start\" x=\"793.6667\" y=\"-448.8\" font-family=\"Times,serif\" font-size=\"14.00\" fill=\"#000000\">samples = 1574</text>\n",
       "<text text-anchor=\"start\" x=\"783.1667\" y=\"-433.8\" font-family=\"Times,serif\" font-size=\"14.00\" fill=\"#000000\">value = [2322, 174]</text>\n",
       "</g>\n",
       "<!-- 2&#45;&gt;4 -->\n",
       "<g id=\"edge4\" class=\"edge\">\n",
       "<title>2&#45;&gt;4</title>\n",
       "<path fill=\"none\" stroke=\"#000000\" d=\"M661.4611,-452.5C693.1716,-452.5 731.8172,-452.5 764.8274,-452.5\"/>\n",
       "<polygon fill=\"#000000\" stroke=\"#000000\" points=\"764.8771,-456.0001 774.8771,-452.5 764.8771,-449.0001 764.8771,-456.0001\"/>\n",
       "</g>\n",
       "<!-- 6 -->\n",
       "<g id=\"node7\" class=\"node\">\n",
       "<title>6</title>\n",
       "<polygon fill=\"#e58139\" fill-opacity=\"0.976471\" stroke=\"#000000\" points=\"893.6667,-408 781.6667,-408 781.6667,-355 893.6667,-355 893.6667,-408\"/>\n",
       "<text text-anchor=\"start\" x=\"803.6667\" y=\"-392.8\" font-family=\"Times,serif\" font-size=\"14.00\" fill=\"#000000\">gini = 0.044</text>\n",
       "<text text-anchor=\"start\" x=\"797.1667\" y=\"-377.8\" font-family=\"Times,serif\" font-size=\"14.00\" fill=\"#000000\">samples = 434</text>\n",
       "<text text-anchor=\"start\" x=\"789.6667\" y=\"-362.8\" font-family=\"Times,serif\" font-size=\"14.00\" fill=\"#000000\">value = [699, 16]</text>\n",
       "</g>\n",
       "<!-- 5&#45;&gt;6 -->\n",
       "<g id=\"edge6\" class=\"edge\">\n",
       "<title>5&#45;&gt;6</title>\n",
       "<path fill=\"none\" stroke=\"#000000\" d=\"M688.3414,-354.634C715.9377,-359.599 745.801,-364.9719 771.5167,-369.5985\"/>\n",
       "<polygon fill=\"#000000\" stroke=\"#000000\" points=\"771.0615,-373.0728 781.5233,-371.3989 772.3011,-366.1834 771.0615,-373.0728\"/>\n",
       "</g>\n",
       "<!-- 7 -->\n",
       "<g id=\"node8\" class=\"node\">\n",
       "<title>7</title>\n",
       "<polygon fill=\"#e58139\" fill-opacity=\"0.988235\" stroke=\"#000000\" points=\"897.1667,-337 778.1667,-337 778.1667,-284 897.1667,-284 897.1667,-337\"/>\n",
       "<text text-anchor=\"start\" x=\"807.1667\" y=\"-321.8\" font-family=\"Times,serif\" font-size=\"14.00\" fill=\"#000000\">gini = 0.02</text>\n",
       "<text text-anchor=\"start\" x=\"793.6667\" y=\"-306.8\" font-family=\"Times,serif\" font-size=\"14.00\" fill=\"#000000\">samples = 1481</text>\n",
       "<text text-anchor=\"start\" x=\"786.1667\" y=\"-291.8\" font-family=\"Times,serif\" font-size=\"14.00\" fill=\"#000000\">value = [2327, 24]</text>\n",
       "</g>\n",
       "<!-- 5&#45;&gt;7 -->\n",
       "<g id=\"edge7\" class=\"edge\">\n",
       "<title>5&#45;&gt;7</title>\n",
       "<path fill=\"none\" stroke=\"#000000\" d=\"M688.3414,-327.9942C714.6514,-324.9118 743.022,-321.5881 767.8945,-318.6741\"/>\n",
       "<polygon fill=\"#000000\" stroke=\"#000000\" points=\"768.4366,-322.1347 777.9614,-317.4948 767.622,-315.1822 768.4366,-322.1347\"/>\n",
       "</g>\n",
       "<!-- 9 -->\n",
       "<g id=\"node10\" class=\"node\">\n",
       "<title>9</title>\n",
       "<polygon fill=\"#e58139\" fill-opacity=\"0.921569\" stroke=\"#000000\" points=\"686.6667,-245.5 510.6667,-245.5 510.6667,-177.5 686.6667,-177.5 686.6667,-245.5\"/>\n",
       "<text text-anchor=\"start\" x=\"518.6667\" y=\"-230.3\" font-family=\"Times,serif\" font-size=\"14.00\" fill=\"#000000\">AddressChange_Claim ≤ 2.5</text>\n",
       "<text text-anchor=\"start\" x=\"564.6667\" y=\"-215.3\" font-family=\"Times,serif\" font-size=\"14.00\" fill=\"#000000\">gini = 0.135</text>\n",
       "<text text-anchor=\"start\" x=\"554.6667\" y=\"-200.3\" font-family=\"Times,serif\" font-size=\"14.00\" fill=\"#000000\">samples = 1649</text>\n",
       "<text text-anchor=\"start\" x=\"544.1667\" y=\"-185.3\" font-family=\"Times,serif\" font-size=\"14.00\" fill=\"#000000\">value = [2463, 194]</text>\n",
       "</g>\n",
       "<!-- 8&#45;&gt;9 -->\n",
       "<g id=\"edge9\" class=\"edge\">\n",
       "<title>8&#45;&gt;9</title>\n",
       "<path fill=\"none\" stroke=\"#000000\" d=\"M413.2475,-211.5C439.561,-211.5 470.811,-211.5 500.086,-211.5\"/>\n",
       "<polygon fill=\"#000000\" stroke=\"#000000\" points=\"500.3472,-215.0001 510.3472,-211.5 500.3472,-208.0001 500.3472,-215.0001\"/>\n",
       "</g>\n",
       "<!-- 12 -->\n",
       "<g id=\"node13\" class=\"node\">\n",
       "<title>12</title>\n",
       "<polygon fill=\"#e58139\" fill-opacity=\"0.745098\" stroke=\"#000000\" points=\"658.1667,-131.5 539.1667,-131.5 539.1667,-63.5 658.1667,-63.5 658.1667,-131.5\"/>\n",
       "<text text-anchor=\"start\" x=\"547.1667\" y=\"-116.3\" font-family=\"Times,serif\" font-size=\"14.00\" fill=\"#000000\">DayOfWeek ≤ 5.5</text>\n",
       "<text text-anchor=\"start\" x=\"564.6667\" y=\"-101.3\" font-family=\"Times,serif\" font-size=\"14.00\" fill=\"#000000\">gini = 0.322</text>\n",
       "<text text-anchor=\"start\" x=\"558.1667\" y=\"-86.3\" font-family=\"Times,serif\" font-size=\"14.00\" fill=\"#000000\">samples = 125</text>\n",
       "<text text-anchor=\"start\" x=\"550.6667\" y=\"-71.3\" font-family=\"Times,serif\" font-size=\"14.00\" fill=\"#000000\">value = [158, 40]</text>\n",
       "</g>\n",
       "<!-- 8&#45;&gt;12 -->\n",
       "<g id=\"edge12\" class=\"edge\">\n",
       "<title>8&#45;&gt;12</title>\n",
       "<path fill=\"none\" stroke=\"#000000\" d=\"M413.2475,-182.733C448.8313,-166.3759 493.4429,-145.869 529.9895,-129.0693\"/>\n",
       "<polygon fill=\"#000000\" stroke=\"#000000\" points=\"531.4727,-132.2397 539.0969,-124.8829 528.549,-125.8795 531.4727,-132.2397\"/>\n",
       "</g>\n",
       "<!-- 10 -->\n",
       "<g id=\"node11\" class=\"node\">\n",
       "<title>10</title>\n",
       "<polygon fill=\"#e58139\" fill-opacity=\"0.741176\" stroke=\"#000000\" points=\"890.1667,-266 785.1667,-266 785.1667,-213 890.1667,-213 890.1667,-266\"/>\n",
       "<text text-anchor=\"start\" x=\"803.6667\" y=\"-250.8\" font-family=\"Times,serif\" font-size=\"14.00\" fill=\"#000000\">gini = 0.327</text>\n",
       "<text text-anchor=\"start\" x=\"800.6667\" y=\"-235.8\" font-family=\"Times,serif\" font-size=\"14.00\" fill=\"#000000\">samples = 47</text>\n",
       "<text text-anchor=\"start\" x=\"793.1667\" y=\"-220.8\" font-family=\"Times,serif\" font-size=\"14.00\" fill=\"#000000\">value = [54, 14]</text>\n",
       "</g>\n",
       "<!-- 9&#45;&gt;10 -->\n",
       "<g id=\"edge10\" class=\"edge\">\n",
       "<title>9&#45;&gt;10</title>\n",
       "<path fill=\"none\" stroke=\"#000000\" d=\"M686.9824,-221.8466C716.224,-225.2724 748.1441,-229.012 775.0476,-232.1639\"/>\n",
       "<polygon fill=\"#000000\" stroke=\"#000000\" points=\"774.7576,-235.6538 785.097,-233.3412 775.5722,-228.7013 774.7576,-235.6538\"/>\n",
       "</g>\n",
       "<!-- 11 -->\n",
       "<g id=\"node12\" class=\"node\">\n",
       "<title>11</title>\n",
       "<polygon fill=\"#e58139\" fill-opacity=\"0.925490\" stroke=\"#000000\" points=\"900.1667,-195 775.1667,-195 775.1667,-142 900.1667,-142 900.1667,-195\"/>\n",
       "<text text-anchor=\"start\" x=\"803.6667\" y=\"-179.8\" font-family=\"Times,serif\" font-size=\"14.00\" fill=\"#000000\">gini = 0.129</text>\n",
       "<text text-anchor=\"start\" x=\"793.6667\" y=\"-164.8\" font-family=\"Times,serif\" font-size=\"14.00\" fill=\"#000000\">samples = 1602</text>\n",
       "<text text-anchor=\"start\" x=\"783.1667\" y=\"-149.8\" font-family=\"Times,serif\" font-size=\"14.00\" fill=\"#000000\">value = [2409, 180]</text>\n",
       "</g>\n",
       "<!-- 9&#45;&gt;11 -->\n",
       "<g id=\"edge11\" class=\"edge\">\n",
       "<title>9&#45;&gt;11</title>\n",
       "<path fill=\"none\" stroke=\"#000000\" d=\"M686.9824,-195.6106C712.694,-190.9846 740.4764,-185.9861 765.0985,-181.5562\"/>\n",
       "<polygon fill=\"#000000\" stroke=\"#000000\" points=\"765.8598,-184.9755 775.082,-179.76 764.6203,-178.0861 765.8598,-184.9755\"/>\n",
       "</g>\n",
       "<!-- 13 -->\n",
       "<g id=\"node14\" class=\"node\">\n",
       "<title>13</title>\n",
       "<polygon fill=\"#e58139\" fill-opacity=\"0.780392\" stroke=\"#000000\" points=\"893.6667,-124 781.6667,-124 781.6667,-71 893.6667,-71 893.6667,-124\"/>\n",
       "<text text-anchor=\"start\" x=\"803.6667\" y=\"-108.8\" font-family=\"Times,serif\" font-size=\"14.00\" fill=\"#000000\">gini = 0.297</text>\n",
       "<text text-anchor=\"start\" x=\"800.6667\" y=\"-93.8\" font-family=\"Times,serif\" font-size=\"14.00\" fill=\"#000000\">samples = 99</text>\n",
       "<text text-anchor=\"start\" x=\"789.6667\" y=\"-78.8\" font-family=\"Times,serif\" font-size=\"14.00\" fill=\"#000000\">value = [131, 29]</text>\n",
       "</g>\n",
       "<!-- 12&#45;&gt;13 -->\n",
       "<g id=\"edge13\" class=\"edge\">\n",
       "<title>12&#45;&gt;13</title>\n",
       "<path fill=\"none\" stroke=\"#000000\" d=\"M658.3599,-97.5C692.7143,-97.5 735.9537,-97.5 771.3635,-97.5\"/>\n",
       "<polygon fill=\"#000000\" stroke=\"#000000\" points=\"771.6047,-101.0001 781.6047,-97.5 771.6046,-94.0001 771.6047,-101.0001\"/>\n",
       "</g>\n",
       "<!-- 14 -->\n",
       "<g id=\"node15\" class=\"node\">\n",
       "<title>14</title>\n",
       "<polygon fill=\"#e58139\" fill-opacity=\"0.592157\" stroke=\"#000000\" points=\"890.1667,-53 785.1667,-53 785.1667,0 890.1667,0 890.1667,-53\"/>\n",
       "<text text-anchor=\"start\" x=\"803.6667\" y=\"-37.8\" font-family=\"Times,serif\" font-size=\"14.00\" fill=\"#000000\">gini = 0.411</text>\n",
       "<text text-anchor=\"start\" x=\"800.6667\" y=\"-22.8\" font-family=\"Times,serif\" font-size=\"14.00\" fill=\"#000000\">samples = 26</text>\n",
       "<text text-anchor=\"start\" x=\"793.1667\" y=\"-7.8\" font-family=\"Times,serif\" font-size=\"14.00\" fill=\"#000000\">value = [27, 11]</text>\n",
       "</g>\n",
       "<!-- 12&#45;&gt;14 -->\n",
       "<g id=\"edge14\" class=\"edge\">\n",
       "<title>12&#45;&gt;14</title>\n",
       "<path fill=\"none\" stroke=\"#000000\" d=\"M658.3599,-79.7669C693.8727,-69.217 738.88,-55.8467 774.9183,-45.1407\"/>\n",
       "<polygon fill=\"#000000\" stroke=\"#000000\" points=\"776.2406,-48.3992 784.8298,-42.1963 774.2471,-41.689 776.2406,-48.3992\"/>\n",
       "</g>\n",
       "</g>\n",
       "</svg>\n"
      ],
      "text/plain": [
       "<graphviz.files.Source at 0x7f5be4a4e128>"
      ]
     },
     "metadata": {},
     "output_type": "display_data"
    }
   ],
   "source": [
    "draw_tree(m.estimators_[0], X_valid, precision=3)"
   ]
  },
  {
   "cell_type": "code",
   "execution_count": 79,
   "metadata": {},
   "outputs": [
    {
     "name": "stdout",
     "output_type": "stream",
     "text": [
      "LightGBM version: 2.2.2\n"
     ]
    }
   ],
   "source": [
    "import lightgbm as lgb\n",
    "print(\"LightGBM version: {}\".format(lgb.__version__))"
   ]
  },
  {
   "cell_type": "code",
   "execution_count": 194,
   "metadata": {},
   "outputs": [],
   "source": [
    "lgb_train = lgb.Dataset(X_cc, y_cc, free_raw_data=False)\n",
    "lgb_test = lgb.Dataset(X_valid, y_valid, reference=lgb_train, free_raw_data=False)"
   ]
  },
  {
   "cell_type": "code",
   "execution_count": 195,
   "metadata": {},
   "outputs": [],
   "source": [
    "parameters = {'num_leaves': 2**5,\n",
    "              'learning_rate': 0.05,\n",
    "              'is_unbalance': True,\n",
    "              'min_split_gain': 0.03,\n",
    "              'min_child_weight': 1,\n",
    "              'reg_lambda': 1,\n",
    "              'subsample': 1,\n",
    "              'objective':'binary',\n",
    "              #'device': 'gpu', # comment this line if you are not using GPU\n",
    "              'task': 'train'\n",
    "              }\n",
    "num_rounds = 500"
   ]
  },
  {
   "cell_type": "code",
   "execution_count": 196,
   "metadata": {},
   "outputs": [
    {
     "name": "stdout",
     "output_type": "stream",
     "text": [
      "CPU times: user 1.61 s, sys: 3.49 ms, total: 1.61 s\n",
      "Wall time: 408 ms\n"
     ]
    }
   ],
   "source": [
    "%%time\n",
    "clf = lgb.train(parameters, lgb_train, num_boost_round=num_rounds)"
   ]
  },
  {
   "cell_type": "code",
   "execution_count": 214,
   "metadata": {},
   "outputs": [
    {
     "name": "stdout",
     "output_type": "stream",
     "text": [
      "[[1465   17]\n",
      " [ 176   77]]\n",
      "0.44380403458213263\n",
      "              precision    recall  f1-score   support\n",
      "\n",
      "           0       0.89      0.99      0.94      1482\n",
      "           1       0.82      0.30      0.44       253\n",
      "\n",
      "   micro avg       0.89      0.89      0.89      1735\n",
      "   macro avg       0.86      0.65      0.69      1735\n",
      "weighted avg       0.88      0.89      0.87      1735\n",
      "\n"
     ]
    }
   ],
   "source": [
    "# With Policy Number\n",
    "y_prob = clf.predict(X_valid)\n",
    "\n",
    "y_pred = np.array([0 if i<0.45 else 1 for i in y_prob])\n",
    "\n",
    "error(y_pred, y_valid)"
   ]
  },
  {
   "cell_type": "code",
   "execution_count": 191,
   "metadata": {},
   "outputs": [
    {
     "name": "stdout",
     "output_type": "stream",
     "text": [
      "[[1381   41]\n",
      " [ 260   53]]\n",
      "0.2604422604422605\n",
      "              precision    recall  f1-score   support\n",
      "\n",
      "           0       0.84      0.97      0.90      1422\n",
      "           1       0.56      0.17      0.26       313\n",
      "\n",
      "   micro avg       0.83      0.83      0.83      1735\n",
      "   macro avg       0.70      0.57      0.58      1735\n",
      "weighted avg       0.79      0.83      0.79      1735\n",
      "\n"
     ]
    }
   ],
   "source": [
    "# No Policy Number\n",
    "y_prob = clf.predict(X_valid.drop('PolicyNumber', axis = 1))\n",
    "\n",
    "y_pred = np.array([0 if i<0.5 else 1 for i in y_prob])\n",
    "\n",
    "error(y_pred, y_valid)"
   ]
  },
  {
   "cell_type": "code",
   "execution_count": 192,
   "metadata": {},
   "outputs": [
    {
     "data": {
      "image/png": "[encoded data removed]",
      "text/plain": [
       "<Figure size 864x504 with 1 Axes>"
      ]
     },
     "metadata": {
      "needs_background": "light"
     },
     "output_type": "display_data"
    }
   ],
   "source": [
    "# Without using Policy Number\n",
    "fi = gbm_feat_importance(clf, df.drop('PolicyNumber', axis=1))\n",
    "plot_fi(fi[:30]);"
   ]
  },
  {
   "cell_type": "code",
   "execution_count": 172,
   "metadata": {},
   "outputs": [],
   "source": [
    "def gbm_feat_importance(m, df):\n",
    "    return pd.DataFrame({'cols':df.columns, 'imp':m.feature_importance()}\n",
    "                       ).sort_values('imp', ascending=False)"
   ]
  },
  {
   "cell_type": "code",
   "execution_count": 173,
   "metadata": {},
   "outputs": [
    {
     "data": {
      "image/png": "[encoded data removed]",
      "text/plain": [
       "<Figure size 864x504 with 1 Axes>"
      ]
     },
     "metadata": {
      "needs_background": "light"
     },
     "output_type": "display_data"
    }
   ],
   "source": [
    "# With Policy Number\n",
    "fi = gbm_feat_importance(clf, df)\n",
    "plot_fi(fi[:30]);"
   ]
  },
  {
   "cell_type": "code",
   "execution_count": 155,
   "metadata": {},
   "outputs": [
    {
     "data": {
      "text/plain": [
       "XGBClassifier(base_score=0.3, booster='gbtree', colsample_bylevel=1,\n",
       "       colsample_bytree=1, gamma=0, learning_rate=0.1, max_delta_step=0,\n",
       "       max_depth=6, min_child_weight=1, missing=None, n_estimators=800,\n",
       "       n_jobs=4, nthread=None, objective='binary:logistic', random_state=0,\n",
       "       reg_alpha=0, reg_lambda=1, scale_pos_weight=1, seed=None,\n",
       "       silent=True, subsample=1)"
      ]
     },
     "execution_count": 155,
     "metadata": {},
     "output_type": "execute_result"
    }
   ],
   "source": [
    "from xgboost import XGBClassifier\n",
    "m = XGBClassifier(n_estimators=800, n_jobs=4, base_score=0.3, max_depth=6)\n",
    "\n",
    "m.fit(X_cc, y_cc)"
   ]
  },
  {
   "cell_type": "code",
   "execution_count": 156,
   "metadata": {},
   "outputs": [
    {
     "name": "stdout",
     "output_type": "stream",
     "text": [
      "[[1550   36]\n",
      " [  91   58]]\n",
      "0.4773662551440329\n",
      "              precision    recall  f1-score   support\n",
      "\n",
      "           0       0.94      0.98      0.96      1586\n",
      "           1       0.62      0.39      0.48       149\n",
      "\n",
      "   micro avg       0.93      0.93      0.93      1735\n",
      "   macro avg       0.78      0.68      0.72      1735\n",
      "weighted avg       0.92      0.93      0.92      1735\n",
      "\n"
     ]
    },
    {
     "name": "stderr",
     "output_type": "stream",
     "text": [
      "/home/hellraizer/miniconda3/envs/fastai/lib/python3.6/site-packages/ipykernel_launcher.py:1: FutureWarning: Method .as_matrix will be removed in a future version. Use .values instead.\n",
      "  \"\"\"Entry point for launching an IPython kernel.\n"
     ]
    }
   ],
   "source": [
    "error(m.predict(X_valid.as_matrix()), y_valid)"
   ]
  },
  {
   "cell_type": "code",
   "execution_count": 148,
   "metadata": {},
   "outputs": [
    {
     "data": {
      "image/png": "[encoded data removed]",
      "text/plain": [
       "<Figure size 864x504 with 1 Axes>"
      ]
     },
     "metadata": {
      "needs_background": "light"
     },
     "output_type": "display_data"
    }
   ],
   "source": [
    "fi = rf_feat_importance(m, df)\n",
    "plot_fi(fi[:30]);"
   ]
  },
  {
   "cell_type": "code",
   "execution_count": 29,
   "metadata": {},
   "outputs": [],
   "source": [
    "from sklearn.svm import OneClassSVM\n",
    "\n",
    "m = OneClassSVM(gamma='scale', degree=3, kernel='rbf')\n",
    "m.fit(X_train)\n",
    "\n",
    "y_prob = m.predict(X_valid)\n",
    "\n",
    "y_prob[y_prob == -1].sum()\n",
    "\n",
    "y_pred = np.array([0 if i==-1 else 1 for i in y_prob])\n",
    "\n",
    "error(y_pred, y_valid)\n",
    "\n"
   ]
  },
  {
   "cell_type": "code",
   "execution_count": 146,
   "metadata": {},
   "outputs": [
    {
     "name": "stderr",
     "output_type": "stream",
     "text": [
      "/home/hellraizer/miniconda3/envs/fastai/lib/python3.6/site-packages/sklearn/ensemble/iforest.py:213: FutureWarning: default contamination parameter 0.1 will change in version 0.22 to \"auto\". This will change the predict method behavior.\n",
      "  FutureWarning)\n"
     ]
    },
    {
     "data": {
      "text/plain": [
       "IsolationForest(behaviour='new', bootstrap=True, contamination='legacy',\n",
       "        max_features=0.5, max_samples='auto', n_estimators=100, n_jobs=-1,\n",
       "        random_state=None, verbose=0)"
      ]
     },
     "execution_count": 146,
     "metadata": {},
     "output_type": "execute_result"
    }
   ],
   "source": [
    "m = IsolationForest(behaviour='new', n_jobs=-1, n_estimators=100, max_features=0.5, bootstrap=True)\n",
    "m.fit(X_train)\n",
    "\n",
    "y_prob = m.predict(X_valid)\n",
    "\n",
    "y_prob[y_prob == 1].sum()\n",
    "\n",
    "y_pred = np.array([1 if i==-1 else 0 for i in y_prob])\n",
    "\n",
    "error(y_pred, y_valid)"
   ]
  },
  {
   "cell_type": "code",
   "execution_count": 151,
   "metadata": {},
   "outputs": [],
   "source": [
    "from sklearn.neighbors import LocalOutlierFactor\n",
    "\n",
    "m = LocalOutlierFactor(novelty=True, n_neighbors=30, algorithm='ball_tree', leaf_size=40, p=5)\n",
    "m.fit(X_train)\n",
    "\n",
    "y_prob = m.predict(X_valid)\n",
    "\n",
    "y_pred = np.array([1 if i==-1 else 0 for i in y_prob])\n",
    "\n",
    "error(y_pred, y_valid)"
   ]
  },
  {
   "cell_type": "code",
   "execution_count": 112,
   "metadata": {},
   "outputs": [],
   "source": [
    "from imblearn.under_sampling import RandomUnderSampler, TomekLinks, ClusterCentroids\n",
    "from imblearn.over_sampling import RandomOverSampler, SMOTE\n",
    "from imblearn.combine import SMOTETomek"
   ]
  },
  {
   "cell_type": "code",
   "execution_count": 32,
   "metadata": {},
   "outputs": [],
   "source": [
    "rus = RandomOverSampler(random_state=42)\n",
    "\n",
    "X_res, y_res = rus.fit_resample(X_train, y_train)\n",
    "\n",
    "y_res[y_res == 1].sum()"
   ]
  },
  {
   "cell_type": "code",
   "execution_count": 36,
   "metadata": {},
   "outputs": [],
   "source": [
    "tl = TomekLinks(return_indices=True, ratio='majority')\n",
    "X_tl, y_tl, id_tl = tl.fit_sample(X_train, y_train)\n",
    "\n",
    "print('Removed indexes:', id_tl.shape)\n",
    "\n",
    "plot_2d_space(X_tl, y_tl, 'Tomek links under-sampling')"
   ]
  },
  {
   "cell_type": "code",
   "execution_count": 193,
   "metadata": {},
   "outputs": [
    {
     "data": {
      "image/png": "[encoded data removed]",
      "text/plain": [
       "<Figure size 432x288 with 1 Axes>"
      ]
     },
     "metadata": {
      "needs_background": "light"
     },
     "output_type": "display_data"
    }
   ],
   "source": [
    "cc = ClusterCentroids(ratio={0: 6000}, n_jobs=-1)\n",
    "X_cc, y_cc = cc.fit_sample(X_train, y_train)\n",
    "\n",
    "plot_2d_space(X_cc, y_cc, 'Cluster Centroids under-sampling')"
   ]
  },
  {
   "cell_type": "code",
   "execution_count": 182,
   "metadata": {},
   "outputs": [
    {
     "data": {
      "image/png": "[encoded data removed]",
      "text/plain": [
       "<Figure size 432x288 with 1 Axes>"
      ]
     },
     "metadata": {
      "needs_background": "light"
     },
     "output_type": "display_data"
    }
   ],
   "source": [
    "cc = ClusterCentroids(ratio={0: 6000}, n_jobs=4)\n",
    "X_cc, y_cc = cc.fit_sample(X_train.drop('PolicyNumber', axis=1), y_train)\n",
    "\n",
    "plot_2d_space(X_cc, y_cc, 'Cluster Centroids under-sampling')"
   ]
  },
  {
   "cell_type": "code",
   "execution_count": 105,
   "metadata": {},
   "outputs": [
    {
     "data": {
      "image/png": "[encoded data removed]",
      "text/plain": [
       "<Figure size 432x288 with 1 Axes>"
      ]
     },
     "metadata": {
      "needs_background": "light"
     },
     "output_type": "display_data"
    }
   ],
   "source": [
    "smote = SMOTE(ratio='minority')\n",
    "X_sm, y_sm = smote.fit_sample(X_train, y_train)\n",
    "\n",
    "plot_2d_space(X_sm, y_sm, 'SMOTE over-sampling')"
   ]
  },
  {
   "cell_type": "code",
   "execution_count": 113,
   "metadata": {},
   "outputs": [
    {
     "data": {
      "image/png": "[encoded data removed]",
      "text/plain": [
       "<Figure size 432x288 with 1 Axes>"
      ]
     },
     "metadata": {
      "needs_background": "light"
     },
     "output_type": "display_data"
    }
   ],
   "source": [
    "smt = SMOTETomek(ratio='auto')\n",
    "X_smt, y_smt = smt.fit_sample(X_train, y_train)\n",
    "\n",
    "plot_2d_space(X_smt, y_smt, 'SMOTE + Tomek links')"
   ]
  },
  {
   "cell_type": "code",
   "execution_count": 115,
   "metadata": {},
   "outputs": [
    {
     "data": {
      "text/plain": [
       "(8314,)"
      ]
     },
     "execution_count": 115,
     "metadata": {},
     "output_type": "execute_result"
    }
   ],
   "source": [
    "(y_smt[y_smt == 1]).shape"
   ]
  },
  {
   "cell_type": "code",
   "execution_count": 116,
   "metadata": {},
   "outputs": [
    {
     "name": "stdout",
     "output_type": "stream",
     "text": [
      "[[9169  105]\n",
      " [  70  486]]\n",
      "0.847428073234525\n",
      "              precision    recall  f1-score   support\n",
      "\n",
      "           0       0.99      0.99      0.99      9274\n",
      "           1       0.82      0.87      0.85       556\n",
      "\n",
      "   micro avg       0.98      0.98      0.98      9830\n",
      "   macro avg       0.91      0.93      0.92      9830\n",
      "weighted avg       0.98      0.98      0.98      9830\n",
      "\n",
      "[[1566   86]\n",
      " [  75    8]]\n",
      "0.0903954802259887\n",
      "              precision    recall  f1-score   support\n",
      "\n",
      "           0       0.95      0.95      0.95      1652\n",
      "           1       0.09      0.10      0.09        83\n",
      "\n",
      "   micro avg       0.91      0.91      0.91      1735\n",
      "   macro avg       0.52      0.52      0.52      1735\n",
      "weighted avg       0.91      0.91      0.91      1735\n",
      "\n"
     ]
    }
   ],
   "source": [
    "m = RandomForestClassifier(n_estimators=3, n_jobs=-1, max_features=0.5)\n",
    "\n",
    "m.fit(X_smt, y_smt)\n",
    "print_score(m)"
   ]
  },
  {
   "cell_type": "code",
   "execution_count": 111,
   "metadata": {},
   "outputs": [
    {
     "name": "stdout",
     "output_type": "stream",
     "text": [
      "[[9199   72]\n",
      " [  40  519]]\n",
      "0.9026086956521738\n",
      "              precision    recall  f1-score   support\n",
      "\n",
      "           0       1.00      0.99      0.99      9271\n",
      "           1       0.88      0.93      0.90       559\n",
      "\n",
      "   micro avg       0.99      0.99      0.99      9830\n",
      "   macro avg       0.94      0.96      0.95      9830\n",
      "weighted avg       0.99      0.99      0.99      9830\n",
      "\n",
      "[[1584   78]\n",
      " [  57   16]]\n",
      "0.19161676646706585\n",
      "              precision    recall  f1-score   support\n",
      "\n",
      "           0       0.97      0.95      0.96      1662\n",
      "           1       0.17      0.22      0.19        73\n",
      "\n",
      "   micro avg       0.92      0.92      0.92      1735\n",
      "   macro avg       0.57      0.59      0.58      1735\n",
      "weighted avg       0.93      0.92      0.93      1735\n",
      "\n"
     ]
    }
   ],
   "source": [
    "m = RandomForestClassifier(n_estimators=3, n_jobs=-1, max_features=0.5)\n",
    "\n",
    "m.fit(X_sm, y_sm)\n",
    "print_score(m)"
   ]
  },
  {
   "cell_type": "code",
   "execution_count": 150,
   "metadata": {},
   "outputs": [
    {
     "name": "stdout",
     "output_type": "stream",
     "text": [
      "[[8438   69]\n",
      " [ 801  522]]\n",
      "0.5454545454545454\n",
      "              precision    recall  f1-score   support\n",
      "\n",
      "           0       0.91      0.99      0.95      8507\n",
      "           1       0.88      0.39      0.55      1323\n",
      "\n",
      "   micro avg       0.91      0.91      0.91      9830\n",
      "   macro avg       0.90      0.69      0.75      9830\n",
      "weighted avg       0.91      0.91      0.90      9830\n",
      "\n",
      "[[1471   54]\n",
      " [ 170   40]]\n",
      "0.26315789473684215\n",
      "              precision    recall  f1-score   support\n",
      "\n",
      "           0       0.90      0.96      0.93      1525\n",
      "           1       0.43      0.19      0.26       210\n",
      "\n",
      "   micro avg       0.87      0.87      0.87      1735\n",
      "   macro avg       0.66      0.58      0.60      1735\n",
      "weighted avg       0.84      0.87      0.85      1735\n",
      "\n"
     ]
    }
   ],
   "source": [
    "m = RandomForestClassifier(n_estimators=3, n_jobs=-1, max_features=0.5)\n",
    "\n",
    "m.fit(X_cc, y_cc)\n",
    "print_score(m)"
   ]
  },
  {
   "cell_type": "code",
   "execution_count": 56,
   "metadata": {},
   "outputs": [
    {
     "name": "stdout",
     "output_type": "stream",
     "text": [
      "[[9187   96]\n",
      " [  52  495]]\n",
      "0.8699472759226713\n",
      "              precision    recall  f1-score   support\n",
      "\n",
      "           0       0.99      0.99      0.99      9283\n",
      "           1       0.84      0.90      0.87       547\n",
      "\n",
      "   micro avg       0.98      0.98      0.98      9830\n",
      "   macro avg       0.92      0.95      0.93      9830\n",
      "weighted avg       0.99      0.98      0.99      9830\n",
      "\n",
      "[[1593   71]\n",
      " [  48   23]]\n",
      "0.2787878787878788\n",
      "              precision    recall  f1-score   support\n",
      "\n",
      "           0       0.97      0.96      0.96      1664\n",
      "           1       0.24      0.32      0.28        71\n",
      "\n",
      "   micro avg       0.93      0.93      0.93      1735\n",
      "   macro avg       0.61      0.64      0.62      1735\n",
      "weighted avg       0.94      0.93      0.94      1735\n",
      "\n"
     ]
    }
   ],
   "source": [
    "m = RandomForestClassifier(n_estimators=3, n_jobs=-1, max_features=0.5)\n",
    "\n",
    "m.fit(X_tl, y_tl)\n",
    "print_score(m)"
   ]
  },
  {
   "cell_type": "code",
   "execution_count": 57,
   "metadata": {},
   "outputs": [
    {
     "name": "stdout",
     "output_type": "stream",
     "text": [
      "[[9186    0]\n",
      " [  53  591]]\n",
      "0.957085020242915\n",
      "              precision    recall  f1-score   support\n",
      "\n",
      "           0       0.99      1.00      1.00      9186\n",
      "           1       1.00      0.92      0.96       644\n",
      "\n",
      "   micro avg       0.99      0.99      0.99      9830\n",
      "   macro avg       1.00      0.96      0.98      9830\n",
      "weighted avg       0.99      0.99      0.99      9830\n",
      "\n",
      "[[1582   65]\n",
      " [  59   29]]\n",
      "0.3186813186813187\n",
      "              precision    recall  f1-score   support\n",
      "\n",
      "           0       0.96      0.96      0.96      1647\n",
      "           1       0.31      0.33      0.32        88\n",
      "\n",
      "   micro avg       0.93      0.93      0.93      1735\n",
      "   macro avg       0.64      0.65      0.64      1735\n",
      "weighted avg       0.93      0.93      0.93      1735\n",
      "\n"
     ]
    }
   ],
   "source": [
    "m = RandomForestClassifier(n_estimators=3, n_jobs=-1, max_features=0.5)\n",
    "\n",
    "m.fit(X_res, y_res)\n",
    "print_score(m)"
   ]
  }
 ],
 "metadata": {
  "kernelspec": {
   "display_name": "Python 3",
   "language": "python",
   "name": "python3"
  },
  "language_info": {
   "codemirror_mode": {
    "name": "ipython",
    "version": 3
   },
   "file_extension": ".py",
   "mimetype": "text/x-python",
   "name": "python",
   "nbconvert_exporter": "python",
   "pygments_lexer": "ipython3",
   "version": "3.6.8"
  }
 },
 "nbformat": 4,
 "nbformat_minor": 2
}
