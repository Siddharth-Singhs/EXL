{
 "cells": [
  {
   "cell_type": "code",
   "execution_count": 1,
   "metadata": {},
   "outputs": [],
   "source": [
    "import pandas as pd\n",
    "import numpy as np\n",
    "from sklearn.metrics import confusion_matrix\n",
    "from sklearn.metrics import accuracy_score\n",
    "from sklearn.metrics import f1_score\n",
    "from sklearn.ensemble import RandomForestClassifier\n",
    "from sklearn.model_selection import train_test_split"
   ]
  },
  {
   "cell_type": "code",
   "execution_count": 2,
   "metadata": {},
   "outputs": [
    {
     "name": "stderr",
     "output_type": "stream",
     "text": [
      "/anaconda3/lib/python3.6/site-packages/pandas/io/excel.py:329: FutureWarning: The `sheetname` keyword is deprecated, use `sheet_name` instead\n",
      "  **kwds)\n"
     ]
    }
   ],
   "source": [
    "customers = pd.read_excel('Dataset.xlsx',\n",
    "sheetname=0,\n",
    "header=0,\n",
    "index_col=False,\n",
    "keep_default_na=True\n",
    ")"
   ]
  },
  {
   "cell_type": "code",
   "execution_count": 3,
   "metadata": {},
   "outputs": [
    {
     "data": {
      "text/plain": [
       "Index(['Month', 'WeekOfMonth', 'DayOfWeek', 'Make', 'AccidentArea',\n",
       "       'DayOfWeekClaimed', 'MonthClaimed', 'WeekOfMonthClaimed', 'Sex',\n",
       "       'MaritalStatus', 'Age', 'Fault', 'PolicyType', 'VehicleCategory',\n",
       "       'VehiclePrice', 'FraudFound_P', 'PolicyNumber', 'RepNumber',\n",
       "       'Deductible', 'DriverRating', 'Days_Policy_Accident',\n",
       "       'Days_Policy_Claim', 'PastNumberOfClaims', 'AgeOfVehicle',\n",
       "       'AgeOfPolicyHolder', 'PoliceReportFiled', 'WitnessPresent', 'AgentType',\n",
       "       'NumberOfSuppliments', 'AddressChange_Claim', 'NumberOfCars', 'Year',\n",
       "       'BasePolicy', 'ClaimSize'],\n",
       "      dtype='object')"
      ]
     },
     "execution_count": 3,
     "metadata": {},
     "output_type": "execute_result"
    }
   ],
   "source": [
    "customers.columns"
   ]
  },
  {
   "cell_type": "code",
   "execution_count": 4,
   "metadata": {
    "scrolled": true
   },
   "outputs": [
    {
     "data": {
      "text/plain": [
       "Month                   0\n",
       "WeekOfMonth             0\n",
       "DayOfWeek               0\n",
       "Make                    0\n",
       "AccidentArea            0\n",
       "DayOfWeekClaimed        0\n",
       "MonthClaimed            0\n",
       "WeekOfMonthClaimed      0\n",
       "Sex                     0\n",
       "MaritalStatus           0\n",
       "Age                     5\n",
       "Fault                   0\n",
       "PolicyType              0\n",
       "VehicleCategory         0\n",
       "VehiclePrice            0\n",
       "FraudFound_P            0\n",
       "PolicyNumber            0\n",
       "RepNumber               0\n",
       "Deductible              0\n",
       "DriverRating            6\n",
       "Days_Policy_Accident    0\n",
       "Days_Policy_Claim       0\n",
       "PastNumberOfClaims      0\n",
       "AgeOfVehicle            0\n",
       "AgeOfPolicyHolder       0\n",
       "PoliceReportFiled       0\n",
       "WitnessPresent          0\n",
       "AgentType               0\n",
       "NumberOfSuppliments     0\n",
       "AddressChange_Claim     0\n",
       "NumberOfCars            0\n",
       "Year                    0\n",
       "BasePolicy              0\n",
       "ClaimSize               0\n",
       "dtype: int64"
      ]
     },
     "execution_count": 4,
     "metadata": {},
     "output_type": "execute_result"
    }
   ],
   "source": [
    "customers.isnull().sum()"
   ]
  },
  {
   "cell_type": "code",
   "execution_count": 5,
   "metadata": {},
   "outputs": [
    {
     "data": {
      "text/plain": [
       "Pontiac      2899\n",
       "Toyota       2317\n",
       "Honda        2159\n",
       "Mazda        1724\n",
       "Chevrolet    1253\n",
       "Accura        354\n",
       "Ford          338\n",
       "VW            220\n",
       "Dodge          77\n",
       "Saab           70\n",
       "Mercury        68\n",
       "Saturn         41\n",
       "Nisson         22\n",
       "BMW             9\n",
       "Jaguar          5\n",
       "Porche          3\n",
       "Mecedes         3\n",
       "Ferrari         2\n",
       "Lexus           1\n",
       "Name: Make, dtype: int64"
      ]
     },
     "execution_count": 5,
     "metadata": {},
     "output_type": "execute_result"
    }
   ],
   "source": [
    "customers['Make'].value_counts()"
   ]
  },
  {
   "cell_type": "code",
   "execution_count": 6,
   "metadata": {},
   "outputs": [],
   "source": [
    "## Luxury Vehicle Brand- Jaguar,Lexus,Mecedes,BMW,Porche,Ferrari\n",
    "## Not Luxury Vehicle Brand"
   ]
  },
  {
   "cell_type": "code",
   "execution_count": 7,
   "metadata": {},
   "outputs": [],
   "source": [
    "def createMake(carMake):\n",
    "    if carMake=='Jaguar' or carMake=='Lexus' or carMake=='Mecedes' or carMake=='BMW' or carMake=='Porche' or carMake=='Ferrari':\n",
    "        return 1\n",
    "    else:\n",
    "        return 0\n",
    "customers['Make']=customers['Make'].apply(createMake)\n",
    "del customers['Make']"
   ]
  },
  {
   "cell_type": "code",
   "execution_count": 8,
   "metadata": {},
   "outputs": [],
   "source": [
    "##del customers['PolicyNumber']\n",
    "del customers['Year']\n",
    "\n",
    "del customers['PolicyType']"
   ]
  },
  {
   "cell_type": "code",
   "execution_count": 9,
   "metadata": {},
   "outputs": [],
   "source": [
    "def married(status):\n",
    "    if status=='Married':\n",
    "        return 1\n",
    "    else:\n",
    "        return 0\n",
    "def single(status):\n",
    "    if status=='Single':\n",
    "        return 1\n",
    "    else:\n",
    "        return 0\n",
    "def divorced(status):\n",
    "    if status=='Divorced':\n",
    "        return 1\n",
    "    else:\n",
    "        return 0\n",
    "def widow(status):\n",
    "    if status=='Widow':\n",
    "        return 1\n",
    "    else:\n",
    "        return 0\n",
    "customers['Married']=customers['MaritalStatus'].apply(married)\n",
    "customers['Single']=customers['MaritalStatus'].apply(single)\n",
    "customers['Divorced']=customers['MaritalStatus'].apply(divorced)\n",
    "customers['Widow']=customers['MaritalStatus'].apply(widow)\n",
    "del customers['MaritalStatus']"
   ]
  },
  {
   "cell_type": "code",
   "execution_count": 10,
   "metadata": {},
   "outputs": [],
   "source": [
    "def collision(base):\n",
    "    if base=='Collision':\n",
    "        return 1\n",
    "    else:\n",
    "        return 0\n",
    "def liability(base):\n",
    "    if base=='Liability':\n",
    "        return 1\n",
    "    else:\n",
    "        return 0\n",
    "def perils(base):\n",
    "    if base=='All Perils':\n",
    "        return 1\n",
    "    else:\n",
    "        return 0    \n",
    "customers['Collision']=customers['BasePolicy'].apply(collision)\n",
    "customers['Liability']=customers['BasePolicy'].apply(liability)\n",
    "customers['All Perils']=customers['BasePolicy'].apply(perils)\n",
    "del customers['BasePolicy']"
   ]
  },
  {
   "cell_type": "code",
   "execution_count": 11,
   "metadata": {},
   "outputs": [],
   "source": [
    "def convertStr(boolean):\n",
    "    if boolean=='No':\n",
    "        return 0\n",
    "    elif boolean=='Yes':\n",
    "        return 1\n",
    "customers['PoliceReportFiled']=customers['PoliceReportFiled'].apply(convertStr)  \n",
    "customers['WitnessPresent']=customers['WitnessPresent'].apply(convertStr) "
   ]
  },
  {
   "cell_type": "code",
   "execution_count": 12,
   "metadata": {},
   "outputs": [],
   "source": [
    "def convertAgent(agent):\n",
    "    if agent=='External':\n",
    "        return 1\n",
    "    elif agent=='Internal':\n",
    "        return 2\n",
    "customers['AgentType']=customers['AgentType'].apply(convertAgent)     "
   ]
  },
  {
   "cell_type": "code",
   "execution_count": 13,
   "metadata": {},
   "outputs": [],
   "source": [
    "def convertCar(car):\n",
    "    if car=='1 vehicle':\n",
    "        return 1\n",
    "    elif car=='2 vehicles':\n",
    "        return 2\n",
    "    elif car=='3 to 4':\n",
    "        return 3\n",
    "    elif car=='5 to 8':\n",
    "        return 4\n",
    "    elif car=='more than 8':\n",
    "        return 5\n",
    "customers['NumberOfCars']=customers['NumberOfCars'].apply(convertCar)  "
   ]
  },
  {
   "cell_type": "code",
   "execution_count": 14,
   "metadata": {},
   "outputs": [],
   "source": [
    "def convertAddressChange(address):\n",
    "    if address=='no change':\n",
    "        return 0\n",
    "    elif address=='under 6 months':\n",
    "        return 1\n",
    "    elif address=='1 year':\n",
    "        return 2\n",
    "    elif address=='2 to 3 years':\n",
    "        return 3\n",
    "    elif address=='4 to 8 years':\n",
    "        return 4\n",
    "customers['AddressChange_Claim']=customers['AddressChange_Claim'].apply(convertAddressChange)      "
   ]
  },
  {
   "cell_type": "code",
   "execution_count": 15,
   "metadata": {},
   "outputs": [],
   "source": [
    "def convertSuppliments(suppliment):\n",
    "    if suppliment=='none':\n",
    "        return 0\n",
    "    elif suppliment=='1 to 2':\n",
    "        return 1\n",
    "    elif suppliment=='3 to 5':\n",
    "        return 2\n",
    "    elif suppliment=='more than 5':\n",
    "        return 3\n",
    "customers['NumberOfSuppliments']=customers['NumberOfSuppliments'].apply(convertSuppliments)      "
   ]
  },
  {
   "cell_type": "code",
   "execution_count": 16,
   "metadata": {},
   "outputs": [],
   "source": [
    "def convertClaims(claim):\n",
    "    if claim=='none':\n",
    "        return 0\n",
    "    elif claim==1:\n",
    "        return 1\n",
    "    elif claim=='2 to 4':\n",
    "        return 2\n",
    "    elif claim=='more than 4':\n",
    "        return 3\n",
    "customers['PastNumberOfClaims']=customers['PastNumberOfClaims'].apply(convertClaims)       "
   ]
  },
  {
   "cell_type": "code",
   "execution_count": 17,
   "metadata": {},
   "outputs": [],
   "source": [
    "def convertDaysPolicy(number):\n",
    "    if number=='none':\n",
    "        return 0\n",
    "    elif number=='1 to 7':\n",
    "        return 1\n",
    "    elif number=='8 to 15':\n",
    "        return 2\n",
    "    elif number=='15 to 30':\n",
    "        return 3\n",
    "    elif number=='more than 30':\n",
    "        return 4\n",
    "customers['Days_Policy_Accident']=customers['Days_Policy_Accident'].apply(convertDaysPolicy)   \n",
    "customers['Days_Policy_Claim']=customers['Days_Policy_Claim'].apply(convertDaysPolicy)   "
   ]
  },
  {
   "cell_type": "code",
   "execution_count": 18,
   "metadata": {},
   "outputs": [],
   "source": [
    "def convertFault(fault):\n",
    "    if fault=='Policy Holder':\n",
    "        return 0\n",
    "    elif fault=='Third Party':\n",
    "        return 1\n",
    "customers['Fault']=customers['Fault'].apply(convertFault)       "
   ]
  },
  {
   "cell_type": "code",
   "execution_count": 19,
   "metadata": {},
   "outputs": [],
   "source": [
    "def display_all(df):\n",
    "    with pd.option_context(\"display.max_rows\", 1000): \n",
    "        with pd.option_context(\"display.max_columns\", 50): \n",
    "            display(df)"
   ]
  },
  {
   "cell_type": "code",
   "execution_count": 52,
   "metadata": {
    "scrolled": false
   },
   "outputs": [
    {
     "data": {
      "text/html": [
       "<div>\n",
       "<style scoped>\n",
       "    .dataframe tbody tr th:only-of-type {\n",
       "        vertical-align: middle;\n",
       "    }\n",
       "\n",
       "    .dataframe tbody tr th {\n",
       "        vertical-align: top;\n",
       "    }\n",
       "\n",
       "    .dataframe thead th {\n",
       "        text-align: right;\n",
       "    }\n",
       "</style>\n",
       "<table border=\"1\" class=\"dataframe\">\n",
       "  <thead>\n",
       "    <tr style=\"text-align: right;\">\n",
       "      <th></th>\n",
       "      <th>Month</th>\n",
       "      <th>WeekOfMonth</th>\n",
       "      <th>DayOfWeek</th>\n",
       "      <th>AccidentArea</th>\n",
       "      <th>DayOfWeekClaimed</th>\n",
       "      <th>MonthClaimed</th>\n",
       "      <th>WeekOfMonthClaimed</th>\n",
       "      <th>Sex</th>\n",
       "      <th>Age</th>\n",
       "      <th>Fault</th>\n",
       "      <th>VehiclePrice</th>\n",
       "      <th>PolicyNumber</th>\n",
       "      <th>RepNumber</th>\n",
       "      <th>Deductible</th>\n",
       "      <th>DriverRating</th>\n",
       "      <th>Days_Policy_Accident</th>\n",
       "      <th>Days_Policy_Claim</th>\n",
       "      <th>PastNumberOfClaims</th>\n",
       "      <th>AgeOfVehicle</th>\n",
       "      <th>AgeOfPolicyHolder</th>\n",
       "      <th>PoliceReportFiled</th>\n",
       "      <th>WitnessPresent</th>\n",
       "      <th>AgentType</th>\n",
       "      <th>NumberOfSuppliments</th>\n",
       "      <th>AddressChange_Claim</th>\n",
       "      <th>NumberOfCars</th>\n",
       "      <th>ClaimSize</th>\n",
       "      <th>Married</th>\n",
       "      <th>Single</th>\n",
       "      <th>Divorced</th>\n",
       "      <th>Widow</th>\n",
       "      <th>Collision</th>\n",
       "      <th>Liability</th>\n",
       "      <th>All Perils</th>\n",
       "      <th>Sport</th>\n",
       "      <th>Sedan</th>\n",
       "      <th>Utility</th>\n",
       "    </tr>\n",
       "  </thead>\n",
       "  <tbody>\n",
       "    <tr>\n",
       "      <th>0</th>\n",
       "      <td>12</td>\n",
       "      <td>5</td>\n",
       "      <td>3</td>\n",
       "      <td>0</td>\n",
       "      <td>2</td>\n",
       "      <td>1</td>\n",
       "      <td>1</td>\n",
       "      <td>1</td>\n",
       "      <td>21.0</td>\n",
       "      <td>0</td>\n",
       "      <td>5</td>\n",
       "      <td>1</td>\n",
       "      <td>12</td>\n",
       "      <td>300</td>\n",
       "      <td>1.0</td>\n",
       "      <td>4</td>\n",
       "      <td>4</td>\n",
       "      <td>0</td>\n",
       "      <td>3</td>\n",
       "      <td>4</td>\n",
       "      <td>0</td>\n",
       "      <td>0</td>\n",
       "      <td>1</td>\n",
       "      <td>0</td>\n",
       "      <td>2</td>\n",
       "      <td>3</td>\n",
       "      <td>55526.069421</td>\n",
       "      <td>0</td>\n",
       "      <td>1</td>\n",
       "      <td>0</td>\n",
       "      <td>0</td>\n",
       "      <td>0</td>\n",
       "      <td>1</td>\n",
       "      <td>0</td>\n",
       "      <td>1</td>\n",
       "      <td>0</td>\n",
       "      <td>0</td>\n",
       "    </tr>\n",
       "    <tr>\n",
       "      <th>1</th>\n",
       "      <td>1</td>\n",
       "      <td>3</td>\n",
       "      <td>3</td>\n",
       "      <td>0</td>\n",
       "      <td>1</td>\n",
       "      <td>1</td>\n",
       "      <td>4</td>\n",
       "      <td>0</td>\n",
       "      <td>34.0</td>\n",
       "      <td>0</td>\n",
       "      <td>5</td>\n",
       "      <td>2</td>\n",
       "      <td>15</td>\n",
       "      <td>400</td>\n",
       "      <td>4.0</td>\n",
       "      <td>4</td>\n",
       "      <td>4</td>\n",
       "      <td>0</td>\n",
       "      <td>6</td>\n",
       "      <td>5</td>\n",
       "      <td>1</td>\n",
       "      <td>0</td>\n",
       "      <td>1</td>\n",
       "      <td>0</td>\n",
       "      <td>0</td>\n",
       "      <td>1</td>\n",
       "      <td>59294.455571</td>\n",
       "      <td>0</td>\n",
       "      <td>1</td>\n",
       "      <td>0</td>\n",
       "      <td>0</td>\n",
       "      <td>1</td>\n",
       "      <td>0</td>\n",
       "      <td>0</td>\n",
       "      <td>1</td>\n",
       "      <td>0</td>\n",
       "      <td>0</td>\n",
       "    </tr>\n",
       "    <tr>\n",
       "      <th>2</th>\n",
       "      <td>10</td>\n",
       "      <td>5</td>\n",
       "      <td>5</td>\n",
       "      <td>0</td>\n",
       "      <td>4</td>\n",
       "      <td>11</td>\n",
       "      <td>2</td>\n",
       "      <td>0</td>\n",
       "      <td>47.0</td>\n",
       "      <td>0</td>\n",
       "      <td>5</td>\n",
       "      <td>3</td>\n",
       "      <td>7</td>\n",
       "      <td>400</td>\n",
       "      <td>3.0</td>\n",
       "      <td>4</td>\n",
       "      <td>4</td>\n",
       "      <td>1</td>\n",
       "      <td>7</td>\n",
       "      <td>7</td>\n",
       "      <td>0</td>\n",
       "      <td>0</td>\n",
       "      <td>1</td>\n",
       "      <td>0</td>\n",
       "      <td>0</td>\n",
       "      <td>1</td>\n",
       "      <td>71756.941320</td>\n",
       "      <td>1</td>\n",
       "      <td>0</td>\n",
       "      <td>0</td>\n",
       "      <td>0</td>\n",
       "      <td>1</td>\n",
       "      <td>0</td>\n",
       "      <td>0</td>\n",
       "      <td>1</td>\n",
       "      <td>0</td>\n",
       "      <td>0</td>\n",
       "    </tr>\n",
       "    <tr>\n",
       "      <th>3</th>\n",
       "      <td>6</td>\n",
       "      <td>2</td>\n",
       "      <td>6</td>\n",
       "      <td>1</td>\n",
       "      <td>5</td>\n",
       "      <td>7</td>\n",
       "      <td>1</td>\n",
       "      <td>0</td>\n",
       "      <td>65.0</td>\n",
       "      <td>1</td>\n",
       "      <td>1</td>\n",
       "      <td>4</td>\n",
       "      <td>4</td>\n",
       "      <td>400</td>\n",
       "      <td>2.0</td>\n",
       "      <td>4</td>\n",
       "      <td>4</td>\n",
       "      <td>1</td>\n",
       "      <td>8</td>\n",
       "      <td>8</td>\n",
       "      <td>1</td>\n",
       "      <td>0</td>\n",
       "      <td>1</td>\n",
       "      <td>3</td>\n",
       "      <td>0</td>\n",
       "      <td>1</td>\n",
       "      <td>7584.153493</td>\n",
       "      <td>1</td>\n",
       "      <td>0</td>\n",
       "      <td>0</td>\n",
       "      <td>0</td>\n",
       "      <td>0</td>\n",
       "      <td>1</td>\n",
       "      <td>0</td>\n",
       "      <td>1</td>\n",
       "      <td>0</td>\n",
       "      <td>0</td>\n",
       "    </tr>\n",
       "    <tr>\n",
       "      <th>4</th>\n",
       "      <td>2</td>\n",
       "      <td>1</td>\n",
       "      <td>6</td>\n",
       "      <td>0</td>\n",
       "      <td>1</td>\n",
       "      <td>2</td>\n",
       "      <td>3</td>\n",
       "      <td>0</td>\n",
       "      <td>36.0</td>\n",
       "      <td>1</td>\n",
       "      <td>5</td>\n",
       "      <td>7</td>\n",
       "      <td>14</td>\n",
       "      <td>400</td>\n",
       "      <td>1.0</td>\n",
       "      <td>4</td>\n",
       "      <td>4</td>\n",
       "      <td>1</td>\n",
       "      <td>7</td>\n",
       "      <td>6</td>\n",
       "      <td>0</td>\n",
       "      <td>0</td>\n",
       "      <td>1</td>\n",
       "      <td>1</td>\n",
       "      <td>0</td>\n",
       "      <td>1</td>\n",
       "      <td>98545.374339</td>\n",
       "      <td>1</td>\n",
       "      <td>0</td>\n",
       "      <td>0</td>\n",
       "      <td>0</td>\n",
       "      <td>1</td>\n",
       "      <td>0</td>\n",
       "      <td>0</td>\n",
       "      <td>1</td>\n",
       "      <td>0</td>\n",
       "      <td>0</td>\n",
       "    </tr>\n",
       "  </tbody>\n",
       "</table>\n",
       "</div>"
      ],
      "text/plain": [
       "   Month  WeekOfMonth  DayOfWeek  AccidentArea  DayOfWeekClaimed  \\\n",
       "0     12            5          3             0                 2   \n",
       "1      1            3          3             0                 1   \n",
       "2     10            5          5             0                 4   \n",
       "3      6            2          6             1                 5   \n",
       "4      2            1          6             0                 1   \n",
       "\n",
       "   MonthClaimed  WeekOfMonthClaimed  Sex   Age  Fault  VehiclePrice  \\\n",
       "0             1                   1    1  21.0      0             5   \n",
       "1             1                   4    0  34.0      0             5   \n",
       "2            11                   2    0  47.0      0             5   \n",
       "3             7                   1    0  65.0      1             1   \n",
       "4             2                   3    0  36.0      1             5   \n",
       "\n",
       "   PolicyNumber  RepNumber  Deductible  DriverRating  Days_Policy_Accident  \\\n",
       "0             1         12         300           1.0                     4   \n",
       "1             2         15         400           4.0                     4   \n",
       "2             3          7         400           3.0                     4   \n",
       "3             4          4         400           2.0                     4   \n",
       "4             7         14         400           1.0                     4   \n",
       "\n",
       "   Days_Policy_Claim  PastNumberOfClaims  AgeOfVehicle  AgeOfPolicyHolder  \\\n",
       "0                  4                   0             3                  4   \n",
       "1                  4                   0             6                  5   \n",
       "2                  4                   1             7                  7   \n",
       "3                  4                   1             8                  8   \n",
       "4                  4                   1             7                  6   \n",
       "\n",
       "   PoliceReportFiled  WitnessPresent  AgentType  NumberOfSuppliments  \\\n",
       "0                  0               0          1                    0   \n",
       "1                  1               0          1                    0   \n",
       "2                  0               0          1                    0   \n",
       "3                  1               0          1                    3   \n",
       "4                  0               0          1                    1   \n",
       "\n",
       "   AddressChange_Claim  NumberOfCars     ClaimSize  Married  Single  Divorced  \\\n",
       "0                    2             3  55526.069421        0       1         0   \n",
       "1                    0             1  59294.455571        0       1         0   \n",
       "2                    0             1  71756.941320        1       0         0   \n",
       "3                    0             1   7584.153493        1       0         0   \n",
       "4                    0             1  98545.374339        1       0         0   \n",
       "\n",
       "   Widow  Collision  Liability  All Perils  Sport  Sedan  Utility  \n",
       "0      0          0          1           0      1      0        0  \n",
       "1      0          1          0           0      1      0        0  \n",
       "2      0          1          0           0      1      0        0  \n",
       "3      0          0          1           0      1      0        0  \n",
       "4      0          1          0           0      1      0        0  "
      ]
     },
     "metadata": {},
     "output_type": "display_data"
    }
   ],
   "source": [
    "display_all(customers.head())"
   ]
  },
  {
   "cell_type": "code",
   "execution_count": 21,
   "metadata": {},
   "outputs": [],
   "source": [
    "customers.drop(customers.index[[1146]],inplace=True)\n",
    "X=customers[customers['DriverRating'].isnull()].index\n",
    "customers.drop(customers.index[[X]],inplace=True)\n",
    "X=customers[customers['Age'].isnull()].index\n",
    "customers.drop(customers.index[[X]],inplace=True)"
   ]
  },
  {
   "cell_type": "code",
   "execution_count": 22,
   "metadata": {},
   "outputs": [],
   "source": [
    "def sport(category):\n",
    "    if category=='Sport':\n",
    "        return 1\n",
    "    else:\n",
    "        return 0\n",
    "def sedan(category):\n",
    "    if category=='Sedan':\n",
    "        return 1\n",
    "    else:\n",
    "        return 0\n",
    "def utility(category):\n",
    "    if category=='Utility':\n",
    "        return 1\n",
    "    else:\n",
    "        return 0\n",
    "customers['Sport']=customers['VehicleCategory'].apply(sport)\n",
    "customers['Sedan']=customers['VehicleCategory'].apply(sedan)\n",
    "customers['Utility']=customers['VehicleCategory'].apply(utility)\n",
    "del customers['VehicleCategory']    "
   ]
  },
  {
   "cell_type": "code",
   "execution_count": 23,
   "metadata": {},
   "outputs": [],
   "source": [
    "def convertAgeHolder(age):\n",
    "    if age=='16 to 17':\n",
    "        return 1\n",
    "    elif age=='18 to 20':\n",
    "        return 2\n",
    "    elif age=='21 to 25':\n",
    "        return 3\n",
    "    elif age=='26 to 30':\n",
    "        return 4\n",
    "    elif age=='31 to 35':\n",
    "        return 5\n",
    "    elif age=='36 to 40':\n",
    "        return 6\n",
    "    elif age=='41 to 50':\n",
    "        return 7\n",
    "    elif age=='51 to 65':\n",
    "        return 8\n",
    "    elif age=='over 65':\n",
    "        return 9\n",
    "customers['AgeOfPolicyHolder']=customers['AgeOfPolicyHolder'].apply(convertAgeHolder)     "
   ]
  },
  {
   "cell_type": "code",
   "execution_count": 24,
   "metadata": {},
   "outputs": [],
   "source": [
    "def convertAgeVehicle(age):\n",
    "    if age=='new':\n",
    "        return 1\n",
    "    elif age=='2 years':\n",
    "        return 2\n",
    "    elif age=='3 years':\n",
    "        return 3\n",
    "    elif age=='4 years':\n",
    "        return 4\n",
    "    elif age=='5 years':\n",
    "        return 5\n",
    "    elif age=='6 years':\n",
    "        return 6\n",
    "    elif age=='7 years':\n",
    "        return 7\n",
    "    elif age=='more than 7':\n",
    "        return 8\n",
    "customers['AgeOfVehicle']=customers['AgeOfVehicle'].apply(convertAgeVehicle)        "
   ]
  },
  {
   "cell_type": "code",
   "execution_count": 25,
   "metadata": {},
   "outputs": [],
   "source": [
    "def convertPrice(price):\n",
    "    if price=='less than 20000':\n",
    "        return 0\n",
    "    elif price=='20000 to 29000':\n",
    "        return 1\n",
    "    elif price=='30000 to 39000':\n",
    "        return 2\n",
    "    elif price=='40000 to 59000':\n",
    "        return 3\n",
    "    elif price=='60000 to 69000':\n",
    "        return 4\n",
    "    elif price=='more than 69000':\n",
    "        return 5\n",
    "customers['VehiclePrice']=customers['VehiclePrice'].apply(convertPrice)    "
   ]
  },
  {
   "cell_type": "code",
   "execution_count": 26,
   "metadata": {},
   "outputs": [],
   "source": [
    "def convertMonth(month):\n",
    "    if month=='Jan':\n",
    "        return 1\n",
    "    elif month=='Feb':\n",
    "        return 2\n",
    "    elif month=='Mar':\n",
    "        return 3\n",
    "    elif month=='Apr':\n",
    "        return 4\n",
    "    elif month=='May':\n",
    "        return 5\n",
    "    elif month=='Jun':\n",
    "        return 6\n",
    "    elif month=='Jul':\n",
    "        return 7\n",
    "    elif month=='Aug':\n",
    "        return 8\n",
    "    elif month=='Sep':\n",
    "        return 9\n",
    "    elif month=='Oct':\n",
    "        return 10\n",
    "    elif month=='Nov':\n",
    "        return 11\n",
    "    elif month=='Dec':\n",
    "        return 12\n",
    "customers['Month']=customers['Month'].apply(convertMonth)\n",
    "customers['MonthClaimed']=customers['MonthClaimed'].apply(convertMonth)    "
   ]
  },
  {
   "cell_type": "code",
   "execution_count": 27,
   "metadata": {},
   "outputs": [],
   "source": [
    "def convertDay(day):\n",
    "    if day=='Monday':\n",
    "        return 1\n",
    "    elif day=='Tuesday':\n",
    "        return 2\n",
    "    elif day=='Wednesday':\n",
    "        return 3\n",
    "    elif day=='Thursday':\n",
    "        return 4\n",
    "    elif day=='Friday':\n",
    "        return 5\n",
    "    elif day=='Saturday':\n",
    "        return 6\n",
    "    elif day=='Sunday':\n",
    "        return 7\n",
    "customers['DayOfWeek']=customers['DayOfWeek'].apply(convertDay)\n",
    "customers['DayOfWeekClaimed']=customers['DayOfWeekClaimed'].apply(convertDay)    "
   ]
  },
  {
   "cell_type": "code",
   "execution_count": 28,
   "metadata": {},
   "outputs": [],
   "source": [
    "def convertSex(sex):\n",
    "    if sex=='Male':\n",
    "        return 0\n",
    "    elif sex=='Female':\n",
    "        return 1\n",
    "customers['Sex']=customers['Sex'].apply(convertSex)    "
   ]
  },
  {
   "cell_type": "code",
   "execution_count": 29,
   "metadata": {},
   "outputs": [],
   "source": [
    "def convertArea(area):\n",
    "    if area=='Urban':\n",
    "        return 0\n",
    "    elif area=='Rural':\n",
    "        return 1\n",
    "customers['AccidentArea']=customers['AccidentArea'].apply(convertArea)     "
   ]
  },
  {
   "cell_type": "code",
   "execution_count": 30,
   "metadata": {},
   "outputs": [],
   "source": [
    "customers.dropna(inplace=True)\n",
    "Fraud=customers[customers['FraudFound_P']==1]\n",
    "NotFraud=customers[customers['FraudFound_P']==0]\n",
    "Y_fraud=Fraud['FraudFound_P'].values\n",
    "Y_NotFraud=NotFraud['FraudFound_P'].values\n",
    "del Fraud['FraudFound_P']\n",
    "del NotFraud[\"FraudFound_P\"]\n",
    "del customers['FraudFound_P']"
   ]
  },
  {
   "cell_type": "code",
   "execution_count": 31,
   "metadata": {},
   "outputs": [],
   "source": [
    "X_train_fraud,X_test_fraud,Y_train_fraud,Y_test_fraud=train_test_split(Fraud.values,Y_fraud,test_size=0.5)\n",
    "X_train_Notfraud,X_test_Notfraud,Y_train_Notfraud,Y_test_Notfraud=train_test_split(NotFraud.values,Y_NotFraud,test_size=0.80)"
   ]
  },
  {
   "cell_type": "code",
   "execution_count": 32,
   "metadata": {},
   "outputs": [],
   "source": [
    "X_train=np.concatenate([X_train_fraud,X_train_Notfraud])\n",
    "Y_train=np.concatenate([Y_train_fraud,Y_train_Notfraud])\n",
    "X_test=np.concatenate([X_test_fraud,X_test_Notfraud])\n",
    "Y_test=np.concatenate([Y_test_fraud,Y_test_Notfraud])"
   ]
  },
  {
   "cell_type": "code",
   "execution_count": 33,
   "metadata": {},
   "outputs": [],
   "source": [
    "df_new=pd.DataFrame(X_train)\n",
    "df_new.columns=customers.columns\n",
    "df_new['FraudFound_P']=Y_train\n",
    "df_new = df_new.sample(frac=1).reset_index(drop=True)\n",
    "Y_train=df_new['FraudFound_P'].values\n",
    "del df_new['FraudFound_P']\n",
    "X_train=df_new.values"
   ]
  },
  {
   "cell_type": "code",
   "execution_count": 34,
   "metadata": {},
   "outputs": [
    {
     "data": {
      "text/plain": [
       "RandomForestClassifier(bootstrap=True, class_weight=None, criterion='gini',\n",
       "            max_depth=None, max_features=0.5, max_leaf_nodes=None,\n",
       "            min_impurity_decrease=0.0, min_impurity_split=None,\n",
       "            min_samples_leaf=1, min_samples_split=2,\n",
       "            min_weight_fraction_leaf=0.0, n_estimators=40, n_jobs=1,\n",
       "            oob_score=False, random_state=None, verbose=0,\n",
       "            warm_start=False)"
      ]
     },
     "execution_count": 34,
     "metadata": {},
     "output_type": "execute_result"
    }
   ],
   "source": [
    "clf=RandomForestClassifier(n_estimators=40,max_features=0.5)\n",
    "clf.fit(X_train,Y_train)"
   ]
  },
  {
   "cell_type": "code",
   "execution_count": 35,
   "metadata": {
    "scrolled": true
   },
   "outputs": [
    {
     "name": "stdout",
     "output_type": "stream",
     "text": [
      "0.9520487264673311\n",
      "[[8533  278]\n",
      " [ 155   64]]\n",
      "0.2281639928698752\n"
     ]
    }
   ],
   "source": [
    "Y_pred=clf.predict(X_test)\n",
    "print(accuracy_score(Y_test,Y_pred))\n",
    "print(confusion_matrix(Y_pred,Y_test))\n",
    "print(f1_score(Y_test,Y_pred))"
   ]
  },
  {
   "cell_type": "code",
   "execution_count": 36,
   "metadata": {},
   "outputs": [
    {
     "name": "stderr",
     "output_type": "stream",
     "text": [
      "/anaconda3/lib/python3.6/site-packages/lightgbm/__init__.py:46: UserWarning: Starting from version 2.2.1, the library file in distribution wheels for macOS is built by the Apple Clang (Xcode_8.3.1) compiler.\n",
      "This means that in case of installing LightGBM from PyPI via the ``pip install lightgbm`` command, you don't need to install the gcc compiler anymore.\n",
      "Instead of that, you need to install the OpenMP library, which is required for running LightGBM on the system with the Apple Clang compiler.\n",
      "You can install the OpenMP library by the following command: ``brew install libomp``.\n",
      "  \"You can install the OpenMP library by the following command: ``brew install libomp``.\", UserWarning)\n"
     ]
    }
   ],
   "source": [
    "import lightgbm as lgb"
   ]
  },
  {
   "cell_type": "code",
   "execution_count": 37,
   "metadata": {},
   "outputs": [],
   "source": [
    "lgb_train = lgb.Dataset(X_train, Y_train)"
   ]
  },
  {
   "cell_type": "code",
   "execution_count": 39,
   "metadata": {},
   "outputs": [
    {
     "name": "stdout",
     "output_type": "stream",
     "text": [
      "Starting training...\n"
     ]
    }
   ],
   "source": [
    "# specify your configurations as a dict\n",
    "params = {\n",
    "    'boosting_type': 'gbdt',\n",
    "    'objective': 'regression',\n",
    "    'metric': {'l2', 'l1'},\n",
    "    'num_leaves': 31,\n",
    "    'learning_rate': 0.05,\n",
    "    'feature_fraction': 0.9,\n",
    "    'bagging_fraction': 0.8,\n",
    "    'bagging_freq': 5,\n",
    "    'verbose': 0\n",
    "}\n",
    "\n",
    "print('Starting training...')\n",
    "# train\n",
    "gbm = lgb.train(params,\n",
    "                lgb_train)"
   ]
  },
  {
   "cell_type": "code",
   "execution_count": 41,
   "metadata": {},
   "outputs": [],
   "source": [
    "Y_pred = gbm.predict(X_test, num_iteration=gbm.best_iteration)"
   ]
  },
  {
   "cell_type": "code",
   "execution_count": 50,
   "metadata": {},
   "outputs": [],
   "source": [
    "Y_pred[Y_pred>=0.5]=1\n",
    "Y_pred[Y_pred<0.5]=0"
   ]
  },
  {
   "cell_type": "code",
   "execution_count": 51,
   "metadata": {},
   "outputs": [
    {
     "name": "stdout",
     "output_type": "stream",
     "text": [
      "0.9538205980066445\n",
      "[[8525  254]\n",
      " [ 163   88]]\n",
      "0.29679595278246207\n"
     ]
    }
   ],
   "source": [
    "print(accuracy_score(Y_test,Y_pred))\n",
    "print(confusion_matrix(Y_pred,Y_test))\n",
    "print(f1_score(Y_test,Y_pred))"
   ]
  },
  {
   "cell_type": "code",
   "execution_count": null,
   "metadata": {},
   "outputs": [],
   "source": []
  },
  {
   "cell_type": "code",
   "execution_count": null,
   "metadata": {},
   "outputs": [],
   "source": [
    "import matplotlib.pyplot as plt\n",
    "import seaborn as sns"
   ]
  },
  {
   "cell_type": "code",
   "execution_count": null,
   "metadata": {},
   "outputs": [],
   "source": [
    "fraud=customers.loc[customers[\"FraudFound_P\"]==1]\n",
    "normal=customers.loc[customers[\"FraudFound_P\"]==0]\n",
    "sns.distplot(fraud.ClaimSize)\n",
    "plt.show()"
   ]
  },
  {
   "cell_type": "code",
   "execution_count": null,
   "metadata": {},
   "outputs": [],
   "source": [
    "plt.scatter(customers['ClaimSize'],customers['FraudFound_P'])\n",
    "plt.xlabel(\"ClaimSize\")\n",
    "plt.ylabel(\"Class\")\n",
    "plt.show()"
   ]
  },
  {
   "cell_type": "code",
   "execution_count": null,
   "metadata": {},
   "outputs": [],
   "source": [
    "#Using Spearman Correlation Coefficient to see how much the features are co-related to each other\n",
    "ax = sns.heatmap(customers.corr(method='spearman'))\n",
    "plt.show()"
   ]
  },
  {
   "cell_type": "code",
   "execution_count": null,
   "metadata": {},
   "outputs": [],
   "source": [
    "corrmat = customers.corr()\n",
    "corrmat_orig = customers.corr()\n",
    "f, ax = plt.subplots(figsize=(16, 8))\n",
    "plt.title('Correlation matrix of sub-sampled data')\n",
    "sns.heatmap(corrmat, vmax=1, square=True)"
   ]
  },
  {
   "cell_type": "code",
   "execution_count": null,
   "metadata": {},
   "outputs": [],
   "source": [
    "important_feats = customers.columns[np.abs(corrmat[\"FraudFound_P\"]) > 0.1]\n",
    "important_feats"
   ]
  },
  {
   "cell_type": "code",
   "execution_count": null,
   "metadata": {},
   "outputs": [],
   "source": []
  },
  {
   "cell_type": "code",
   "execution_count": null,
   "metadata": {},
   "outputs": [],
   "source": [
    "f, ax = plt.subplots(figsize=(24, 32))\n",
    "for i in range(len(important_feats) - 1):\n",
    "    plt.subplot(3, 4, i + 1)\n",
    "    plt.title(important_feats[i])\n",
    "    sns.boxplot(x='FraudFound_P', y=important_feats[i], data=customers)"
   ]
  },
  {
   "cell_type": "code",
   "execution_count": null,
   "metadata": {},
   "outputs": [],
   "source": [
    "from sklearn.manifold import TSNE\n",
    "from time import time\n",
    "\n",
    "\n",
    "sample_features = customers\n",
    "sample_class = sample_features.FraudFound_P\n",
    "sample_class = sample_class[:,np.newaxis]\n",
    "sample_features = sample_features.drop('FraudFound_P',axis=1)\n",
    "print(sample_features.shape,sample_class.shape)\n",
    "model = TSNE(n_components=2,random_state=0,perplexity=40,n_iter=2000)\n",
    "# print(sample_features,sample_class)\n",
    "\n",
    "t0 = time()\n",
    "embedded_data = model.fit_transform(sample_features)\n",
    "print(\"TSNE done in %0.3fs.\" % (time() - t0)) \n",
    "\n",
    "final_data = np.concatenate((embedded_data,sample_class),axis=1)\n",
    "print(final_data.shape)\n",
    "newdf = pd.DataFrame(data=final_data,columns=[\"Dim1\",\"Dim2\",\"Class\"])\n",
    "\n",
    "sns.FacetGrid(newdf,hue=\"Class\",size=6).map(plt.scatter,\"Dim1\",\"Dim2\").add_legend()\n",
    "plt.title(\"Perplexity=40 with no normalization\")\n",
    "plt.show()"
   ]
  },
  {
   "cell_type": "code",
   "execution_count": null,
   "metadata": {},
   "outputs": [],
   "source": [
    "# Using Normalization on sample data\n",
    "from sklearn.manifold import TSNE\n",
    "from time import time\n",
    "\n",
    "from sklearn.preprocessing import StandardScaler\n",
    "\n",
    "sample_features = customers\n",
    "# sample_features = df\n",
    "sample_class = sample_features.FraudFound_P\n",
    "sample_class = sample_class[:,np.newaxis]\n",
    "sample_features = sample_features.drop('FraudFound_P',axis=1)\n",
    "scr = StandardScaler()\n",
    "sample_features = scr.fit_transform(sample_features)\n",
    "print(sample_features.shape,sample_class.shape)\n",
    "model = TSNE(n_components=2,random_state=0,perplexity=20)\n",
    "# print(sample_features,sample_class)\n",
    "\n",
    "t0 = time()\n",
    "embedded_data = model.fit_transform(sample_features)\n",
    "print(\"TSNE done in %0.3fs.\" % (time() - t0)) \n",
    "\n",
    "final_data = np.concatenate((embedded_data,sample_class),axis=1)\n",
    "print(final_data.shape)\n",
    "newdf = pd.DataFrame(data=final_data,columns=[\"Dim1\",\"Dim2\",\"Class\"])\n",
    "\n",
    "sns.FacetGrid(newdf,hue=\"Class\",size=6).map(plt.scatter,\"Dim1\",\"Dim2\").add_legend()\n",
    "plt.title(\"Perplexity=20 with normalization\")\n",
    "plt.show()"
   ]
  },
  {
   "cell_type": "code",
   "execution_count": null,
   "metadata": {},
   "outputs": [],
   "source": [
    "from sklearn.manifold import TSNE\n",
    "from time import time\n",
    "\n",
    "from sklearn.preprocessing import StandardScaler\n",
    "\n",
    "sample_features = customers\n",
    "# sample_features = df\n",
    "sample_class = sample_features.FraudFound_P\n",
    "sample_class = sample_class[:,np.newaxis]\n",
    "sample_features = sample_features.drop('FraudFound_P',axis=1)\n",
    "scr = StandardScaler()\n",
    "sample_features = scr.fit_transform(sample_features)\n",
    "print(sample_features.shape,sample_class.shape)\n",
    "model = TSNE(n_components=2,random_state=0,perplexity=35)\n",
    "# print(sample_features,sample_class)\n",
    "\n",
    "t0 = time()\n",
    "embedded_data = model.fit_transform(sample_features)\n",
    "print(\"TSNE done in %0.3fs.\" % (time() - t0)) \n",
    "\n",
    "final_data = np.concatenate((embedded_data,sample_class),axis=1)\n",
    "print(final_data.shape)\n",
    "newdf = pd.DataFrame(data=final_data,columns=[\"Dim1\",\"Dim2\",\"Class\"])\n",
    "\n",
    "sns.FacetGrid(newdf,hue=\"Class\",size=6).map(plt.scatter,\"Dim1\",\"Dim2\").add_legend()\n",
    "plt.title(\"Perplexity=35 with normalization\")\n",
    "plt.show()"
   ]
  },
  {
   "cell_type": "code",
   "execution_count": null,
   "metadata": {},
   "outputs": [],
   "source": [
    "from sklearn.manifold import TSNE\n",
    "from time import time\n",
    "\n",
    "from sklearn.preprocessing import StandardScaler\n",
    "\n",
    "sample_features = customers\n",
    "# sample_features = df\n",
    "sample_class = sample_features.FraudFound_P\n",
    "sample_class = sample_class[:,np.newaxis]\n",
    "sample_features = sample_features.drop('FraudFound_P',axis=1)\n",
    "scr = StandardScaler()\n",
    "sample_features = scr.fit_transform(sample_features)\n",
    "print(sample_features.shape,sample_class.shape)\n",
    "model = TSNE(n_components=2,random_state=0,perplexity=50)\n",
    "# print(sample_features,sample_class)\n",
    "\n",
    "t0 = time()\n",
    "embedded_data = model.fit_transform(sample_features)\n",
    "print(\"TSNE done in %0.3fs.\" % (time() - t0)) \n",
    "\n",
    "final_data = np.concatenate((embedded_data,sample_class),axis=1)\n",
    "print(final_data.shape)\n",
    "newdf = pd.DataFrame(data=final_data,columns=[\"Dim1\",\"Dim2\",\"Class\"])\n",
    "\n",
    "sns.FacetGrid(newdf,hue=\"Class\",size=6).map(plt.scatter,\"Dim1\",\"Dim2\").add_legend()\n",
    "plt.title(\"Perplexity=50 with normalization\")\n",
    "plt.show()"
   ]
  },
  {
   "cell_type": "code",
   "execution_count": null,
   "metadata": {},
   "outputs": [],
   "source": [
    "from sklearn.manifold import TSNE\n",
    "from time import time\n",
    "\n",
    "from sklearn.preprocessing import StandardScaler\n",
    "\n",
    "sample_features = customers\n",
    "# sample_features = df\n",
    "sample_class = sample_features.FraudFound_P\n",
    "sample_class = sample_class[:,np.newaxis]\n",
    "sample_features = sample_features.drop('FraudFound_P',axis=1)\n",
    "scr = StandardScaler()\n",
    "sample_features = scr.fit_transform(sample_features)\n",
    "print(sample_features.shape,sample_class.shape)\n",
    "model = TSNE(n_components=2,random_state=0,perplexity=30)\n",
    "# print(sample_features,sample_class)\n",
    "\n",
    "t0 = time()\n",
    "embedded_data = model.fit_transform(sample_features)\n",
    "print(\"TSNE done in %0.3fs.\" % (time() - t0)) \n",
    "\n",
    "final_data = np.concatenate((embedded_data,sample_class),axis=1)\n",
    "print(final_data.shape)\n",
    "newdf = pd.DataFrame(data=final_data,columns=[\"Dim1\",\"Dim2\",\"Class\"])\n",
    "\n",
    "sns.FacetGrid(newdf,hue=\"Class\",size=6).map(plt.scatter,\"Dim1\",\"Dim2\").add_legend()\n",
    "plt.title(\"Perplexity=30 with normalization\")\n",
    "plt.show()"
   ]
  }
 ],
 "metadata": {
  "kernelspec": {
   "display_name": "Python 3",
   "language": "python",
   "name": "python3"
  },
  "language_info": {
   "codemirror_mode": {
    "name": "ipython",
    "version": 3
   },
   "file_extension": ".py",
   "mimetype": "text/x-python",
   "name": "python",
   "nbconvert_exporter": "python",
   "pygments_lexer": "ipython3",
   "version": "3.6.8"
  }
 },
 "nbformat": 4,
 "nbformat_minor": 2
}
