{
 "cells": [
  {
   "cell_type": "code",
   "execution_count": 1,
   "metadata": {},
   "outputs": [],
   "source": [
    "import pandas as pd\n",
    "import numpy as np"
   ]
  },
  {
   "cell_type": "code",
   "execution_count": 66,
   "metadata": {},
   "outputs": [],
   "source": [
    "from sklearn.ensemble import RandomForestClassifier\n",
    "from sklearn.model_selection import train_test_split"
   ]
  },
  {
   "cell_type": "code",
   "execution_count": 2,
   "metadata": {},
   "outputs": [],
   "source": [
    "xl_file = pd.ExcelFile('Dataset.xlsx')"
   ]
  },
  {
   "cell_type": "code",
   "execution_count": 4,
   "metadata": {},
   "outputs": [],
   "source": [
    "dfs = {sheet_name: xl_file.parse(sheet_name) \n",
    "          for sheet_name in xl_file.sheet_names}"
   ]
  },
  {
   "cell_type": "code",
   "execution_count": 76,
   "metadata": {},
   "outputs": [
    {
     "name": "stderr",
     "output_type": "stream",
     "text": [
      "/anaconda3/lib/python3.6/site-packages/pandas/io/excel.py:329: FutureWarning: The `sheetname` keyword is deprecated, use `sheet_name` instead\n",
      "  **kwds)\n"
     ]
    }
   ],
   "source": [
    "customers = pd.read_excel('Dataset.xlsx',\n",
    "sheetname=0,\n",
    "header=0,\n",
    "index_col=False,\n",
    "keep_default_na=True\n",
    ")"
   ]
  },
  {
   "cell_type": "code",
   "execution_count": 3,
   "metadata": {},
   "outputs": [
    {
     "data": {
      "text/plain": [
       "Index(['Month', 'WeekOfMonth', 'DayOfWeek', 'Make', 'AccidentArea',\n",
       "       'DayOfWeekClaimed', 'MonthClaimed', 'WeekOfMonthClaimed', 'Sex',\n",
       "       'MaritalStatus', 'Age', 'Fault', 'PolicyType', 'VehicleCategory',\n",
       "       'VehiclePrice', 'FraudFound_P', 'PolicyNumber', 'RepNumber',\n",
       "       'Deductible', 'DriverRating', 'Days_Policy_Accident',\n",
       "       'Days_Policy_Claim', 'PastNumberOfClaims', 'AgeOfVehicle',\n",
       "       'AgeOfPolicyHolder', 'PoliceReportFiled', 'WitnessPresent', 'AgentType',\n",
       "       'NumberOfSuppliments', 'AddressChange_Claim', 'NumberOfCars', 'Year',\n",
       "       'BasePolicy', 'ClaimSize'],\n",
       "      dtype='object')"
      ]
     },
     "execution_count": 3,
     "metadata": {},
     "output_type": "execute_result"
    }
   ],
   "source": [
    "customers.columns"
   ]
  },
  {
   "cell_type": "code",
   "execution_count": 4,
   "metadata": {
    "scrolled": false
   },
   "outputs": [
    {
     "data": {
      "text/html": [
       "<div>\n",
       "<style scoped>\n",
       "    .dataframe tbody tr th:only-of-type {\n",
       "        vertical-align: middle;\n",
       "    }\n",
       "\n",
       "    .dataframe tbody tr th {\n",
       "        vertical-align: top;\n",
       "    }\n",
       "\n",
       "    .dataframe thead th {\n",
       "        text-align: right;\n",
       "    }\n",
       "</style>\n",
       "<table border=\"1\" class=\"dataframe\">\n",
       "  <thead>\n",
       "    <tr style=\"text-align: right;\">\n",
       "      <th></th>\n",
       "      <th>Month</th>\n",
       "      <th>WeekOfMonth</th>\n",
       "      <th>DayOfWeek</th>\n",
       "      <th>Make</th>\n",
       "      <th>AccidentArea</th>\n",
       "      <th>DayOfWeekClaimed</th>\n",
       "      <th>MonthClaimed</th>\n",
       "      <th>WeekOfMonthClaimed</th>\n",
       "      <th>Sex</th>\n",
       "      <th>MaritalStatus</th>\n",
       "      <th>...</th>\n",
       "      <th>AgeOfPolicyHolder</th>\n",
       "      <th>PoliceReportFiled</th>\n",
       "      <th>WitnessPresent</th>\n",
       "      <th>AgentType</th>\n",
       "      <th>NumberOfSuppliments</th>\n",
       "      <th>AddressChange_Claim</th>\n",
       "      <th>NumberOfCars</th>\n",
       "      <th>Year</th>\n",
       "      <th>BasePolicy</th>\n",
       "      <th>ClaimSize</th>\n",
       "    </tr>\n",
       "  </thead>\n",
       "  <tbody>\n",
       "    <tr>\n",
       "      <th>0</th>\n",
       "      <td>Dec</td>\n",
       "      <td>5</td>\n",
       "      <td>Wednesday</td>\n",
       "      <td>Honda</td>\n",
       "      <td>Urban</td>\n",
       "      <td>Tuesday</td>\n",
       "      <td>Jan</td>\n",
       "      <td>1</td>\n",
       "      <td>Female</td>\n",
       "      <td>Single</td>\n",
       "      <td>...</td>\n",
       "      <td>26 to 30</td>\n",
       "      <td>No</td>\n",
       "      <td>No</td>\n",
       "      <td>External</td>\n",
       "      <td>none</td>\n",
       "      <td>1 year</td>\n",
       "      <td>3 to 4</td>\n",
       "      <td>1994</td>\n",
       "      <td>Liability</td>\n",
       "      <td>55526.069421</td>\n",
       "    </tr>\n",
       "    <tr>\n",
       "      <th>1</th>\n",
       "      <td>Jan</td>\n",
       "      <td>3</td>\n",
       "      <td>Wednesday</td>\n",
       "      <td>Honda</td>\n",
       "      <td>Urban</td>\n",
       "      <td>Monday</td>\n",
       "      <td>Jan</td>\n",
       "      <td>4</td>\n",
       "      <td>Male</td>\n",
       "      <td>Single</td>\n",
       "      <td>...</td>\n",
       "      <td>31 to 35</td>\n",
       "      <td>Yes</td>\n",
       "      <td>No</td>\n",
       "      <td>External</td>\n",
       "      <td>none</td>\n",
       "      <td>no change</td>\n",
       "      <td>1 vehicle</td>\n",
       "      <td>1994</td>\n",
       "      <td>Collision</td>\n",
       "      <td>59294.455571</td>\n",
       "    </tr>\n",
       "    <tr>\n",
       "      <th>2</th>\n",
       "      <td>Oct</td>\n",
       "      <td>5</td>\n",
       "      <td>Friday</td>\n",
       "      <td>Honda</td>\n",
       "      <td>Urban</td>\n",
       "      <td>Thursday</td>\n",
       "      <td>Nov</td>\n",
       "      <td>2</td>\n",
       "      <td>Male</td>\n",
       "      <td>Married</td>\n",
       "      <td>...</td>\n",
       "      <td>41 to 50</td>\n",
       "      <td>No</td>\n",
       "      <td>No</td>\n",
       "      <td>External</td>\n",
       "      <td>none</td>\n",
       "      <td>no change</td>\n",
       "      <td>1 vehicle</td>\n",
       "      <td>1994</td>\n",
       "      <td>Collision</td>\n",
       "      <td>71756.941320</td>\n",
       "    </tr>\n",
       "    <tr>\n",
       "      <th>3</th>\n",
       "      <td>Jun</td>\n",
       "      <td>2</td>\n",
       "      <td>Saturday</td>\n",
       "      <td>Toyota</td>\n",
       "      <td>Rural</td>\n",
       "      <td>Friday</td>\n",
       "      <td>Jul</td>\n",
       "      <td>1</td>\n",
       "      <td>Male</td>\n",
       "      <td>Married</td>\n",
       "      <td>...</td>\n",
       "      <td>51 to 65</td>\n",
       "      <td>Yes</td>\n",
       "      <td>No</td>\n",
       "      <td>External</td>\n",
       "      <td>more than 5</td>\n",
       "      <td>no change</td>\n",
       "      <td>1 vehicle</td>\n",
       "      <td>1994</td>\n",
       "      <td>Liability</td>\n",
       "      <td>7584.153493</td>\n",
       "    </tr>\n",
       "    <tr>\n",
       "      <th>4</th>\n",
       "      <td>Feb</td>\n",
       "      <td>1</td>\n",
       "      <td>Saturday</td>\n",
       "      <td>Honda</td>\n",
       "      <td>Urban</td>\n",
       "      <td>Monday</td>\n",
       "      <td>Feb</td>\n",
       "      <td>3</td>\n",
       "      <td>Male</td>\n",
       "      <td>Married</td>\n",
       "      <td>...</td>\n",
       "      <td>36 to 40</td>\n",
       "      <td>No</td>\n",
       "      <td>No</td>\n",
       "      <td>External</td>\n",
       "      <td>1 to 2</td>\n",
       "      <td>no change</td>\n",
       "      <td>1 vehicle</td>\n",
       "      <td>1994</td>\n",
       "      <td>Collision</td>\n",
       "      <td>98545.374339</td>\n",
       "    </tr>\n",
       "  </tbody>\n",
       "</table>\n",
       "<p>5 rows × 34 columns</p>\n",
       "</div>"
      ],
      "text/plain": [
       "  Month  WeekOfMonth  DayOfWeek    Make AccidentArea DayOfWeekClaimed  \\\n",
       "0   Dec            5  Wednesday   Honda        Urban          Tuesday   \n",
       "1   Jan            3  Wednesday   Honda        Urban           Monday   \n",
       "2   Oct            5     Friday   Honda        Urban         Thursday   \n",
       "3   Jun            2   Saturday  Toyota        Rural           Friday   \n",
       "4   Feb            1   Saturday   Honda        Urban           Monday   \n",
       "\n",
       "  MonthClaimed  WeekOfMonthClaimed     Sex MaritalStatus      ...       \\\n",
       "0          Jan                   1  Female        Single      ...        \n",
       "1          Jan                   4    Male        Single      ...        \n",
       "2          Nov                   2    Male       Married      ...        \n",
       "3          Jul                   1    Male       Married      ...        \n",
       "4          Feb                   3    Male       Married      ...        \n",
       "\n",
       "   AgeOfPolicyHolder PoliceReportFiled WitnessPresent AgentType  \\\n",
       "0           26 to 30                No             No  External   \n",
       "1           31 to 35               Yes             No  External   \n",
       "2           41 to 50                No             No  External   \n",
       "3           51 to 65               Yes             No  External   \n",
       "4           36 to 40                No             No  External   \n",
       "\n",
       "  NumberOfSuppliments  AddressChange_Claim  NumberOfCars  Year  BasePolicy  \\\n",
       "0                none               1 year        3 to 4  1994   Liability   \n",
       "1                none            no change     1 vehicle  1994   Collision   \n",
       "2                none            no change     1 vehicle  1994   Collision   \n",
       "3         more than 5            no change     1 vehicle  1994   Liability   \n",
       "4              1 to 2            no change     1 vehicle  1994   Collision   \n",
       "\n",
       "      ClaimSize  \n",
       "0  55526.069421  \n",
       "1  59294.455571  \n",
       "2  71756.941320  \n",
       "3   7584.153493  \n",
       "4  98545.374339  \n",
       "\n",
       "[5 rows x 34 columns]"
      ]
     },
     "execution_count": 4,
     "metadata": {},
     "output_type": "execute_result"
    }
   ],
   "source": [
    "customers.head()"
   ]
  },
  {
   "cell_type": "code",
   "execution_count": 94,
   "metadata": {},
   "outputs": [
    {
     "data": {
      "text/plain": [
       "Monday       2811\n",
       "Tuesday      2545\n",
       "Wednesday    2232\n",
       "Thursday     2000\n",
       "Friday       1842\n",
       "Saturday       94\n",
       "Sunday         40\n",
       "0               1\n",
       "Name: DayOfWeekClaimed, dtype: int64"
      ]
     },
     "execution_count": 94,
     "metadata": {},
     "output_type": "execute_result"
    }
   ],
   "source": [
    "customers['DayOfWeekClaimed'].value_counts()"
   ]
  },
  {
   "cell_type": "code",
   "execution_count": 5,
   "metadata": {},
   "outputs": [
    {
     "name": "stdout",
     "output_type": "stream",
     "text": [
      "Fraud 142\n",
      "Not Fraud 1463\n",
      "Total Claims 1605\n",
      "Fraud 8.847352024922118 %\n",
      "Not Fraud 91.15264797507788 %\n"
     ]
    }
   ],
   "source": [
    "## Price more than 69000\n",
    "X=customers[customers['VehiclePrice'] =='more than 69000']['FraudFound_P'].values\n",
    "Fraud=len(np.where(X==1)[0])\n",
    "NotFraud=len(np.where(X==0)[0])\n",
    "TotalClaims=len(X)\n",
    "print('Fraud',Fraud)\n",
    "print('Not Fraud',NotFraud)\n",
    "print('Total Claims',TotalClaims)\n",
    "## Percentage of fraud claim\n",
    "print('Fraud',(Fraud/TotalClaims)*100,'%')\n",
    "print('Not Fraud',(NotFraud/TotalClaims)*100,'%')"
   ]
  },
  {
   "cell_type": "code",
   "execution_count": 6,
   "metadata": {},
   "outputs": [
    {
     "name": "stdout",
     "output_type": "stream",
     "text": [
      "Fraud 0\n",
      "Not Fraud 14\n",
      "Total Claims 14\n",
      "Fraud 0.0 %\n",
      "Not Fraud 100.0 %\n"
     ]
    }
   ],
   "source": [
    "## Checking the witness present and price more than 69000\n",
    "X=customers[customers['VehiclePrice'] =='more than 69000']\n",
    "X=X[X['WitnessPresent']=='Yes']['FraudFound_P'].values\n",
    "Fraud=len(np.where(X==1)[0])\n",
    "NotFraud=len(np.where(X==0)[0])\n",
    "TotalClaims=len(X)\n",
    "print('Fraud',Fraud)\n",
    "print('Not Fraud',NotFraud)\n",
    "print('Total Claims',TotalClaims)\n",
    "## Percentage of fraud claim\n",
    "print('Fraud',(Fraud/TotalClaims)*100,'%')\n",
    "print('Not Fraud',(NotFraud/TotalClaims)*100,'%')"
   ]
  },
  {
   "cell_type": "code",
   "execution_count": 7,
   "metadata": {},
   "outputs": [
    {
     "name": "stdout",
     "output_type": "stream",
     "text": [
      "Fraud 2\n",
      "Not Fraud 45\n",
      "Total Claims 47\n",
      "Fraud 4.25531914893617 %\n",
      "Not Fraud 95.74468085106383 %\n"
     ]
    }
   ],
   "source": [
    "## Checking the police report present and price more than 69000\n",
    "X=customers[customers['VehiclePrice'] =='more than 69000']\n",
    "X=X[X['PoliceReportFiled']=='Yes']['FraudFound_P'].values\n",
    "Fraud=len(np.where(X==1)[0])\n",
    "NotFraud=len(np.where(X==0)[0])\n",
    "TotalClaims=len(X)\n",
    "print('Fraud',Fraud)\n",
    "print('Not Fraud',NotFraud)\n",
    "print('Total Claims',TotalClaims)\n",
    "## Percentage of fraud claim\n",
    "print('Fraud',(Fraud/TotalClaims)*100,'%')\n",
    "print('Not Fraud',(NotFraud/TotalClaims)*100,'%')"
   ]
  },
  {
   "cell_type": "code",
   "execution_count": 17,
   "metadata": {},
   "outputs": [
    {
     "name": "stdout",
     "output_type": "stream",
     "text": [
      "Fraud 19\n",
      "Not Fraud 150\n",
      "Total Claims 169\n",
      "Fraud 11.242603550295858 %\n",
      "Not Fraud 88.75739644970415 %\n"
     ]
    }
   ],
   "source": [
    "X=customers[customers['VehiclePrice'] =='more than 69000']\n",
    "X=X[X['AccidentArea']=='Rural']['FraudFound_P'].values\n",
    "Fraud=len(np.where(X==1)[0])\n",
    "NotFraud=len(np.where(X==0)[0])\n",
    "TotalClaims=len(X)\n",
    "print('Fraud',Fraud)\n",
    "print('Not Fraud',NotFraud)\n",
    "print('Total Claims',TotalClaims)\n",
    "## Percentage of fraud claim\n",
    "print('Fraud',(Fraud/TotalClaims)*100,'%')\n",
    "print('Not Fraud',(NotFraud/TotalClaims)*100,'%')"
   ]
  },
  {
   "cell_type": "code",
   "execution_count": 19,
   "metadata": {
    "scrolled": true
   },
   "outputs": [
    {
     "name": "stdout",
     "output_type": "stream",
     "text": [
      "Fraud 587\n",
      "Not Fraud 9769\n",
      "Total Claims 10356\n",
      "Fraud 5.668211664735419 %\n",
      "Not Fraud 94.33178833526458 %\n"
     ]
    }
   ],
   "source": [
    "X=customers[customers['AccidentArea']=='Urban']['FraudFound_P'].values\n",
    "Fraud=len(np.where(X==1)[0])\n",
    "NotFraud=len(np.where(X==0)[0])\n",
    "TotalClaims=len(X)\n",
    "print('Fraud',Fraud)\n",
    "print('Not Fraud',NotFraud)\n",
    "print('Total Claims',TotalClaims)\n",
    "## Percentage of fraud claim\n",
    "print('Fraud',(Fraud/TotalClaims)*100,'%')\n",
    "print('Not Fraud',(NotFraud/TotalClaims)*100,'%')"
   ]
  },
  {
   "cell_type": "code",
   "execution_count": 40,
   "metadata": {},
   "outputs": [
    {
     "name": "stdout",
     "output_type": "stream",
     "text": [
      "Fraud 172\n",
      "Not Fraud 2551\n",
      "Total Claims 2723\n",
      "Fraud 6.316562614763129 %\n",
      "Not Fraud 93.68343738523687 %\n"
     ]
    }
   ],
   "source": [
    "X=customers[customers['Sex'] =='Male']\n",
    "X=X[X['MaritalStatus']=='Single']['FraudFound_P'].values\n",
    "Fraud=len(np.where(X==1)[0])\n",
    "NotFraud=len(np.where(X==0)[0])\n",
    "TotalClaims=len(X)\n",
    "print('Fraud',Fraud)\n",
    "print('Not Fraud',NotFraud)\n",
    "print('Total Claims',TotalClaims)\n",
    "## Percentage of fraud claim\n",
    "print('Fraud',(Fraud/TotalClaims)*100,'%')\n",
    "print('Not Fraud',(NotFraud/TotalClaims)*100,'%')"
   ]
  },
  {
   "cell_type": "code",
   "execution_count": 103,
   "metadata": {
    "scrolled": true
   },
   "outputs": [
    {
     "name": "stdout",
     "output_type": "stream",
     "text": [
      "Fraud 128\n",
      "Not Fraud 1714\n",
      "Total Claims 1842\n",
      "Fraud 6.948968512486428 %\n",
      "Not Fraud 93.05103148751357 %\n"
     ]
    }
   ],
   "source": [
    "X=customers[customers['DayOfWeekClaimed'] =='Friday']['FraudFound_P'].values\n",
    "Fraud=len(np.where(X==1)[0])\n",
    "NotFraud=len(np.where(X==0)[0])\n",
    "TotalClaims=len(X)\n",
    "print('Fraud',Fraud)\n",
    "print('Not Fraud',NotFraud)\n",
    "print('Total Claims',TotalClaims)\n",
    "## Percentage of fraud claim\n",
    "print('Fraud',(Fraud/TotalClaims)*100,'%')\n",
    "print('Not Fraud',(NotFraud/TotalClaims)*100,'%')"
   ]
  },
  {
   "cell_type": "code",
   "execution_count": 110,
   "metadata": {},
   "outputs": [
    {
     "name": "stdout",
     "output_type": "stream",
     "text": [
      "Fraud 2\n",
      "Not Fraud 66\n",
      "Total Claims 68\n",
      "Fraud 2.941176470588235 %\n",
      "Not Fraud 97.05882352941177 %\n"
     ]
    }
   ],
   "source": [
    "X=customers[customers['WitnessPresent'] =='Yes']['FraudFound_P'].values\n",
    "Fraud=len(np.where(X==1)[0])\n",
    "NotFraud=len(np.where(X==0)[0])\n",
    "TotalClaims=len(X)\n",
    "print('Fraud',Fraud)\n",
    "print('Not Fraud',NotFraud)\n",
    "print('Total Claims',TotalClaims)\n",
    "## Percentage of fraud claim\n",
    "print('Fraud',(Fraud/TotalClaims)*100,'%')\n",
    "print('Not Fraud',(NotFraud/TotalClaims)*100,'%')"
   ]
  },
  {
   "cell_type": "code",
   "execution_count": 113,
   "metadata": {},
   "outputs": [],
   "source": [
    "X=customers[customers['WitnessPresent'] =='Yes']\n",
    "X=X[X['PoliceReportFiled']=='Yes']"
   ]
  },
  {
   "cell_type": "code",
   "execution_count": 115,
   "metadata": {},
   "outputs": [
    {
     "data": {
      "text/plain": [
       "1182     0\n",
       "1504     0\n",
       "1802     0\n",
       "1933     0\n",
       "2064     0\n",
       "2074     0\n",
       "2347     0\n",
       "2881     0\n",
       "3002     0\n",
       "3794     0\n",
       "3888     0\n",
       "4693     0\n",
       "4897     0\n",
       "6403     0\n",
       "7037     0\n",
       "7113     0\n",
       "7241     0\n",
       "7320     0\n",
       "8285     0\n",
       "8346     0\n",
       "8824     0\n",
       "9339     0\n",
       "9478     0\n",
       "10330    0\n",
       "10568    0\n",
       "10604    0\n",
       "Name: FraudFound_P, dtype: int64"
      ]
     },
     "execution_count": 115,
     "metadata": {},
     "output_type": "execute_result"
    }
   ],
   "source": [
    "X['FraudFound_P']"
   ]
  },
  {
   "cell_type": "code",
   "execution_count": 61,
   "metadata": {},
   "outputs": [
    {
     "data": {
      "text/plain": [
       "685"
      ]
     },
     "execution_count": 61,
     "metadata": {},
     "output_type": "execute_result"
    }
   ],
   "source": [
    "X=customers[customers['FraudFound_P']==1]['FraudFound_P'].values\n",
    "len(X)"
   ]
  },
  {
   "cell_type": "code",
   "execution_count": 62,
   "metadata": {},
   "outputs": [
    {
     "data": {
      "text/plain": [
       "10880"
      ]
     },
     "execution_count": 62,
     "metadata": {},
     "output_type": "execute_result"
    }
   ],
   "source": [
    "X=customers[customers['FraudFound_P']==0]['FraudFound_P'].values\n",
    "len(X)"
   ]
  },
  {
   "cell_type": "code",
   "execution_count": 6,
   "metadata": {},
   "outputs": [
    {
     "data": {
      "text/plain": [
       "(11565, 34)"
      ]
     },
     "execution_count": 6,
     "metadata": {},
     "output_type": "execute_result"
    }
   ],
   "source": [
    "customers.shape"
   ]
  },
  {
   "cell_type": "code",
   "execution_count": 63,
   "metadata": {},
   "outputs": [],
   "source": [
    "Y=customers['FraudFound_P'].values"
   ]
  },
  {
   "cell_type": "code",
   "execution_count": 64,
   "metadata": {},
   "outputs": [],
   "source": [
    "del customers['FraudFound_P']"
   ]
  },
  {
   "cell_type": "code",
   "execution_count": 30,
   "metadata": {},
   "outputs": [],
   "source": [
    "### Analysis the data"
   ]
  },
  {
   "cell_type": "code",
   "execution_count": 31,
   "metadata": {},
   "outputs": [
    {
     "data": {
      "text/plain": [
       "array(['All Perils', 'Collision', 'Liability'], dtype=object)"
      ]
     },
     "execution_count": 31,
     "metadata": {},
     "output_type": "execute_result"
    }
   ],
   "source": [
    "np.unique(customers['BasePolicy'])"
   ]
  },
  {
   "cell_type": "code",
   "execution_count": 27,
   "metadata": {},
   "outputs": [
    {
     "data": {
      "text/plain": [
       "array(['Rural', 'Urban'], dtype=object)"
      ]
     },
     "execution_count": 27,
     "metadata": {},
     "output_type": "execute_result"
    }
   ],
   "source": [
    "np.unique(customers['AccidentArea'])"
   ]
  },
  {
   "cell_type": "code",
   "execution_count": 28,
   "metadata": {},
   "outputs": [
    {
     "data": {
      "text/plain": [
       "array(['Divorced', 'Married', 'Single', 'Widow'], dtype=object)"
      ]
     },
     "execution_count": 28,
     "metadata": {},
     "output_type": "execute_result"
    }
   ],
   "source": [
    "np.unique(customers['MaritalStatus'])"
   ]
  },
  {
   "cell_type": "code",
   "execution_count": 29,
   "metadata": {},
   "outputs": [
    {
     "data": {
      "text/plain": [
       "array(['Policy Holder', 'Third Party'], dtype=object)"
      ]
     },
     "execution_count": 29,
     "metadata": {},
     "output_type": "execute_result"
    }
   ],
   "source": [
    "np.unique(customers['Fault'])"
   ]
  },
  {
   "cell_type": "code",
   "execution_count": 33,
   "metadata": {},
   "outputs": [
    {
     "data": {
      "text/plain": [
       "array(['Sedan - All Perils', 'Sedan - Collision', 'Sedan - Liability',\n",
       "       'Sport - All Perils', 'Sport - Collision', 'Sport - Liability',\n",
       "       'Utility - All Perils', 'Utility - Collision',\n",
       "       'Utility - Liability'], dtype=object)"
      ]
     },
     "execution_count": 33,
     "metadata": {},
     "output_type": "execute_result"
    }
   ],
   "source": [
    "np.unique(customers['PolicyType'])"
   ]
  },
  {
   "cell_type": "code",
   "execution_count": 34,
   "metadata": {},
   "outputs": [
    {
     "data": {
      "text/plain": [
       "array(['Sedan', 'Sport', 'Utility'], dtype=object)"
      ]
     },
     "execution_count": 34,
     "metadata": {},
     "output_type": "execute_result"
    }
   ],
   "source": [
    "np.unique(customers['VehicleCategory'])"
   ]
  },
  {
   "cell_type": "code",
   "execution_count": 37,
   "metadata": {},
   "outputs": [
    {
     "data": {
      "text/plain": [
       "array(['20000 to 29000', '30000 to 39000', '40000 to 59000',\n",
       "       '60000 to 69000', 'less than 20000', 'more than 69000'],\n",
       "      dtype=object)"
      ]
     },
     "execution_count": 37,
     "metadata": {},
     "output_type": "execute_result"
    }
   ],
   "source": [
    "np.unique(customers['VehiclePrice'])"
   ]
  },
  {
   "cell_type": "code",
   "execution_count": 43,
   "metadata": {},
   "outputs": [
    {
     "data": {
      "text/plain": [
       "array([ 1,  2,  3,  4,  5,  6,  7,  8,  9, 10, 11, 12, 13, 14, 15, 16])"
      ]
     },
     "execution_count": 43,
     "metadata": {},
     "output_type": "execute_result"
    }
   ],
   "source": [
    "np.unique(customers['RepNumber'])"
   ]
  },
  {
   "cell_type": "code",
   "execution_count": 44,
   "metadata": {},
   "outputs": [
    {
     "data": {
      "text/plain": [
       "array([300, 400, 500, 700])"
      ]
     },
     "execution_count": 44,
     "metadata": {},
     "output_type": "execute_result"
    }
   ],
   "source": [
    "np.unique(customers['Deductible'])"
   ]
  },
  {
   "cell_type": "code",
   "execution_count": 45,
   "metadata": {},
   "outputs": [
    {
     "data": {
      "text/plain": [
       "array([ 1.,  2.,  3.,  4., nan, nan, nan, nan, nan, nan])"
      ]
     },
     "execution_count": 45,
     "metadata": {},
     "output_type": "execute_result"
    }
   ],
   "source": [
    "np.unique(customers['DriverRating'])"
   ]
  },
  {
   "cell_type": "code",
   "execution_count": 46,
   "metadata": {},
   "outputs": [
    {
     "data": {
      "text/plain": [
       "array(['1 to 7', '15 to 30', '8 to 15', 'more than 30', 'none'],\n",
       "      dtype=object)"
      ]
     },
     "execution_count": 46,
     "metadata": {},
     "output_type": "execute_result"
    }
   ],
   "source": [
    "np.unique(customers['Days_Policy_Accident'])"
   ]
  },
  {
   "cell_type": "code",
   "execution_count": 48,
   "metadata": {},
   "outputs": [
    {
     "data": {
      "text/plain": [
       "array(['15 to 30', '8 to 15', 'more than 30', 'none'], dtype=object)"
      ]
     },
     "execution_count": 48,
     "metadata": {},
     "output_type": "execute_result"
    }
   ],
   "source": [
    "np.unique(customers['Days_Policy_Claim'])"
   ]
  },
  {
   "cell_type": "code",
   "execution_count": 50,
   "metadata": {},
   "outputs": [
    {
     "data": {
      "text/plain": [
       "2 to 4         4140\n",
       "none           3286\n",
       "1              2675\n",
       "more than 4    1464\n",
       "Name: PastNumberOfClaims, dtype: int64"
      ]
     },
     "execution_count": 50,
     "metadata": {},
     "output_type": "execute_result"
    }
   ],
   "source": [
    "customers['PastNumberOfClaims'].value_counts()"
   ]
  },
  {
   "cell_type": "code",
   "execution_count": 51,
   "metadata": {},
   "outputs": [
    {
     "data": {
      "text/plain": [
       "7 years        4388\n",
       "more than 7    2993\n",
       "6 years        2581\n",
       "5 years         990\n",
       "new             285\n",
       "4 years         176\n",
       "3 years         100\n",
       "2 years          52\n",
       "Name: AgeOfVehicle, dtype: int64"
      ]
     },
     "execution_count": 51,
     "metadata": {},
     "output_type": "execute_result"
    }
   ],
   "source": [
    "customers['AgeOfVehicle'].value_counts()"
   ]
  },
  {
   "cell_type": "code",
   "execution_count": 52,
   "metadata": {},
   "outputs": [
    {
     "data": {
      "text/plain": [
       "31 to 35    4199\n",
       "36 to 40    3008\n",
       "41 to 50    2122\n",
       "51 to 65    1070\n",
       "26 to 30     445\n",
       "over 65      388\n",
       "16 to 17     247\n",
       "21 to 25      73\n",
       "18 to 20      13\n",
       "Name: AgeOfPolicyHolder, dtype: int64"
      ]
     },
     "execution_count": 52,
     "metadata": {},
     "output_type": "execute_result"
    }
   ],
   "source": [
    "customers['AgeOfPolicyHolder'].value_counts()"
   ]
  },
  {
   "cell_type": "code",
   "execution_count": 54,
   "metadata": {},
   "outputs": [
    {
     "data": {
      "text/plain": [
       "No     11235\n",
       "Yes      330\n",
       "Name: PoliceReportFiled, dtype: int64"
      ]
     },
     "execution_count": 54,
     "metadata": {},
     "output_type": "execute_result"
    }
   ],
   "source": [
    "customers['PoliceReportFiled'].value_counts()"
   ]
  },
  {
   "cell_type": "code",
   "execution_count": 55,
   "metadata": {},
   "outputs": [
    {
     "data": {
      "text/plain": [
       "No     11497\n",
       "Yes       68\n",
       "Name: WitnessPresent, dtype: int64"
      ]
     },
     "execution_count": 55,
     "metadata": {},
     "output_type": "execute_result"
    }
   ],
   "source": [
    "customers['WitnessPresent'].value_counts()"
   ]
  },
  {
   "cell_type": "code",
   "execution_count": 56,
   "metadata": {},
   "outputs": [
    {
     "data": {
      "text/plain": [
       "External    11394\n",
       "Internal      171\n",
       "Name: AgentType, dtype: int64"
      ]
     },
     "execution_count": 56,
     "metadata": {},
     "output_type": "execute_result"
    }
   ],
   "source": [
    "customers['AgentType'].value_counts()"
   ]
  },
  {
   "cell_type": "code",
   "execution_count": 57,
   "metadata": {},
   "outputs": [
    {
     "data": {
      "text/plain": [
       "none           5330\n",
       "more than 5    2875\n",
       "1 to 2         1846\n",
       "3 to 5         1514\n",
       "Name: NumberOfSuppliments, dtype: int64"
      ]
     },
     "execution_count": 57,
     "metadata": {},
     "output_type": "execute_result"
    }
   ],
   "source": [
    "customers['NumberOfSuppliments'].value_counts()"
   ]
  },
  {
   "cell_type": "code",
   "execution_count": 58,
   "metadata": {},
   "outputs": [
    {
     "data": {
      "text/plain": [
       "no change         10715\n",
       "4 to 8 years        496\n",
       "2 to 3 years        222\n",
       "1 year              128\n",
       "under 6 months        4\n",
       "Name: AddressChange_Claim, dtype: int64"
      ]
     },
     "execution_count": 58,
     "metadata": {},
     "output_type": "execute_result"
    }
   ],
   "source": [
    "customers['AddressChange_Claim'].value_counts()"
   ]
  },
  {
   "cell_type": "code",
   "execution_count": 59,
   "metadata": {},
   "outputs": [
    {
     "data": {
      "text/plain": [
       "1 vehicle      10698\n",
       "2 vehicles       559\n",
       "3 to 4           288\n",
       "5 to 8            19\n",
       "more than 8        1\n",
       "Name: NumberOfCars, dtype: int64"
      ]
     },
     "execution_count": 59,
     "metadata": {},
     "output_type": "execute_result"
    }
   ],
   "source": [
    "customers['NumberOfCars'].value_counts()"
   ]
  },
  {
   "cell_type": "code",
   "execution_count": 60,
   "metadata": {},
   "outputs": [
    {
     "data": {
      "text/plain": [
       "1994    4596\n",
       "1995    3923\n",
       "1996    3046\n",
       "Name: Year, dtype: int64"
      ]
     },
     "execution_count": 60,
     "metadata": {},
     "output_type": "execute_result"
    }
   ],
   "source": [
    "customers['Year'].value_counts()"
   ]
  },
  {
   "cell_type": "code",
   "execution_count": 72,
   "metadata": {},
   "outputs": [],
   "source": [
    "X=customers.values"
   ]
  },
  {
   "cell_type": "code",
   "execution_count": 69,
   "metadata": {},
   "outputs": [
    {
     "data": {
      "text/plain": [
       "(11565,)"
      ]
     },
     "execution_count": 69,
     "metadata": {},
     "output_type": "execute_result"
    }
   ],
   "source": [
    "Y.shape"
   ]
  },
  {
   "cell_type": "code",
   "execution_count": null,
   "metadata": {},
   "outputs": [],
   "source": []
  },
  {
   "cell_type": "code",
   "execution_count": 73,
   "metadata": {},
   "outputs": [],
   "source": [
    "X_train,X_test,Y_train,Y_test=train_test_split(X,Y,random_state=0)"
   ]
  },
  {
   "cell_type": "raw",
   "metadata": {},
   "source": [
    "clf=RandomForestClassifier()\n",
    "clf.fit(X_train,Y_train)"
   ]
  }
 ],
 "metadata": {
  "kernelspec": {
   "display_name": "Python 3",
   "language": "python",
   "name": "python3"
  },
  "language_info": {
   "codemirror_mode": {
    "name": "ipython",
    "version": 3
   },
   "file_extension": ".py",
   "mimetype": "text/x-python",
   "name": "python",
   "nbconvert_exporter": "python",
   "pygments_lexer": "ipython3",
   "version": "3.6.5"
  }
 },
 "nbformat": 4,
 "nbformat_minor": 2
}
