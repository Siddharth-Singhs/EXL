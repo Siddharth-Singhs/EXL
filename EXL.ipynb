{
 "cells": [
  {
   "cell_type": "code",
   "execution_count": 1,
   "metadata": {},
   "outputs": [],
   "source": [
    "import pandas as pd\n",
    "import numpy as np\n",
    "from sklearn.metrics import confusion_matrix\n",
    "from sklearn.metrics import accuracy_score\n",
    "from sklearn.metrics import f1_score\n",
    "from sklearn.ensemble import RandomForestClassifier\n",
    "from sklearn.model_selection import train_test_split"
   ]
  },
  {
   "cell_type": "code",
   "execution_count": 2,
   "metadata": {},
   "outputs": [
    {
     "name": "stderr",
     "output_type": "stream",
     "text": [
      "/anaconda3/lib/python3.6/site-packages/pandas/io/excel.py:329: FutureWarning: The `sheetname` keyword is deprecated, use `sheet_name` instead\n",
      "  **kwds)\n"
     ]
    }
   ],
   "source": [
    "customers = pd.read_excel('Dataset.xlsx',\n",
    "sheetname=0,\n",
    "header=0,\n",
    "index_col=False,\n",
    "keep_default_na=True\n",
    ")"
   ]
  },
  {
   "cell_type": "code",
   "execution_count": 3,
   "metadata": {},
   "outputs": [
    {
     "data": {
      "text/plain": [
       "Index(['Month', 'WeekOfMonth', 'DayOfWeek', 'Make', 'AccidentArea',\n",
       "       'DayOfWeekClaimed', 'MonthClaimed', 'WeekOfMonthClaimed', 'Sex',\n",
       "       'MaritalStatus', 'Age', 'Fault', 'PolicyType', 'VehicleCategory',\n",
       "       'VehiclePrice', 'FraudFound_P', 'PolicyNumber', 'RepNumber',\n",
       "       'Deductible', 'DriverRating', 'Days_Policy_Accident',\n",
       "       'Days_Policy_Claim', 'PastNumberOfClaims', 'AgeOfVehicle',\n",
       "       'AgeOfPolicyHolder', 'PoliceReportFiled', 'WitnessPresent', 'AgentType',\n",
       "       'NumberOfSuppliments', 'AddressChange_Claim', 'NumberOfCars', 'Year',\n",
       "       'BasePolicy', 'ClaimSize'],\n",
       "      dtype='object')"
      ]
     },
     "execution_count": 3,
     "metadata": {},
     "output_type": "execute_result"
    }
   ],
   "source": [
    "customers.columns"
   ]
  },
  {
   "cell_type": "code",
   "execution_count": null,
   "metadata": {
    "scrolled": true
   },
   "outputs": [],
   "source": [
    "customers.isnull().sum()"
   ]
  },
  {
   "cell_type": "code",
   "execution_count": 4,
   "metadata": {},
   "outputs": [],
   "source": [
    "del customers['PolicyNumber']\n",
    "del customers['Year']\n",
    "del customers['Make']\n",
    "del customers['PolicyType']"
   ]
  },
  {
   "cell_type": "code",
   "execution_count": 5,
   "metadata": {},
   "outputs": [],
   "source": [
    "def married(status):\n",
    "    if status=='Married':\n",
    "        return 1\n",
    "    else:\n",
    "        return 0\n",
    "def single(status):\n",
    "    if status=='Single':\n",
    "        return 1\n",
    "    else:\n",
    "        return 0\n",
    "def divorced(status):\n",
    "    if status=='Divorced':\n",
    "        return 1\n",
    "    else:\n",
    "        return 0\n",
    "def widow(status):\n",
    "    if status=='Widow':\n",
    "        return 1\n",
    "    else:\n",
    "        return 0\n",
    "customers['Married']=customers['MaritalStatus'].apply(married)\n",
    "customers['Single']=customers['MaritalStatus'].apply(single)\n",
    "customers['Divorced']=customers['MaritalStatus'].apply(divorced)\n",
    "customers['Widow']=customers['MaritalStatus'].apply(widow)\n",
    "del customers['MaritalStatus']"
   ]
  },
  {
   "cell_type": "code",
   "execution_count": 6,
   "metadata": {},
   "outputs": [],
   "source": [
    "def collision(base):\n",
    "    if base=='Collision':\n",
    "        return 1\n",
    "    else:\n",
    "        return 0\n",
    "def liability(base):\n",
    "    if base=='Liability':\n",
    "        return 1\n",
    "    else:\n",
    "        return 0\n",
    "def perils(base):\n",
    "    if base=='All Perils':\n",
    "        return 1\n",
    "    else:\n",
    "        return 0    \n",
    "customers['Collision']=customers['BasePolicy'].apply(collision)\n",
    "customers['Liability']=customers['BasePolicy'].apply(liability)\n",
    "customers['All Perils']=customers['BasePolicy'].apply(perils)\n",
    "del customers['BasePolicy']"
   ]
  },
  {
   "cell_type": "code",
   "execution_count": 7,
   "metadata": {},
   "outputs": [],
   "source": [
    "def convertStr(boolean):\n",
    "    if boolean=='No':\n",
    "        return 0\n",
    "    elif boolean=='Yes':\n",
    "        return 1\n",
    "customers['PoliceReportFiled']=customers['PoliceReportFiled'].apply(convertStr)  \n",
    "customers['WitnessPresent']=customers['WitnessPresent'].apply(convertStr) "
   ]
  },
  {
   "cell_type": "code",
   "execution_count": 8,
   "metadata": {},
   "outputs": [],
   "source": [
    "def convertAgent(agent):\n",
    "    if agent=='External':\n",
    "        return 1\n",
    "    elif agent=='Internal':\n",
    "        return 2\n",
    "customers['AgentType']=customers['AgentType'].apply(convertAgent)     "
   ]
  },
  {
   "cell_type": "code",
   "execution_count": 9,
   "metadata": {},
   "outputs": [],
   "source": [
    "def convertCar(car):\n",
    "    if car=='1 vehicle':\n",
    "        return 1\n",
    "    elif car=='2 vehicles':\n",
    "        return 2\n",
    "    elif car=='3 to 4':\n",
    "        return 3\n",
    "    elif car=='5 to 8':\n",
    "        return 4\n",
    "    elif car=='more than 8':\n",
    "        return 5\n",
    "customers['NumberOfCars']=customers['NumberOfCars'].apply(convertCar)  "
   ]
  },
  {
   "cell_type": "code",
   "execution_count": 10,
   "metadata": {},
   "outputs": [],
   "source": [
    "def convertAddressChange(address):\n",
    "    if address=='no change':\n",
    "        return 0\n",
    "    elif address=='under 6 months':\n",
    "        return 1\n",
    "    elif address=='1 year':\n",
    "        return 2\n",
    "    elif address=='2 to 3 years':\n",
    "        return 3\n",
    "    elif address=='4 to 8 years':\n",
    "        return 4\n",
    "customers['AddressChange_Claim']=customers['AddressChange_Claim'].apply(convertAddressChange)      "
   ]
  },
  {
   "cell_type": "code",
   "execution_count": 11,
   "metadata": {},
   "outputs": [],
   "source": [
    "def convertSuppliments(suppliment):\n",
    "    if suppliment=='none':\n",
    "        return 0\n",
    "    elif suppliment=='1 to 2':\n",
    "        return 1\n",
    "    elif suppliment=='3 to 5':\n",
    "        return 2\n",
    "    elif suppliment=='more than 5':\n",
    "        return 3\n",
    "customers['NumberOfSuppliments']=customers['NumberOfSuppliments'].apply(convertSuppliments)      "
   ]
  },
  {
   "cell_type": "code",
   "execution_count": 12,
   "metadata": {},
   "outputs": [],
   "source": [
    "def convertClaims(claim):\n",
    "    if claim=='none':\n",
    "        return 0\n",
    "    elif claim==1:\n",
    "        return 1\n",
    "    elif claim=='2 to 4':\n",
    "        return 2\n",
    "    elif claim=='more than 4':\n",
    "        return 3\n",
    "customers['PastNumberOfClaims']=customers['PastNumberOfClaims'].apply(convertClaims)       "
   ]
  },
  {
   "cell_type": "code",
   "execution_count": 13,
   "metadata": {},
   "outputs": [],
   "source": [
    "def convertDaysPolicy(number):\n",
    "    if number=='none':\n",
    "        return 0\n",
    "    elif number=='1 to 7':\n",
    "        return 1\n",
    "    elif number=='8 to 15':\n",
    "        return 2\n",
    "    elif number=='15 to 30':\n",
    "        return 3\n",
    "    elif number=='more than 30':\n",
    "        return 4\n",
    "customers['Days_Policy_Accident']=customers['Days_Policy_Accident'].apply(convertDaysPolicy)   \n",
    "customers['Days_Policy_Claim']=customers['Days_Policy_Claim'].apply(convertDaysPolicy)   "
   ]
  },
  {
   "cell_type": "code",
   "execution_count": 14,
   "metadata": {},
   "outputs": [],
   "source": [
    "def convertFault(fault):\n",
    "    if fault=='Policy Holder':\n",
    "        return 0\n",
    "    elif fault=='Third Party':\n",
    "        return 1\n",
    "customers['Fault']=customers['Fault'].apply(convertFault)       "
   ]
  },
  {
   "cell_type": "code",
   "execution_count": 15,
   "metadata": {},
   "outputs": [],
   "source": [
    "def display_all(df):\n",
    "    with pd.option_context(\"display.max_rows\", 1000): \n",
    "        with pd.option_context(\"display.max_columns\", 50): \n",
    "            display(df)"
   ]
  },
  {
   "cell_type": "code",
   "execution_count": 16,
   "metadata": {
    "scrolled": false
   },
   "outputs": [
    {
     "data": {
      "text/html": [
       "<div>\n",
       "<style scoped>\n",
       "    .dataframe tbody tr th:only-of-type {\n",
       "        vertical-align: middle;\n",
       "    }\n",
       "\n",
       "    .dataframe tbody tr th {\n",
       "        vertical-align: top;\n",
       "    }\n",
       "\n",
       "    .dataframe thead th {\n",
       "        text-align: right;\n",
       "    }\n",
       "</style>\n",
       "<table border=\"1\" class=\"dataframe\">\n",
       "  <thead>\n",
       "    <tr style=\"text-align: right;\">\n",
       "      <th></th>\n",
       "      <th>Month</th>\n",
       "      <th>WeekOfMonth</th>\n",
       "      <th>DayOfWeek</th>\n",
       "      <th>AccidentArea</th>\n",
       "      <th>DayOfWeekClaimed</th>\n",
       "      <th>MonthClaimed</th>\n",
       "      <th>WeekOfMonthClaimed</th>\n",
       "      <th>Sex</th>\n",
       "      <th>Age</th>\n",
       "      <th>Fault</th>\n",
       "      <th>VehicleCategory</th>\n",
       "      <th>VehiclePrice</th>\n",
       "      <th>FraudFound_P</th>\n",
       "      <th>RepNumber</th>\n",
       "      <th>Deductible</th>\n",
       "      <th>DriverRating</th>\n",
       "      <th>Days_Policy_Accident</th>\n",
       "      <th>Days_Policy_Claim</th>\n",
       "      <th>PastNumberOfClaims</th>\n",
       "      <th>AgeOfVehicle</th>\n",
       "      <th>AgeOfPolicyHolder</th>\n",
       "      <th>PoliceReportFiled</th>\n",
       "      <th>WitnessPresent</th>\n",
       "      <th>AgentType</th>\n",
       "      <th>NumberOfSuppliments</th>\n",
       "      <th>AddressChange_Claim</th>\n",
       "      <th>NumberOfCars</th>\n",
       "      <th>ClaimSize</th>\n",
       "      <th>Married</th>\n",
       "      <th>Single</th>\n",
       "      <th>Divorced</th>\n",
       "      <th>Widow</th>\n",
       "      <th>Collision</th>\n",
       "      <th>Liability</th>\n",
       "      <th>All Perils</th>\n",
       "    </tr>\n",
       "  </thead>\n",
       "  <tbody>\n",
       "    <tr>\n",
       "      <th>0</th>\n",
       "      <td>Dec</td>\n",
       "      <td>5</td>\n",
       "      <td>Wednesday</td>\n",
       "      <td>Urban</td>\n",
       "      <td>Tuesday</td>\n",
       "      <td>Jan</td>\n",
       "      <td>1</td>\n",
       "      <td>Female</td>\n",
       "      <td>21.0</td>\n",
       "      <td>0</td>\n",
       "      <td>Sport</td>\n",
       "      <td>more than 69000</td>\n",
       "      <td>0</td>\n",
       "      <td>12</td>\n",
       "      <td>300</td>\n",
       "      <td>1.0</td>\n",
       "      <td>4</td>\n",
       "      <td>4</td>\n",
       "      <td>0</td>\n",
       "      <td>3 years</td>\n",
       "      <td>26 to 30</td>\n",
       "      <td>0</td>\n",
       "      <td>0</td>\n",
       "      <td>1</td>\n",
       "      <td>0</td>\n",
       "      <td>2</td>\n",
       "      <td>3</td>\n",
       "      <td>55526.069421</td>\n",
       "      <td>0</td>\n",
       "      <td>1</td>\n",
       "      <td>0</td>\n",
       "      <td>0</td>\n",
       "      <td>0</td>\n",
       "      <td>1</td>\n",
       "      <td>0</td>\n",
       "    </tr>\n",
       "    <tr>\n",
       "      <th>1</th>\n",
       "      <td>Jan</td>\n",
       "      <td>3</td>\n",
       "      <td>Wednesday</td>\n",
       "      <td>Urban</td>\n",
       "      <td>Monday</td>\n",
       "      <td>Jan</td>\n",
       "      <td>4</td>\n",
       "      <td>Male</td>\n",
       "      <td>34.0</td>\n",
       "      <td>0</td>\n",
       "      <td>Sport</td>\n",
       "      <td>more than 69000</td>\n",
       "      <td>0</td>\n",
       "      <td>15</td>\n",
       "      <td>400</td>\n",
       "      <td>4.0</td>\n",
       "      <td>4</td>\n",
       "      <td>4</td>\n",
       "      <td>0</td>\n",
       "      <td>6 years</td>\n",
       "      <td>31 to 35</td>\n",
       "      <td>1</td>\n",
       "      <td>0</td>\n",
       "      <td>1</td>\n",
       "      <td>0</td>\n",
       "      <td>0</td>\n",
       "      <td>1</td>\n",
       "      <td>59294.455571</td>\n",
       "      <td>0</td>\n",
       "      <td>1</td>\n",
       "      <td>0</td>\n",
       "      <td>0</td>\n",
       "      <td>1</td>\n",
       "      <td>0</td>\n",
       "      <td>0</td>\n",
       "    </tr>\n",
       "    <tr>\n",
       "      <th>2</th>\n",
       "      <td>Oct</td>\n",
       "      <td>5</td>\n",
       "      <td>Friday</td>\n",
       "      <td>Urban</td>\n",
       "      <td>Thursday</td>\n",
       "      <td>Nov</td>\n",
       "      <td>2</td>\n",
       "      <td>Male</td>\n",
       "      <td>47.0</td>\n",
       "      <td>0</td>\n",
       "      <td>Sport</td>\n",
       "      <td>more than 69000</td>\n",
       "      <td>0</td>\n",
       "      <td>7</td>\n",
       "      <td>400</td>\n",
       "      <td>3.0</td>\n",
       "      <td>4</td>\n",
       "      <td>4</td>\n",
       "      <td>1</td>\n",
       "      <td>7 years</td>\n",
       "      <td>41 to 50</td>\n",
       "      <td>0</td>\n",
       "      <td>0</td>\n",
       "      <td>1</td>\n",
       "      <td>0</td>\n",
       "      <td>0</td>\n",
       "      <td>1</td>\n",
       "      <td>71756.941320</td>\n",
       "      <td>1</td>\n",
       "      <td>0</td>\n",
       "      <td>0</td>\n",
       "      <td>0</td>\n",
       "      <td>1</td>\n",
       "      <td>0</td>\n",
       "      <td>0</td>\n",
       "    </tr>\n",
       "    <tr>\n",
       "      <th>3</th>\n",
       "      <td>Jun</td>\n",
       "      <td>2</td>\n",
       "      <td>Saturday</td>\n",
       "      <td>Rural</td>\n",
       "      <td>Friday</td>\n",
       "      <td>Jul</td>\n",
       "      <td>1</td>\n",
       "      <td>Male</td>\n",
       "      <td>65.0</td>\n",
       "      <td>1</td>\n",
       "      <td>Sport</td>\n",
       "      <td>20000 to 29000</td>\n",
       "      <td>0</td>\n",
       "      <td>4</td>\n",
       "      <td>400</td>\n",
       "      <td>2.0</td>\n",
       "      <td>4</td>\n",
       "      <td>4</td>\n",
       "      <td>1</td>\n",
       "      <td>more than 7</td>\n",
       "      <td>51 to 65</td>\n",
       "      <td>1</td>\n",
       "      <td>0</td>\n",
       "      <td>1</td>\n",
       "      <td>3</td>\n",
       "      <td>0</td>\n",
       "      <td>1</td>\n",
       "      <td>7584.153493</td>\n",
       "      <td>1</td>\n",
       "      <td>0</td>\n",
       "      <td>0</td>\n",
       "      <td>0</td>\n",
       "      <td>0</td>\n",
       "      <td>1</td>\n",
       "      <td>0</td>\n",
       "    </tr>\n",
       "    <tr>\n",
       "      <th>4</th>\n",
       "      <td>Feb</td>\n",
       "      <td>1</td>\n",
       "      <td>Saturday</td>\n",
       "      <td>Urban</td>\n",
       "      <td>Monday</td>\n",
       "      <td>Feb</td>\n",
       "      <td>3</td>\n",
       "      <td>Male</td>\n",
       "      <td>36.0</td>\n",
       "      <td>1</td>\n",
       "      <td>Sport</td>\n",
       "      <td>more than 69000</td>\n",
       "      <td>0</td>\n",
       "      <td>14</td>\n",
       "      <td>400</td>\n",
       "      <td>1.0</td>\n",
       "      <td>4</td>\n",
       "      <td>4</td>\n",
       "      <td>1</td>\n",
       "      <td>7 years</td>\n",
       "      <td>36 to 40</td>\n",
       "      <td>0</td>\n",
       "      <td>0</td>\n",
       "      <td>1</td>\n",
       "      <td>1</td>\n",
       "      <td>0</td>\n",
       "      <td>1</td>\n",
       "      <td>98545.374339</td>\n",
       "      <td>1</td>\n",
       "      <td>0</td>\n",
       "      <td>0</td>\n",
       "      <td>0</td>\n",
       "      <td>1</td>\n",
       "      <td>0</td>\n",
       "      <td>0</td>\n",
       "    </tr>\n",
       "  </tbody>\n",
       "</table>\n",
       "</div>"
      ],
      "text/plain": [
       "  Month  WeekOfMonth  DayOfWeek AccidentArea DayOfWeekClaimed MonthClaimed  \\\n",
       "0   Dec            5  Wednesday        Urban          Tuesday          Jan   \n",
       "1   Jan            3  Wednesday        Urban           Monday          Jan   \n",
       "2   Oct            5     Friday        Urban         Thursday          Nov   \n",
       "3   Jun            2   Saturday        Rural           Friday          Jul   \n",
       "4   Feb            1   Saturday        Urban           Monday          Feb   \n",
       "\n",
       "   WeekOfMonthClaimed     Sex   Age  Fault VehicleCategory     VehiclePrice  \\\n",
       "0                   1  Female  21.0      0           Sport  more than 69000   \n",
       "1                   4    Male  34.0      0           Sport  more than 69000   \n",
       "2                   2    Male  47.0      0           Sport  more than 69000   \n",
       "3                   1    Male  65.0      1           Sport   20000 to 29000   \n",
       "4                   3    Male  36.0      1           Sport  more than 69000   \n",
       "\n",
       "   FraudFound_P  RepNumber  Deductible  DriverRating  Days_Policy_Accident  \\\n",
       "0             0         12         300           1.0                     4   \n",
       "1             0         15         400           4.0                     4   \n",
       "2             0          7         400           3.0                     4   \n",
       "3             0          4         400           2.0                     4   \n",
       "4             0         14         400           1.0                     4   \n",
       "\n",
       "   Days_Policy_Claim  PastNumberOfClaims AgeOfVehicle AgeOfPolicyHolder  \\\n",
       "0                  4                   0      3 years          26 to 30   \n",
       "1                  4                   0      6 years          31 to 35   \n",
       "2                  4                   1      7 years          41 to 50   \n",
       "3                  4                   1  more than 7          51 to 65   \n",
       "4                  4                   1      7 years          36 to 40   \n",
       "\n",
       "   PoliceReportFiled  WitnessPresent  AgentType  NumberOfSuppliments  \\\n",
       "0                  0               0          1                    0   \n",
       "1                  1               0          1                    0   \n",
       "2                  0               0          1                    0   \n",
       "3                  1               0          1                    3   \n",
       "4                  0               0          1                    1   \n",
       "\n",
       "   AddressChange_Claim  NumberOfCars     ClaimSize  Married  Single  Divorced  \\\n",
       "0                    2             3  55526.069421        0       1         0   \n",
       "1                    0             1  59294.455571        0       1         0   \n",
       "2                    0             1  71756.941320        1       0         0   \n",
       "3                    0             1   7584.153493        1       0         0   \n",
       "4                    0             1  98545.374339        1       0         0   \n",
       "\n",
       "   Widow  Collision  Liability  All Perils  \n",
       "0      0          0          1           0  \n",
       "1      0          1          0           0  \n",
       "2      0          1          0           0  \n",
       "3      0          0          1           0  \n",
       "4      0          1          0           0  "
      ]
     },
     "metadata": {},
     "output_type": "display_data"
    }
   ],
   "source": [
    "display_all(customers.head())"
   ]
  },
  {
   "cell_type": "code",
   "execution_count": 17,
   "metadata": {},
   "outputs": [],
   "source": [
    "customers.drop(customers.index[[1146]],inplace=True)\n",
    "X=customers[customers['DriverRating'].isnull()].index\n",
    "customers.drop(customers.index[[X]],inplace=True)\n",
    "X=customers[customers['Age'].isnull()].index\n",
    "customers.drop(customers.index[[X]],inplace=True)"
   ]
  },
  {
   "cell_type": "code",
   "execution_count": 18,
   "metadata": {},
   "outputs": [],
   "source": [
    "def sport(category):\n",
    "    if category=='Sport':\n",
    "        return 1\n",
    "    else:\n",
    "        return 0\n",
    "def sedan(category):\n",
    "    if category=='Sedan':\n",
    "        return 1\n",
    "    else:\n",
    "        return 0\n",
    "def utility(category):\n",
    "    if category=='Utility':\n",
    "        return 1\n",
    "    else:\n",
    "        return 0\n",
    "customers['Sport']=customers['VehicleCategory'].apply(sport)\n",
    "customers['Sedan']=customers['VehicleCategory'].apply(sedan)\n",
    "customers['Utility']=customers['VehicleCategory'].apply(utility)\n",
    "del customers['VehicleCategory']    "
   ]
  },
  {
   "cell_type": "code",
   "execution_count": 19,
   "metadata": {},
   "outputs": [],
   "source": [
    "def convertAgeHolder(age):\n",
    "    if age=='16 to 17':\n",
    "        return 1\n",
    "    elif age=='18 to 20':\n",
    "        return 2\n",
    "    elif age=='21 to 25':\n",
    "        return 3\n",
    "    elif age=='26 to 30':\n",
    "        return 4\n",
    "    elif age=='31 to 35':\n",
    "        return 5\n",
    "    elif age=='36 to 40':\n",
    "        return 6\n",
    "    elif age=='41 to 50':\n",
    "        return 7\n",
    "    elif age=='51 to 65':\n",
    "        return 8\n",
    "    elif age=='over 65':\n",
    "        return 9\n",
    "customers['AgeOfPolicyHolder']=customers['AgeOfPolicyHolder'].apply(convertAgeHolder)     "
   ]
  },
  {
   "cell_type": "code",
   "execution_count": 20,
   "metadata": {},
   "outputs": [],
   "source": [
    "def convertAgeVehicle(age):\n",
    "    if age=='new':\n",
    "        return 1\n",
    "    elif age=='2 years':\n",
    "        return 2\n",
    "    elif age=='3 years':\n",
    "        return 3\n",
    "    elif age=='4 years':\n",
    "        return 4\n",
    "    elif age=='5 years':\n",
    "        return 5\n",
    "    elif age=='6 years':\n",
    "        return 6\n",
    "    elif age=='7 years':\n",
    "        return 7\n",
    "    elif age=='more than 7':\n",
    "        return 8\n",
    "customers['AgeOfVehicle']=customers['AgeOfVehicle'].apply(convertAgeVehicle)        "
   ]
  },
  {
   "cell_type": "code",
   "execution_count": 21,
   "metadata": {},
   "outputs": [],
   "source": [
    "def convertPrice(price):\n",
    "    if price=='less than 20000':\n",
    "        return 0\n",
    "    elif price=='20000 to 29000':\n",
    "        return 1\n",
    "    elif price=='30000 to 39000':\n",
    "        return 2\n",
    "    elif price=='40000 to 59000':\n",
    "        return 3\n",
    "    elif price=='60000 to 69000':\n",
    "        return 4\n",
    "    elif price=='more than 69000':\n",
    "        return 5\n",
    "customers['VehiclePrice']=customers['VehiclePrice'].apply(convertPrice)    "
   ]
  },
  {
   "cell_type": "code",
   "execution_count": 22,
   "metadata": {},
   "outputs": [],
   "source": [
    "def convertMonth(month):\n",
    "    if month=='Jan':\n",
    "        return 1\n",
    "    elif month=='Feb':\n",
    "        return 2\n",
    "    elif month=='Mar':\n",
    "        return 3\n",
    "    elif month=='Apr':\n",
    "        return 4\n",
    "    elif month=='May':\n",
    "        return 5\n",
    "    elif month=='Jun':\n",
    "        return 6\n",
    "    elif month=='Jul':\n",
    "        return 7\n",
    "    elif month=='Aug':\n",
    "        return 8\n",
    "    elif month=='Sep':\n",
    "        return 9\n",
    "    elif month=='Oct':\n",
    "        return 10\n",
    "    elif month=='Nov':\n",
    "        return 11\n",
    "    elif month=='Dec':\n",
    "        return 12\n",
    "customers['Month']=customers['Month'].apply(convertMonth)\n",
    "customers['MonthClaimed']=customers['MonthClaimed'].apply(convertMonth)    "
   ]
  },
  {
   "cell_type": "code",
   "execution_count": 23,
   "metadata": {},
   "outputs": [],
   "source": [
    "def convertDay(day):\n",
    "    if day=='Monday':\n",
    "        return 1\n",
    "    elif day=='Tuesday':\n",
    "        return 2\n",
    "    elif day=='Wednesday':\n",
    "        return 3\n",
    "    elif day=='Thursday':\n",
    "        return 4\n",
    "    elif day=='Friday':\n",
    "        return 5\n",
    "    elif day=='Saturday':\n",
    "        return 6\n",
    "    elif day=='Sunday':\n",
    "        return 7\n",
    "customers['DayOfWeek']=customers['DayOfWeek'].apply(convertDay)\n",
    "customers['DayOfWeekClaimed']=customers['DayOfWeekClaimed'].apply(convertDay)    "
   ]
  },
  {
   "cell_type": "code",
   "execution_count": 24,
   "metadata": {},
   "outputs": [],
   "source": [
    "def convertSex(sex):\n",
    "    if sex=='Male':\n",
    "        return 0\n",
    "    elif sex=='Female':\n",
    "        return 1\n",
    "customers['Sex']=customers['Sex'].apply(convertSex)    "
   ]
  },
  {
   "cell_type": "code",
   "execution_count": 25,
   "metadata": {},
   "outputs": [],
   "source": [
    "def convertArea(area):\n",
    "    if area=='Urban':\n",
    "        return 0\n",
    "    elif area=='Rural':\n",
    "        return 1\n",
    "customers['AccidentArea']=customers['AccidentArea'].apply(convertArea)     "
   ]
  },
  {
   "cell_type": "code",
   "execution_count": 26,
   "metadata": {},
   "outputs": [],
   "source": [
    "customers.dropna(inplace=True)\n",
    "Fraud=customers[customers['FraudFound_P']==1]\n",
    "NotFraud=customers[customers['FraudFound_P']==0]\n",
    "Y_fraud=Fraud['FraudFound_P'].values\n",
    "Y_NotFraud=NotFraud['FraudFound_P'].values\n",
    "del Fraud['FraudFound_P']\n",
    "del NotFraud[\"FraudFound_P\"]\n",
    "del customers['FraudFound_P']"
   ]
  },
  {
   "cell_type": "code",
   "execution_count": 27,
   "metadata": {},
   "outputs": [],
   "source": [
    "X_train_fraud,X_test_fraud,Y_train_fraud,Y_test_fraud=train_test_split(Fraud.values,Y_fraud,test_size=0.5)\n",
    "X_train_Notfraud,X_test_Notfraud,Y_train_Notfraud,Y_test_Notfraud=train_test_split(NotFraud.values,Y_NotFraud,test_size=0.90)"
   ]
  },
  {
   "cell_type": "code",
   "execution_count": 28,
   "metadata": {},
   "outputs": [],
   "source": [
    "X_train=np.concatenate([X_train_fraud,X_train_Notfraud])\n",
    "Y_train=np.concatenate([Y_train_fraud,Y_train_Notfraud])\n",
    "X_test=np.concatenate([X_test_fraud,X_test_Notfraud])\n",
    "Y_test=np.concatenate([Y_test_fraud,Y_test_Notfraud])"
   ]
  },
  {
   "cell_type": "code",
   "execution_count": 30,
   "metadata": {},
   "outputs": [],
   "source": [
    "df_new=pd.DataFrame(X_train)\n",
    "df_new.columns=customers.columns\n",
    "df_new['FraudFound_P']=Y_train\n",
    "df_new = df_new.sample(frac=1).reset_index(drop=True)\n",
    "Y_train=df_new['FraudFound_P'].values\n",
    "del df_new['FraudFound_P']\n",
    "X_train=df_new.values"
   ]
  },
  {
   "cell_type": "code",
   "execution_count": 31,
   "metadata": {},
   "outputs": [
    {
     "data": {
      "text/plain": [
       "RandomForestClassifier(bootstrap=True, class_weight=None, criterion='gini',\n",
       "            max_depth=None, max_features=0.5, max_leaf_nodes=None,\n",
       "            min_impurity_decrease=0.0, min_impurity_split=None,\n",
       "            min_samples_leaf=1, min_samples_split=2,\n",
       "            min_weight_fraction_leaf=0.0, n_estimators=40, n_jobs=1,\n",
       "            oob_score=False, random_state=None, verbose=0,\n",
       "            warm_start=False)"
      ]
     },
     "execution_count": 31,
     "metadata": {},
     "output_type": "execute_result"
    }
   ],
   "source": [
    "clf=RandomForestClassifier(n_estimators=40,max_features=0.5)\n",
    "clf.fit(X_train,Y_train)"
   ]
  },
  {
   "cell_type": "code",
   "execution_count": 33,
   "metadata": {
    "scrolled": true
   },
   "outputs": [
    {
     "name": "stdout",
     "output_type": "stream",
     "text": [
      "0.880684064847766\n",
      "[[8796  229]\n",
      " [ 978  113]]\n",
      "0.15771109560362873\n"
     ]
    }
   ],
   "source": [
    "Y_pred=clf.predict(X_test)\n",
    "print(accuracy_score(Y_test,Y_pred))\n",
    "print(confusion_matrix(Y_pred,Y_test))\n",
    "print(f1_score(Y_test,Y_pred))"
   ]
  },
  {
   "cell_type": "code",
   "execution_count": null,
   "metadata": {},
   "outputs": [],
   "source": []
  },
  {
   "cell_type": "raw",
   "metadata": {},
   "source": [
    "## Price more than 69000\n",
    "X=customers[customers['VehiclePrice'] =='more than 69000']['FraudFound_P'].values\n",
    "Fraud=len(np.where(X==1)[0])\n",
    "NotFraud=len(np.where(X==0)[0])\n",
    "TotalClaims=len(X)\n",
    "print('Fraud',Fraud)\n",
    "print('Not Fraud',NotFraud)\n",
    "print('Total Claims',TotalClaims)\n",
    "## Percentage of fraud claim\n",
    "print('Fraud',(Fraud/TotalClaims)*100,'%')\n",
    "print('Not Fraud',(NotFraud/TotalClaims)*100,'%')"
   ]
  },
  {
   "cell_type": "raw",
   "metadata": {},
   "source": [
    "## Checking the witness present and price more than 69000\n",
    "X=customers[customers['VehiclePrice'] =='more than 69000']\n",
    "X=X[X['WitnessPresent']=='Yes']['FraudFound_P'].values\n",
    "Fraud=len(np.where(X==1)[0])\n",
    "NotFraud=len(np.where(X==0)[0])\n",
    "TotalClaims=len(X)\n",
    "print('Fraud',Fraud)\n",
    "print('Not Fraud',NotFraud)\n",
    "print('Total Claims',TotalClaims)\n",
    "## Percentage of fraud claim\n",
    "print('Fraud',(Fraud/TotalClaims)*100,'%')\n",
    "print('Not Fraud',(NotFraud/TotalClaims)*100,'%')"
   ]
  },
  {
   "cell_type": "raw",
   "metadata": {},
   "source": [
    "## Checking the police report present and price more than 69000\n",
    "X=customers[customers['VehiclePrice'] =='more than 69000']\n",
    "X=X[X['PoliceReportFiled']=='Yes']['FraudFound_P'].values\n",
    "Fraud=len(np.where(X==1)[0])\n",
    "NotFraud=len(np.where(X==0)[0])\n",
    "TotalClaims=len(X)\n",
    "print('Fraud',Fraud)\n",
    "print('Not Fraud',NotFraud)\n",
    "print('Total Claims',TotalClaims)\n",
    "## Percentage of fraud claim\n",
    "print('Fraud',(Fraud/TotalClaims)*100,'%')\n",
    "print('Not Fraud',(NotFraud/TotalClaims)*100,'%')"
   ]
  },
  {
   "cell_type": "raw",
   "metadata": {},
   "source": [
    "X=customers[customers['VehiclePrice'] =='more than 69000']\n",
    "X=X[X['AccidentArea']=='Rural']['FraudFound_P'].values\n",
    "Fraud=len(np.where(X==1)[0])\n",
    "NotFraud=len(np.where(X==0)[0])\n",
    "TotalClaims=len(X)\n",
    "print('Fraud',Fraud)\n",
    "print('Not Fraud',NotFraud)\n",
    "print('Total Claims',TotalClaims)\n",
    "## Percentage of fraud claim\n",
    "print('Fraud',(Fraud/TotalClaims)*100,'%')\n",
    "print('Not Fraud',(NotFraud/TotalClaims)*100,'%')"
   ]
  },
  {
   "cell_type": "raw",
   "metadata": {
    "scrolled": true
   },
   "source": [
    "X=customers[customers['AccidentArea']=='Urban']['FraudFound_P'].values\n",
    "Fraud=len(np.where(X==1)[0])\n",
    "NotFraud=len(np.where(X==0)[0])\n",
    "TotalClaims=len(X)\n",
    "print('Fraud',Fraud)\n",
    "print('Not Fraud',NotFraud)\n",
    "print('Total Claims',TotalClaims)\n",
    "## Percentage of fraud claim\n",
    "print('Fraud',(Fraud/TotalClaims)*100,'%')\n",
    "print('Not Fraud',(NotFraud/TotalClaims)*100,'%')"
   ]
  },
  {
   "cell_type": "raw",
   "metadata": {},
   "source": [
    "X=customers[customers['Sex'] =='Male']\n",
    "X=X[X['MaritalStatus']=='Single']['FraudFound_P'].values\n",
    "Fraud=len(np.where(X==1)[0])\n",
    "NotFraud=len(np.where(X==0)[0])\n",
    "TotalClaims=len(X)\n",
    "print('Fraud',Fraud)\n",
    "print('Not Fraud',NotFraud)\n",
    "print('Total Claims',TotalClaims)\n",
    "## Percentage of fraud claim\n",
    "print('Fraud',(Fraud/TotalClaims)*100,'%')\n",
    "print('Not Fraud',(NotFraud/TotalClaims)*100,'%')"
   ]
  },
  {
   "cell_type": "raw",
   "metadata": {
    "scrolled": true
   },
   "source": [
    "X=customers[customers['DayOfWeekClaimed'] =='Friday']['FraudFound_P'].values\n",
    "Fraud=len(np.where(X==1)[0])\n",
    "NotFraud=len(np.where(X==0)[0])\n",
    "TotalClaims=len(X)\n",
    "print('Fraud',Fraud)\n",
    "print('Not Fraud',NotFraud)\n",
    "print('Total Claims',TotalClaims)\n",
    "## Percentage of fraud claim\n",
    "print('Fraud',(Fraud/TotalClaims)*100,'%')\n",
    "print('Not Fraud',(NotFraud/TotalClaims)*100,'%')"
   ]
  },
  {
   "cell_type": "raw",
   "metadata": {},
   "source": [
    "X=customers[customers['WitnessPresent'] =='Yes']['FraudFound_P'].values\n",
    "Fraud=len(np.where(X==1)[0])\n",
    "NotFraud=len(np.where(X==0)[0])\n",
    "TotalClaims=len(X)\n",
    "print('Fraud',Fraud)\n",
    "print('Not Fraud',NotFraud)\n",
    "print('Total Claims',TotalClaims)\n",
    "## Percentage of fraud claim\n",
    "print('Fraud',(Fraud/TotalClaims)*100,'%')\n",
    "print('Not Fraud',(NotFraud/TotalClaims)*100,'%')"
   ]
  }
 ],
 "metadata": {
  "kernelspec": {
   "display_name": "Python 3",
   "language": "python",
   "name": "python3"
  },
  "language_info": {
   "codemirror_mode": {
    "name": "ipython",
    "version": 3
   },
   "file_extension": ".py",
   "mimetype": "text/x-python",
   "name": "python",
   "nbconvert_exporter": "python",
   "pygments_lexer": "ipython3",
   "version": "3.6.8"
  }
 },
 "nbformat": 4,
 "nbformat_minor": 2
}
