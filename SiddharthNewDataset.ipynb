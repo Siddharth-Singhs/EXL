{
 "cells": [
  {
   "cell_type": "code",
   "execution_count": 29,
   "metadata": {},
   "outputs": [],
   "source": [
    "import pandas as pd\n",
    "import numpy as np\n",
    "from sklearn.metrics import confusion_matrix\n",
    "from sklearn.metrics import accuracy_score\n",
    "from sklearn.metrics import f1_score\n",
    "from sklearn import svm\n",
    "from sklearn.model_selection import train_test_split\n",
    "import matplotlib.pyplot as plt"
   ]
  },
  {
   "cell_type": "code",
   "execution_count": 45,
   "metadata": {},
   "outputs": [
    {
     "name": "stderr",
     "output_type": "stream",
     "text": [
      "/anaconda3/lib/python3.6/site-packages/pandas/io/excel.py:329: FutureWarning: The `sheetname` keyword is deprecated, use `sheet_name` instead\n",
      "  **kwds)\n"
     ]
    }
   ],
   "source": [
    "customers = pd.read_excel('Dataset.xlsx',\n",
    "sheetname=0,\n",
    "header=0,\n",
    "index_col=False,\n",
    "keep_default_na=True\n",
    ")"
   ]
  },
  {
   "cell_type": "code",
   "execution_count": 4,
   "metadata": {},
   "outputs": [
    {
     "data": {
      "text/plain": [
       "Index(['Month', 'WeekOfMonth', 'DayOfWeek', 'Make', 'AccidentArea',\n",
       "       'DayOfWeekClaimed', 'MonthClaimed', 'WeekOfMonthClaimed', 'Sex',\n",
       "       'MaritalStatus', 'Age', 'Fault', 'PolicyType', 'VehicleCategory',\n",
       "       'VehiclePrice', 'FraudFound_P', 'PolicyNumber', 'RepNumber',\n",
       "       'Deductible', 'DriverRating', 'Days_Policy_Accident',\n",
       "       'Days_Policy_Claim', 'PastNumberOfClaims', 'AgeOfVehicle',\n",
       "       'AgeOfPolicyHolder', 'PoliceReportFiled', 'WitnessPresent', 'AgentType',\n",
       "       'NumberOfSuppliments', 'AddressChange_Claim', 'NumberOfCars', 'Year',\n",
       "       'BasePolicy', 'ClaimSize'],\n",
       "      dtype='object')"
      ]
     },
     "execution_count": 4,
     "metadata": {},
     "output_type": "execute_result"
    }
   ],
   "source": [
    "customers.columns"
   ]
  },
  {
   "cell_type": "code",
   "execution_count": 46,
   "metadata": {},
   "outputs": [],
   "source": [
    "def married(status):\n",
    "    if status=='Married':\n",
    "        return 1\n",
    "    else:\n",
    "        return 0\n",
    "def single(status):\n",
    "    if status=='Single':\n",
    "        return 1\n",
    "    else:\n",
    "        return 0\n",
    "def divorced(status):\n",
    "    if status=='Divorced':\n",
    "        return 1\n",
    "    else:\n",
    "        return 0\n",
    "def widow(status):\n",
    "    if status=='Widow':\n",
    "        return 1\n",
    "    else:\n",
    "        return 0\n",
    "customers['Married']=customers['MaritalStatus'].apply(married)\n",
    "customers['Single']=customers['MaritalStatus'].apply(single)\n",
    "customers['Divorced']=customers['MaritalStatus'].apply(divorced)\n",
    "customers['Widow']=customers['MaritalStatus'].apply(widow)\n",
    "del customers['MaritalStatus']"
   ]
  },
  {
   "cell_type": "code",
   "execution_count": 47,
   "metadata": {},
   "outputs": [],
   "source": [
    "def collision(base):\n",
    "    if base=='Collision':\n",
    "        return 1\n",
    "    else:\n",
    "        return 0\n",
    "def liability(base):\n",
    "    if base=='Liability':\n",
    "        return 1\n",
    "    else:\n",
    "        return 0\n",
    "def perils(base):\n",
    "    if base=='All Perils':\n",
    "        return 1\n",
    "    else:\n",
    "        return 0    \n",
    "customers['Collision']=customers['BasePolicy'].apply(collision)\n",
    "customers['Liability']=customers['BasePolicy'].apply(liability)\n",
    "customers['All Perils']=customers['BasePolicy'].apply(perils)\n",
    "del customers['BasePolicy']"
   ]
  },
  {
   "cell_type": "code",
   "execution_count": 48,
   "metadata": {},
   "outputs": [],
   "source": [
    "def convertStr(boolean):\n",
    "    if boolean=='No':\n",
    "        return 0\n",
    "    elif boolean=='Yes':\n",
    "        return 1\n",
    "customers['PoliceReportFiled']=customers['PoliceReportFiled'].apply(convertStr)  \n",
    "customers['WitnessPresent']=customers['WitnessPresent'].apply(convertStr) "
   ]
  },
  {
   "cell_type": "code",
   "execution_count": 49,
   "metadata": {},
   "outputs": [],
   "source": [
    "def convertAgent(agent):\n",
    "    if agent=='External':\n",
    "        return 1\n",
    "    elif agent=='Internal':\n",
    "        return 2\n",
    "customers['AgentType']=customers['AgentType'].apply(convertAgent) "
   ]
  },
  {
   "cell_type": "code",
   "execution_count": 50,
   "metadata": {},
   "outputs": [],
   "source": [
    "def convertCar(car):\n",
    "    if car=='1 vehicle':\n",
    "        return 1\n",
    "    elif car=='2 vehicles':\n",
    "        return 2\n",
    "    elif car=='3 to 4':\n",
    "        return 3\n",
    "    elif car=='5 to 8':\n",
    "        return 4\n",
    "    elif car=='more than 8':\n",
    "        return 5\n",
    "customers['NumberOfCars']=customers['NumberOfCars'].apply(convertCar) "
   ]
  },
  {
   "cell_type": "code",
   "execution_count": 51,
   "metadata": {},
   "outputs": [],
   "source": [
    "def convertAddressChange(address):\n",
    "    if address=='no change':\n",
    "        return 0\n",
    "    elif address=='under 6 months':\n",
    "        return 1\n",
    "    elif address=='1 year':\n",
    "        return 2\n",
    "    elif address=='2 to 3 years':\n",
    "        return 3\n",
    "    elif address=='4 to 8 years':\n",
    "        return 4\n",
    "customers['AddressChange_Claim']=customers['AddressChange_Claim'].apply(convertAddressChange)   "
   ]
  },
  {
   "cell_type": "code",
   "execution_count": 52,
   "metadata": {},
   "outputs": [],
   "source": [
    "def convertSuppliments(suppliment):\n",
    "    if suppliment=='none':\n",
    "        return 0\n",
    "    elif suppliment=='1 to 2':\n",
    "        return 1\n",
    "    elif suppliment=='3 to 5':\n",
    "        return 2\n",
    "    elif suppliment=='more than 5':\n",
    "        return 3\n",
    "customers['NumberOfSuppliments']=customers['NumberOfSuppliments'].apply(convertSuppliments)     "
   ]
  },
  {
   "cell_type": "code",
   "execution_count": 53,
   "metadata": {},
   "outputs": [],
   "source": [
    "def convertClaims(claim):\n",
    "    if claim=='none':\n",
    "        return 0\n",
    "    elif claim==1:\n",
    "        return 1\n",
    "    elif claim=='2 to 4':\n",
    "        return 2\n",
    "    elif claim=='more than 4':\n",
    "        return 3\n",
    "customers['PastNumberOfClaims']=customers['PastNumberOfClaims'].apply(convertClaims)      "
   ]
  },
  {
   "cell_type": "code",
   "execution_count": 54,
   "metadata": {},
   "outputs": [],
   "source": [
    "def convertDaysPolicy(number):\n",
    "    if number=='none':\n",
    "        return 0\n",
    "    elif number=='1 to 7':\n",
    "        return 1\n",
    "    elif number=='8 to 15':\n",
    "        return 2\n",
    "    elif number=='15 to 30':\n",
    "        return 3\n",
    "    elif number=='more than 30':\n",
    "        return 4\n",
    "customers['Days_Policy_Accident']=customers['Days_Policy_Accident'].apply(convertDaysPolicy)   \n",
    "customers['Days_Policy_Claim']=customers['Days_Policy_Claim'].apply(convertDaysPolicy) "
   ]
  },
  {
   "cell_type": "code",
   "execution_count": 55,
   "metadata": {},
   "outputs": [],
   "source": [
    "def convertFault(fault):\n",
    "    if fault=='Policy Holder':\n",
    "        return 0\n",
    "    elif fault=='Third Party':\n",
    "        return 1\n",
    "customers['Fault']=customers['Fault'].apply(convertFault)  "
   ]
  },
  {
   "cell_type": "code",
   "execution_count": 56,
   "metadata": {},
   "outputs": [],
   "source": [
    "customers.dropna(inplace=True)\n",
    "customers.drop(customers.index[[1146]],inplace=True)\n",
    "X=customers[customers['DriverRating'].isnull()].index\n",
    "customers.drop(customers.index[[X]],inplace=True)\n",
    "X=customers[customers['Age'].isnull()].index\n",
    "customers.drop(customers.index[[X]],inplace=True)"
   ]
  },
  {
   "cell_type": "code",
   "execution_count": 57,
   "metadata": {},
   "outputs": [],
   "source": [
    "def sport(category):\n",
    "    if category=='Sport':\n",
    "        return 1\n",
    "    else:\n",
    "        return 0\n",
    "def sedan(category):\n",
    "    if category=='Sedan':\n",
    "        return 1\n",
    "    else:\n",
    "        return 0\n",
    "def utility(category):\n",
    "    if category=='Utility':\n",
    "        return 1\n",
    "    else:\n",
    "        return 0\n",
    "customers['Sport']=customers['VehicleCategory'].apply(sport)\n",
    "customers['Sedan']=customers['VehicleCategory'].apply(sedan)\n",
    "customers['Utility']=customers['VehicleCategory'].apply(utility)\n",
    "del customers['VehicleCategory']  "
   ]
  },
  {
   "cell_type": "code",
   "execution_count": 58,
   "metadata": {},
   "outputs": [],
   "source": [
    "def convertAgeHolder(age):\n",
    "    if age=='16 to 17':\n",
    "        return 1\n",
    "    elif age=='18 to 20':\n",
    "        return 2\n",
    "    elif age=='21 to 25':\n",
    "        return 3\n",
    "    elif age=='26 to 30':\n",
    "        return 4\n",
    "    elif age=='31 to 35':\n",
    "        return 5\n",
    "    elif age=='36 to 40':\n",
    "        return 6\n",
    "    elif age=='41 to 50':\n",
    "        return 7\n",
    "    elif age=='51 to 65':\n",
    "        return 8\n",
    "    elif age=='over 65':\n",
    "        return 9\n",
    "customers['AgeOfPolicyHolder']=customers['AgeOfPolicyHolder'].apply(convertAgeHolder)  "
   ]
  },
  {
   "cell_type": "code",
   "execution_count": 59,
   "metadata": {},
   "outputs": [],
   "source": [
    "def convertAgeVehicle(age):\n",
    "    if age=='new':\n",
    "        return 1\n",
    "    elif age=='2 years':\n",
    "        return 2\n",
    "    elif age=='3 years':\n",
    "        return 3\n",
    "    elif age=='4 years':\n",
    "        return 4\n",
    "    elif age=='5 years':\n",
    "        return 5\n",
    "    elif age=='6 years':\n",
    "        return 6\n",
    "    elif age=='7 years':\n",
    "        return 7\n",
    "    elif age=='more than 7':\n",
    "        return 8\n",
    "customers['AgeOfVehicle']=customers['AgeOfVehicle'].apply(convertAgeVehicle)  "
   ]
  },
  {
   "cell_type": "code",
   "execution_count": 60,
   "metadata": {},
   "outputs": [],
   "source": [
    "def convertPrice(price):\n",
    "    if price=='less than 20000':\n",
    "        return 0\n",
    "    elif price=='20000 to 29000':\n",
    "        return 1\n",
    "    elif price=='30000 to 39000':\n",
    "        return 2\n",
    "    elif price=='40000 to 59000':\n",
    "        return 3\n",
    "    elif price=='60000 to 69000':\n",
    "        return 4\n",
    "    elif price=='more than 69000':\n",
    "        return 5\n",
    "customers['VehiclePrice']=customers['VehiclePrice'].apply(convertPrice)  "
   ]
  },
  {
   "cell_type": "code",
   "execution_count": 61,
   "metadata": {},
   "outputs": [],
   "source": [
    "def convertMonth(month):\n",
    "    if month=='Jan':\n",
    "        return 1\n",
    "    elif month=='Feb':\n",
    "        return 2\n",
    "    elif month=='Mar':\n",
    "        return 3\n",
    "    elif month=='Apr':\n",
    "        return 4\n",
    "    elif month=='May':\n",
    "        return 5\n",
    "    elif month=='Jun':\n",
    "        return 6\n",
    "    elif month=='Jul':\n",
    "        return 7\n",
    "    elif month=='Aug':\n",
    "        return 8\n",
    "    elif month=='Sep':\n",
    "        return 9\n",
    "    elif month=='Oct':\n",
    "        return 10\n",
    "    elif month=='Nov':\n",
    "        return 11\n",
    "    elif month=='Dec':\n",
    "        return 12\n",
    "customers['Month']=customers['Month'].apply(convertMonth)\n",
    "customers['MonthClaimed']=customers['MonthClaimed'].apply(convertMonth)  "
   ]
  },
  {
   "cell_type": "code",
   "execution_count": 62,
   "metadata": {},
   "outputs": [],
   "source": [
    "def convertDay(day):\n",
    "    if day=='Monday':\n",
    "        return 1\n",
    "    elif day=='Tuesday':\n",
    "        return 2\n",
    "    elif day=='Wednesday':\n",
    "        return 3\n",
    "    elif day=='Thursday':\n",
    "        return 4\n",
    "    elif day=='Friday':\n",
    "        return 5\n",
    "    elif day=='Saturday':\n",
    "        return 6\n",
    "    elif day=='Sunday':\n",
    "        return 7\n",
    "customers['DayOfWeek']=customers['DayOfWeek'].apply(convertDay)\n",
    "customers['DayOfWeekClaimed']=customers['DayOfWeekClaimed'].apply(convertDay)   "
   ]
  },
  {
   "cell_type": "code",
   "execution_count": 63,
   "metadata": {},
   "outputs": [],
   "source": [
    "def convertSex(sex):\n",
    "    if sex=='Male':\n",
    "        return 0\n",
    "    elif sex=='Female':\n",
    "        return 1\n",
    "customers['Sex']=customers['Sex'].apply(convertSex)  "
   ]
  },
  {
   "cell_type": "code",
   "execution_count": 64,
   "metadata": {},
   "outputs": [],
   "source": [
    "def convertArea(area):\n",
    "    if area=='Urban':\n",
    "        return 0\n",
    "    elif area=='Rural':\n",
    "        return 1\n",
    "customers['AccidentArea']=customers['AccidentArea'].apply(convertArea)   "
   ]
  },
  {
   "cell_type": "code",
   "execution_count": 65,
   "metadata": {},
   "outputs": [],
   "source": [
    "def createMake(carMake):\n",
    "    if carMake=='Jaguar' or carMake=='Lexus' or carMake=='Mecedes' or carMake=='BMW' or carMake=='Porche' or carMake=='Ferrari':\n",
    "        return 1\n",
    "    else:\n",
    "        return 0\n",
    "customers['Make']=customers['Make'].apply(createMake)"
   ]
  },
  {
   "cell_type": "code",
   "execution_count": 66,
   "metadata": {},
   "outputs": [],
   "source": [
    "##del customers['PolicyNumber']\n",
    "del customers['Year']\n",
    "\n",
    "del customers['PolicyType']"
   ]
  },
  {
   "cell_type": "code",
   "execution_count": 67,
   "metadata": {},
   "outputs": [],
   "source": [
    "def display_all(df):\n",
    "    with pd.option_context(\"display.max_rows\", 1000): \n",
    "        with pd.option_context(\"display.max_columns\", 50): \n",
    "            display(df)"
   ]
  },
  {
   "cell_type": "code",
   "execution_count": 68,
   "metadata": {},
   "outputs": [
    {
     "data": {
      "text/html": [
       "<div>\n",
       "<style scoped>\n",
       "    .dataframe tbody tr th:only-of-type {\n",
       "        vertical-align: middle;\n",
       "    }\n",
       "\n",
       "    .dataframe tbody tr th {\n",
       "        vertical-align: top;\n",
       "    }\n",
       "\n",
       "    .dataframe thead th {\n",
       "        text-align: right;\n",
       "    }\n",
       "</style>\n",
       "<table border=\"1\" class=\"dataframe\">\n",
       "  <thead>\n",
       "    <tr style=\"text-align: right;\">\n",
       "      <th></th>\n",
       "      <th>Month</th>\n",
       "      <th>WeekOfMonth</th>\n",
       "      <th>DayOfWeek</th>\n",
       "      <th>Make</th>\n",
       "      <th>AccidentArea</th>\n",
       "      <th>DayOfWeekClaimed</th>\n",
       "      <th>MonthClaimed</th>\n",
       "      <th>WeekOfMonthClaimed</th>\n",
       "      <th>Sex</th>\n",
       "      <th>Age</th>\n",
       "      <th>Fault</th>\n",
       "      <th>VehiclePrice</th>\n",
       "      <th>FraudFound_P</th>\n",
       "      <th>PolicyNumber</th>\n",
       "      <th>RepNumber</th>\n",
       "      <th>Deductible</th>\n",
       "      <th>DriverRating</th>\n",
       "      <th>Days_Policy_Accident</th>\n",
       "      <th>Days_Policy_Claim</th>\n",
       "      <th>PastNumberOfClaims</th>\n",
       "      <th>AgeOfVehicle</th>\n",
       "      <th>AgeOfPolicyHolder</th>\n",
       "      <th>PoliceReportFiled</th>\n",
       "      <th>WitnessPresent</th>\n",
       "      <th>AgentType</th>\n",
       "      <th>NumberOfSuppliments</th>\n",
       "      <th>AddressChange_Claim</th>\n",
       "      <th>NumberOfCars</th>\n",
       "      <th>ClaimSize</th>\n",
       "      <th>Married</th>\n",
       "      <th>Single</th>\n",
       "      <th>Divorced</th>\n",
       "      <th>Widow</th>\n",
       "      <th>Collision</th>\n",
       "      <th>Liability</th>\n",
       "      <th>All Perils</th>\n",
       "      <th>Sport</th>\n",
       "      <th>Sedan</th>\n",
       "      <th>Utility</th>\n",
       "    </tr>\n",
       "  </thead>\n",
       "  <tbody>\n",
       "    <tr>\n",
       "      <th>0</th>\n",
       "      <td>12</td>\n",
       "      <td>5</td>\n",
       "      <td>3</td>\n",
       "      <td>0</td>\n",
       "      <td>0</td>\n",
       "      <td>2.0</td>\n",
       "      <td>1.0</td>\n",
       "      <td>1</td>\n",
       "      <td>1</td>\n",
       "      <td>21.0</td>\n",
       "      <td>0</td>\n",
       "      <td>5</td>\n",
       "      <td>0</td>\n",
       "      <td>1</td>\n",
       "      <td>12</td>\n",
       "      <td>300</td>\n",
       "      <td>1.0</td>\n",
       "      <td>4</td>\n",
       "      <td>4</td>\n",
       "      <td>0</td>\n",
       "      <td>3</td>\n",
       "      <td>4</td>\n",
       "      <td>0</td>\n",
       "      <td>0</td>\n",
       "      <td>1</td>\n",
       "      <td>0</td>\n",
       "      <td>2</td>\n",
       "      <td>3</td>\n",
       "      <td>55526.069421</td>\n",
       "      <td>0</td>\n",
       "      <td>1</td>\n",
       "      <td>0</td>\n",
       "      <td>0</td>\n",
       "      <td>0</td>\n",
       "      <td>1</td>\n",
       "      <td>0</td>\n",
       "      <td>1</td>\n",
       "      <td>0</td>\n",
       "      <td>0</td>\n",
       "    </tr>\n",
       "    <tr>\n",
       "      <th>1</th>\n",
       "      <td>1</td>\n",
       "      <td>3</td>\n",
       "      <td>3</td>\n",
       "      <td>0</td>\n",
       "      <td>0</td>\n",
       "      <td>1.0</td>\n",
       "      <td>1.0</td>\n",
       "      <td>4</td>\n",
       "      <td>0</td>\n",
       "      <td>34.0</td>\n",
       "      <td>0</td>\n",
       "      <td>5</td>\n",
       "      <td>0</td>\n",
       "      <td>2</td>\n",
       "      <td>15</td>\n",
       "      <td>400</td>\n",
       "      <td>4.0</td>\n",
       "      <td>4</td>\n",
       "      <td>4</td>\n",
       "      <td>0</td>\n",
       "      <td>6</td>\n",
       "      <td>5</td>\n",
       "      <td>1</td>\n",
       "      <td>0</td>\n",
       "      <td>1</td>\n",
       "      <td>0</td>\n",
       "      <td>0</td>\n",
       "      <td>1</td>\n",
       "      <td>59294.455571</td>\n",
       "      <td>0</td>\n",
       "      <td>1</td>\n",
       "      <td>0</td>\n",
       "      <td>0</td>\n",
       "      <td>1</td>\n",
       "      <td>0</td>\n",
       "      <td>0</td>\n",
       "      <td>1</td>\n",
       "      <td>0</td>\n",
       "      <td>0</td>\n",
       "    </tr>\n",
       "    <tr>\n",
       "      <th>2</th>\n",
       "      <td>10</td>\n",
       "      <td>5</td>\n",
       "      <td>5</td>\n",
       "      <td>0</td>\n",
       "      <td>0</td>\n",
       "      <td>4.0</td>\n",
       "      <td>11.0</td>\n",
       "      <td>2</td>\n",
       "      <td>0</td>\n",
       "      <td>47.0</td>\n",
       "      <td>0</td>\n",
       "      <td>5</td>\n",
       "      <td>0</td>\n",
       "      <td>3</td>\n",
       "      <td>7</td>\n",
       "      <td>400</td>\n",
       "      <td>3.0</td>\n",
       "      <td>4</td>\n",
       "      <td>4</td>\n",
       "      <td>1</td>\n",
       "      <td>7</td>\n",
       "      <td>7</td>\n",
       "      <td>0</td>\n",
       "      <td>0</td>\n",
       "      <td>1</td>\n",
       "      <td>0</td>\n",
       "      <td>0</td>\n",
       "      <td>1</td>\n",
       "      <td>71756.941320</td>\n",
       "      <td>1</td>\n",
       "      <td>0</td>\n",
       "      <td>0</td>\n",
       "      <td>0</td>\n",
       "      <td>1</td>\n",
       "      <td>0</td>\n",
       "      <td>0</td>\n",
       "      <td>1</td>\n",
       "      <td>0</td>\n",
       "      <td>0</td>\n",
       "    </tr>\n",
       "    <tr>\n",
       "      <th>3</th>\n",
       "      <td>6</td>\n",
       "      <td>2</td>\n",
       "      <td>6</td>\n",
       "      <td>0</td>\n",
       "      <td>1</td>\n",
       "      <td>5.0</td>\n",
       "      <td>7.0</td>\n",
       "      <td>1</td>\n",
       "      <td>0</td>\n",
       "      <td>65.0</td>\n",
       "      <td>1</td>\n",
       "      <td>1</td>\n",
       "      <td>0</td>\n",
       "      <td>4</td>\n",
       "      <td>4</td>\n",
       "      <td>400</td>\n",
       "      <td>2.0</td>\n",
       "      <td>4</td>\n",
       "      <td>4</td>\n",
       "      <td>1</td>\n",
       "      <td>8</td>\n",
       "      <td>8</td>\n",
       "      <td>1</td>\n",
       "      <td>0</td>\n",
       "      <td>1</td>\n",
       "      <td>3</td>\n",
       "      <td>0</td>\n",
       "      <td>1</td>\n",
       "      <td>7584.153493</td>\n",
       "      <td>1</td>\n",
       "      <td>0</td>\n",
       "      <td>0</td>\n",
       "      <td>0</td>\n",
       "      <td>0</td>\n",
       "      <td>1</td>\n",
       "      <td>0</td>\n",
       "      <td>1</td>\n",
       "      <td>0</td>\n",
       "      <td>0</td>\n",
       "    </tr>\n",
       "    <tr>\n",
       "      <th>4</th>\n",
       "      <td>2</td>\n",
       "      <td>1</td>\n",
       "      <td>6</td>\n",
       "      <td>0</td>\n",
       "      <td>0</td>\n",
       "      <td>1.0</td>\n",
       "      <td>2.0</td>\n",
       "      <td>3</td>\n",
       "      <td>0</td>\n",
       "      <td>36.0</td>\n",
       "      <td>1</td>\n",
       "      <td>5</td>\n",
       "      <td>0</td>\n",
       "      <td>7</td>\n",
       "      <td>14</td>\n",
       "      <td>400</td>\n",
       "      <td>1.0</td>\n",
       "      <td>4</td>\n",
       "      <td>4</td>\n",
       "      <td>1</td>\n",
       "      <td>7</td>\n",
       "      <td>6</td>\n",
       "      <td>0</td>\n",
       "      <td>0</td>\n",
       "      <td>1</td>\n",
       "      <td>1</td>\n",
       "      <td>0</td>\n",
       "      <td>1</td>\n",
       "      <td>98545.374339</td>\n",
       "      <td>1</td>\n",
       "      <td>0</td>\n",
       "      <td>0</td>\n",
       "      <td>0</td>\n",
       "      <td>1</td>\n",
       "      <td>0</td>\n",
       "      <td>0</td>\n",
       "      <td>1</td>\n",
       "      <td>0</td>\n",
       "      <td>0</td>\n",
       "    </tr>\n",
       "  </tbody>\n",
       "</table>\n",
       "</div>"
      ],
      "text/plain": [
       "   Month  WeekOfMonth  DayOfWeek  Make  AccidentArea  DayOfWeekClaimed  \\\n",
       "0     12            5          3     0             0               2.0   \n",
       "1      1            3          3     0             0               1.0   \n",
       "2     10            5          5     0             0               4.0   \n",
       "3      6            2          6     0             1               5.0   \n",
       "4      2            1          6     0             0               1.0   \n",
       "\n",
       "   MonthClaimed  WeekOfMonthClaimed  Sex   Age  Fault  VehiclePrice  \\\n",
       "0           1.0                   1    1  21.0      0             5   \n",
       "1           1.0                   4    0  34.0      0             5   \n",
       "2          11.0                   2    0  47.0      0             5   \n",
       "3           7.0                   1    0  65.0      1             1   \n",
       "4           2.0                   3    0  36.0      1             5   \n",
       "\n",
       "   FraudFound_P  PolicyNumber  RepNumber  Deductible  DriverRating  \\\n",
       "0             0             1         12         300           1.0   \n",
       "1             0             2         15         400           4.0   \n",
       "2             0             3          7         400           3.0   \n",
       "3             0             4          4         400           2.0   \n",
       "4             0             7         14         400           1.0   \n",
       "\n",
       "   Days_Policy_Accident  Days_Policy_Claim  PastNumberOfClaims  AgeOfVehicle  \\\n",
       "0                     4                  4                   0             3   \n",
       "1                     4                  4                   0             6   \n",
       "2                     4                  4                   1             7   \n",
       "3                     4                  4                   1             8   \n",
       "4                     4                  4                   1             7   \n",
       "\n",
       "   AgeOfPolicyHolder  PoliceReportFiled  WitnessPresent  AgentType  \\\n",
       "0                  4                  0               0          1   \n",
       "1                  5                  1               0          1   \n",
       "2                  7                  0               0          1   \n",
       "3                  8                  1               0          1   \n",
       "4                  6                  0               0          1   \n",
       "\n",
       "   NumberOfSuppliments  AddressChange_Claim  NumberOfCars     ClaimSize  \\\n",
       "0                    0                    2             3  55526.069421   \n",
       "1                    0                    0             1  59294.455571   \n",
       "2                    0                    0             1  71756.941320   \n",
       "3                    3                    0             1   7584.153493   \n",
       "4                    1                    0             1  98545.374339   \n",
       "\n",
       "   Married  Single  Divorced  Widow  Collision  Liability  All Perils  Sport  \\\n",
       "0        0       1         0      0          0          1           0      1   \n",
       "1        0       1         0      0          1          0           0      1   \n",
       "2        1       0         0      0          1          0           0      1   \n",
       "3        1       0         0      0          0          1           0      1   \n",
       "4        1       0         0      0          1          0           0      1   \n",
       "\n",
       "   Sedan  Utility  \n",
       "0      0        0  \n",
       "1      0        0  \n",
       "2      0        0  \n",
       "3      0        0  \n",
       "4      0        0  "
      ]
     },
     "metadata": {},
     "output_type": "display_data"
    }
   ],
   "source": [
    "display_all(customers.head())"
   ]
  },
  {
   "cell_type": "code",
   "execution_count": 44,
   "metadata": {},
   "outputs": [
    {
     "data": {
      "text/plain": [
       "Index(['Month', 'WeekOfMonth', 'DayOfWeek', 'AccidentArea', 'DayOfWeekClaimed',\n",
       "       'MonthClaimed', 'WeekOfMonthClaimed', 'Sex', 'Age', 'Fault',\n",
       "       'VehiclePrice', 'FraudFound_P', 'PolicyNumber', 'RepNumber',\n",
       "       'Deductible', 'DriverRating', 'Days_Policy_Accident',\n",
       "       'Days_Policy_Claim', 'PastNumberOfClaims', 'AgeOfVehicle',\n",
       "       'AgeOfPolicyHolder', 'PoliceReportFiled', 'WitnessPresent', 'AgentType',\n",
       "       'NumberOfSuppliments', 'AddressChange_Claim', 'NumberOfCars',\n",
       "       'ClaimSize', 'Married', 'Single', 'Divorced', 'Widow', 'Collision',\n",
       "       'Liability', 'All Perils', 'Sport', 'Sedan', 'Utility'],\n",
       "      dtype='object')"
      ]
     },
     "execution_count": 44,
     "metadata": {},
     "output_type": "execute_result"
    }
   ],
   "source": [
    "customers['']"
   ]
  },
  {
   "cell_type": "code",
   "execution_count": 26,
   "metadata": {},
   "outputs": [],
   "source": [
    "Fraud=customers[customers['FraudFound_P']==1]\n",
    "NotFraud=customers[customers['FraudFound_P']==0]\n",
    "Y_fraud=Fraud['FraudFound_P'].values\n",
    "Y_NotFraud=NotFraud['FraudFound_P'].values\n",
    "del Fraud['FraudFound_P']\n",
    "del NotFraud[\"FraudFound_P\"]\n",
    "del customers['FraudFound_P']"
   ]
  },
  {
   "cell_type": "code",
   "execution_count": 29,
   "metadata": {},
   "outputs": [],
   "source": [
    "X_train_fraud,X_test_fraud,Y_train_fraud,Y_test_fraud=train_test_split(Fraud.values,Y_fraud,test_size=0.5)\n",
    "X_train_Notfraud,X_test_Notfraud,Y_train_Notfraud,Y_test_Notfraud=train_test_split(NotFraud.values,Y_NotFraud,test_size=0.80)"
   ]
  },
  {
   "cell_type": "code",
   "execution_count": 30,
   "metadata": {},
   "outputs": [],
   "source": [
    "X_train=np.concatenate([X_train_fraud,X_train_Notfraud])\n",
    "Y_train=np.concatenate([Y_train_fraud,Y_train_Notfraud])\n",
    "X_test=np.concatenate([X_test_fraud,X_test_Notfraud])\n",
    "Y_test=np.concatenate([Y_test_fraud,Y_test_Notfraud])"
   ]
  },
  {
   "cell_type": "code",
   "execution_count": 31,
   "metadata": {},
   "outputs": [],
   "source": [
    "df_new=pd.DataFrame(X_train)\n",
    "df_new.columns=customers.columns\n",
    "df_new['FraudFound_P']=Y_train\n",
    "df_new = df_new.sample(frac=1).reset_index(drop=True)\n",
    "Y_train=df_new['FraudFound_P'].values\n",
    "del df_new['FraudFound_P']\n",
    "X_train=df_new.values"
   ]
  },
  {
   "cell_type": "code",
   "execution_count": null,
   "metadata": {},
   "outputs": [],
   "source": [
    "### Use Your Algo\n",
    "### Analysing the Public Holiday in Australia\n",
    "## 1 January,26 January,2nd Monday in February,1st Monday in March,2nd Monday in March\n",
    "## 25 April,1st Monday in May,1st Monday after or on 27 May,1st Monday in June,2nd Monday in June\n",
    "## 1st Monday in October,25 December,26 December,31 December\n"
   ]
  },
  {
   "cell_type": "code",
   "execution_count": 93,
   "metadata": {},
   "outputs": [
    {
     "name": "stdout",
     "output_type": "stream",
     "text": [
      "215 15 200\n",
      "220 10 210\n"
     ]
    }
   ],
   "source": [
    "## Analysing the 1 January\n",
    "claimed=customers[(customers['MonthClaimed']==1.0) & (customers['WeekOfMonthClaimed']==1)]\n",
    "TotalClaim=claimed.shape[0]\n",
    "FraudClaimed=claimed[claimed['FraudFound_P']==1].shape[0]\n",
    "NotFraudClaimed=claimed[claimed['FraudFound_P']==0].shape[0]\n",
    "accident=customers[(customers['Month']==1.0) & (customers['WeekOfMonth']==1)]\n",
    "TotalAccident=accident.shape[0]\n",
    "FraudAccident=accident[accident['FraudFound_P']==1].shape[0]\n",
    "NotFraudAccident=accident[accident['FraudFound_P']==0].shape[0]\n",
    "print(TotalClaim,FraudClaimed,NotFraudClaimed)\n",
    "print(TotalAccident,FraudAccident,NotFraudAccident)"
   ]
  },
  {
   "cell_type": "code",
   "execution_count": 91,
   "metadata": {},
   "outputs": [
    {
     "name": "stdout",
     "output_type": "stream",
     "text": [
      "240 14 226\n",
      "129 10 119\n"
     ]
    }
   ],
   "source": [
    "## Analysing the 26 January\n",
    "claimed=customers[(customers['MonthClaimed']==1.0) & (customers['WeekOfMonthClaimed']==4)]\n",
    "TotalClaim=claimed.shape[0]\n",
    "FraudClaimed=claimed[claimed['FraudFound_P']==1].shape[0]\n",
    "NotFraudClaimed=claimed[claimed['FraudFound_P']==0].shape[0]\n",
    "accident=customers[(customers['Month']==1.0) & (customers['WeekOfMonth']==5)]\n",
    "TotalAccident=accident.shape[0]\n",
    "FraudAccident=accident[accident['FraudFound_P']==1].shape[0]\n",
    "NotFraudAccident=accident[accident['FraudFound_P']==0].shape[0]\n",
    "print(TotalClaim,FraudClaimed,NotFraudClaimed)\n",
    "print(TotalAccident,FraudAccident,NotFraudAccident)"
   ]
  },
  {
   "cell_type": "code",
   "execution_count": 41,
   "metadata": {},
   "outputs": [
    {
     "data": {
      "text/plain": [
       "<matplotlib.axes._subplots.AxesSubplot at 0x1a080a4278>"
      ]
     },
     "execution_count": 41,
     "metadata": {},
     "output_type": "execute_result"
    },
    {
     "data": {
      "image/png": "[encoded data removed]",
      "text/plain": [
       "<Figure size 432x288 with 1 Axes>"
      ]
     },
     "metadata": {},
     "output_type": "display_data"
    }
   ],
   "source": [
    "customers['AgeOfPolicyHolder'][(customers['FraudFound_P'] == 1) & (customers['Single']==1)].value_counts().plot('barh')\n",
    "## 31 to 35 Year"
   ]
  },
  {
   "cell_type": "code",
   "execution_count": 86,
   "metadata": {
    "scrolled": true
   },
   "outputs": [
    {
     "data": {
      "image/png": "[encoded data removed]",
      "text/plain": [
       "<Figure size 432x288 with 1 Axes>"
      ]
     },
     "metadata": {},
     "output_type": "display_data"
    }
   ],
   "source": [
    "customers['Make'][customers['FraudFound_P']==1].value_counts().plot('barh')\n",
    "plt.xlabel('Fraud Count')\n",
    "plt.ylabel('Vehicle')\n",
    "plt.text(15,2,'0-Not Luxury Vehicle')\n",
    "plt.text(15,1.75,'1-Luxury Vehicle')\n",
    "plt.savefig('make.png')"
   ]
  },
  {
   "cell_type": "code",
   "execution_count": 40,
   "metadata": {},
   "outputs": [
    {
     "data": {
      "image/png": "[encoded data removed]",
      "text/plain": [
       "<Figure size 432x288 with 1 Axes>"
      ]
     },
     "metadata": {},
     "output_type": "display_data"
    }
   ],
   "source": [
    "customers['NumberOfCars'][(customers['FraudFound_P']==1)].value_counts().plot('barh')\n",
    "plt.xlabel('Fraud Count')\n",
    "plt.ylabel('Number of Car')\n",
    "plt.savefig('car.png')\n",
    "\n",
    "##if 1 vehicle':'2 vehicles':3 to 4':5 to 8':"
   ]
  },
  {
   "cell_type": "code",
   "execution_count": 101,
   "metadata": {},
   "outputs": [
    {
     "data": {
      "text/plain": [
       "<matplotlib.axes._subplots.AxesSubplot at 0x1a1d1cbef0>"
      ]
     },
     "execution_count": 101,
     "metadata": {},
     "output_type": "execute_result"
    },
    {
     "data": {
      "image/png": "[encoded data removed]",
      "text/plain": [
       "<Figure size 432x288 with 1 Axes>"
      ]
     },
     "metadata": {},
     "output_type": "display_data"
    }
   ],
   "source": [
    "customers['NumberOfCars'][(customers['FraudFound_P']==1) & (customers['AgeOfPolicyHolder']==5)].value_counts().plot('barh')"
   ]
  },
  {
   "cell_type": "code",
   "execution_count": 103,
   "metadata": {
    "scrolled": true
   },
   "outputs": [
    {
     "data": {
      "text/plain": [
       "<matplotlib.axes._subplots.AxesSubplot at 0x1a1000fd68>"
      ]
     },
     "execution_count": 103,
     "metadata": {},
     "output_type": "execute_result"
    },
    {
     "data": {
      "image/png": "[encoded data removed]",
      "text/plain": [
       "<Figure size 432x288 with 1 Axes>"
      ]
     },
     "metadata": {},
     "output_type": "display_data"
    }
   ],
   "source": [
    "customers['AgeOfPolicyHolder'][(customers['FraudFound_P']==1) & (customers['NumberOfCars']==1)].value_counts().plot('barh')"
   ]
  },
  {
   "cell_type": "code",
   "execution_count": 105,
   "metadata": {},
   "outputs": [
    {
     "data": {
      "text/plain": [
       "685"
      ]
     },
     "execution_count": 105,
     "metadata": {},
     "output_type": "execute_result"
    }
   ],
   "source": [
    "customers['AgeOfPolicyHolder'][(customers['FraudFound_P'] == 1)].value_counts().sum()"
   ]
  },
  {
   "cell_type": "code",
   "execution_count": 104,
   "metadata": {},
   "outputs": [
    {
     "data": {
      "text/plain": [
       "628"
      ]
     },
     "execution_count": 104,
     "metadata": {},
     "output_type": "execute_result"
    }
   ],
   "source": [
    "customers['AgeOfPolicyHolder'][(customers['FraudFound_P']==1) & (customers['NumberOfCars']==1)].value_counts().sum()"
   ]
  },
  {
   "cell_type": "code",
   "execution_count": 73,
   "metadata": {},
   "outputs": [
    {
     "data": {
      "text/plain": [
       "3    2749\n",
       "2    2678\n",
       "4    2524\n",
       "1    2386\n",
       "5    1216\n",
       "Name: WeekOfMonth, dtype: int64"
      ]
     },
     "execution_count": 73,
     "metadata": {},
     "output_type": "execute_result"
    }
   ],
   "source": [
    "customers['WeekOfMonth'].value_counts()"
   ]
  },
  {
   "cell_type": "code",
   "execution_count": 64,
   "metadata": {},
   "outputs": [],
   "source": [
    "X=customers[(customers['MonthClaimed']==1.0) & (claimed['DayOfWeekClaimed']==1.0) & (customers['Month']==1.0) & customers['DayOfWeek']==1.0 ]"
   ]
  },
  {
   "cell_type": "code",
   "execution_count": 78,
   "metadata": {},
   "outputs": [
    {
     "name": "stdout",
     "output_type": "stream",
     "text": [
      "163 9 154\n"
     ]
    }
   ],
   "source": [
    "TotalAccident=X.shape[0]\n",
    "FraudAccident=X[X['FraudFound_P']==1].shape[0]\n",
    "NotFraudAccident=X[X['FraudFound_P']==0].shape[0]\n",
    "print(TotalAccident,FraudAccident,NotFraudAccident)"
   ]
  },
  {
   "cell_type": "code",
   "execution_count": 79,
   "metadata": {},
   "outputs": [
    {
     "name": "stdout",
     "output_type": "stream",
     "text": [
      "0 0 0\n",
      "163 9 154\n"
     ]
    }
   ],
   "source": [
    "print(TotalClaim,FraudClaimed,NotFraudClaimed)\n",
    "print(TotalAccident,FraudAccident,NotFraudAccident)"
   ]
  },
  {
   "cell_type": "code",
   "execution_count": 59,
   "metadata": {
    "scrolled": true
   },
   "outputs": [],
   "source": [
    "claimed=customers[customers['MonthClaimed']==1.0]\n",
    "claimed=claimed[(claimed['DayOfWeekClaimed']==1.0)]"
   ]
  },
  {
   "cell_type": "code",
   "execution_count": 58,
   "metadata": {},
   "outputs": [
    {
     "data": {
      "text/plain": [
       "(553, 38)"
      ]
     },
     "execution_count": 58,
     "metadata": {},
     "output_type": "execute_result"
    }
   ],
   "source": []
  },
  {
   "cell_type": "code",
   "execution_count": 102,
   "metadata": {},
   "outputs": [],
   "source": [
    "b=[[1,0,0,0,0,1,0],[1,1,1,1,0]]\n",
    "element,count=np.unique(b,return_counts=True)"
   ]
  },
  {
   "cell_type": "code",
   "execution_count": 104,
   "metadata": {},
   "outputs": [
    {
     "name": "stdout",
     "output_type": "stream",
     "text": [
      "0\n",
      "1\n"
     ]
    }
   ],
   "source": [
    "for i in b:\n",
    "    counts = np.bincount(i)\n",
    "    print (np.argmax(counts))"
   ]
  },
  {
   "cell_type": "code",
   "execution_count": 101,
   "metadata": {},
   "outputs": [
    {
     "data": {
      "text/plain": [
       "array([4, 2, 1, 0, 0, 0, 0, 0, 0, 0, 1])"
      ]
     },
     "execution_count": 101,
     "metadata": {},
     "output_type": "execute_result"
    }
   ],
   "source": [
    "counts"
   ]
  }
 ],
 "metadata": {
  "kernelspec": {
   "display_name": "Python 3",
   "language": "python",
   "name": "python3"
  },
  "language_info": {
   "codemirror_mode": {
    "name": "ipython",
    "version": 3
   },
   "file_extension": ".py",
   "mimetype": "text/x-python",
   "name": "python",
   "nbconvert_exporter": "python",
   "pygments_lexer": "ipython3",
   "version": "3.6.5"
  }
 },
 "nbformat": 4,
 "nbformat_minor": 2
}
