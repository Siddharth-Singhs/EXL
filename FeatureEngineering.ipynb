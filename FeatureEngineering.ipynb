{
 "cells": [
  {
   "cell_type": "code",
   "execution_count": 1,
   "metadata": {},
   "outputs": [],
   "source": [
    "import pandas as pd\n",
    "import numpy as np\n",
    "import matplotlib.pyplot as plt"
   ]
  },
  {
   "cell_type": "code",
   "execution_count": 2,
   "metadata": {},
   "outputs": [],
   "source": [
    "customers=pd.read_csv('dataset_num.csv')"
   ]
  },
  {
   "cell_type": "code",
   "execution_count": 3,
   "metadata": {},
   "outputs": [
    {
     "name": "stderr",
     "output_type": "stream",
     "text": [
      "/anaconda3/lib/python3.6/site-packages/pandas/io/excel.py:329: FutureWarning: The `sheetname` keyword is deprecated, use `sheet_name` instead\n",
      "  **kwds)\n"
     ]
    }
   ],
   "source": [
    "customers_exl=pd.read_excel('Dataset.xlsx',\n",
    "sheetname=0,\n",
    "header=0,\n",
    "index_col=False,\n",
    "keep_default_na=True\n",
    ")"
   ]
  },
  {
   "cell_type": "code",
   "execution_count": 4,
   "metadata": {},
   "outputs": [],
   "source": [
    "fraud=customers_exl['FraudFound_P'].values"
   ]
  },
  {
   "cell_type": "code",
   "execution_count": 5,
   "metadata": {},
   "outputs": [],
   "source": [
    "customers['FraudFound_P']=fraud"
   ]
  },
  {
   "cell_type": "code",
   "execution_count": null,
   "metadata": {},
   "outputs": [],
   "source": [
    "df_test = pd.read_csv('output_round1.csv')"
   ]
  },
  {
   "cell_type": "code",
   "execution_count": 6,
   "metadata": {},
   "outputs": [],
   "source": [
    "from sklearn.preprocessing import LabelEncoder\n",
    "from sklearn.model_selection import StratifiedShuffleSplit, train_test_split"
   ]
  },
  {
   "cell_type": "markdown",
   "metadata": {},
   "source": [
    "# Detected Fraud"
   ]
  },
  {
   "cell_type": "code",
   "execution_count": 7,
   "metadata": {},
   "outputs": [],
   "source": [
    "fraud_count_dict = {}\n",
    "for rep_number in np.unique(customers['RepNumber']):\n",
    "    fraud_count_dict[rep_number] = customers[customers['RepNumber']==rep_number]['FraudFound_P'].value_counts()[1]\n",
    "fraud_count = []\n",
    "for index, row in customers.iterrows():\n",
    "    fraud_count.append(fraud_count_dict[row['RepNumber']])\n",
    "customers['Fraud_Count'] = fraud_count    "
   ]
  },
  {
   "cell_type": "code",
   "execution_count": 9,
   "metadata": {},
   "outputs": [],
   "source": [
    "from datetime import datetime, timedelta"
   ]
  },
  {
   "cell_type": "code",
   "execution_count": 14,
   "metadata": {},
   "outputs": [
    {
     "data": {
      "text/plain": [
       "5     1084\n",
       "9     1038\n",
       "8     1005\n",
       "11     995\n",
       "10     973\n",
       "1      970\n",
       "7      967\n",
       "4      955\n",
       "12     944\n",
       "6      908\n",
       "3      879\n",
       "2      846\n",
       "Name: MonthClaimed, dtype: int64"
      ]
     },
     "execution_count": 14,
     "metadata": {},
     "output_type": "execute_result"
    }
   ],
   "source": [
    "customers['MonthClaimed'].value_counts()"
   ]
  },
  {
   "cell_type": "code",
   "execution_count": 11,
   "metadata": {},
   "outputs": [],
   "source": [
    "def correctMonth(month):\n",
    "    if month ==2:\n",
    "        return 1\n",
    "    elif month==3:\n",
    "        return 2\n",
    "    elif month==4:\n",
    "        return 3\n",
    "    elif month==5:\n",
    "        return 4\n",
    "    elif month==6:\n",
    "        return 5\n",
    "    elif month==7:\n",
    "        return 6\n",
    "    elif month==8:\n",
    "        return 7\n",
    "    elif month==9:\n",
    "        return 8\n",
    "    elif month==10:\n",
    "        return 9\n",
    "    elif month==11:\n",
    "        return 10\n",
    "    elif month==12:\n",
    "        return 11\n",
    "    elif month==13:\n",
    "        return 12\n",
    "    else:\n",
    "        return 0\n",
    "customers['MonthClaimed']=customers['MonthClaimed'].apply(correctMonth) "
   ]
  },
  {
   "cell_type": "code",
   "execution_count": 16,
   "metadata": {},
   "outputs": [],
   "source": [
    "customers.drop(customers[customers['DayOfWeekClaimed']==1].index[0],inplace=True)\n",
    "customers.drop(customers[customers['MonthClaimed']==0].index[0],inplace=True)"
   ]
  },
  {
   "cell_type": "code",
   "execution_count": 17,
   "metadata": {},
   "outputs": [],
   "source": [
    "def correctDate(date):\n",
    "    if date ==2:\n",
    "        return 1\n",
    "    elif date==3:\n",
    "        return 2\n",
    "    elif date==4:\n",
    "        return 3\n",
    "    elif date==5:\n",
    "        return 4\n",
    "    elif date==6:\n",
    "        return 5\n",
    "    elif date==7:\n",
    "        return 6\n",
    "    elif date==8:\n",
    "        return 7\n",
    "customers['DayOfWeekClaimed']=customers['DayOfWeekClaimed'].apply(correctDate)    "
   ]
  },
  {
   "cell_type": "code",
   "execution_count": 18,
   "metadata": {},
   "outputs": [],
   "source": [
    "daydict={\n",
    "       1 : 'Monday',\n",
    "       2 : 'Tuesday',\n",
    "       3 : 'Wednesday',\n",
    "       4 : 'Thursday',\n",
    "       5 : 'Friday',\n",
    "       6 : 'Saturday',\n",
    "       7 : 'Sunday',\n",
    "}"
   ]
  },
  {
   "cell_type": "code",
   "execution_count": 19,
   "metadata": {},
   "outputs": [],
   "source": [
    "def parse_date(year, month_name, week_month, day):\n",
    "    month = month_name\n",
    "    first_date = datetime(year, month, 1)\n",
    "    first_day = first_date.isoweekday()\n",
    "    first_week_number = first_date.isocalendar()[1]\n",
    "    if (first_week_number == 52):\n",
    "        first_week_number = 1\n",
    "    week_number = first_week_number + week_month - 1\n",
    "    string_date = str(year)+'-'+str(week_number)+'-'+daydict.get(day)\n",
    "    date = datetime.strptime(string_date, '%Y-%U-%A')\n",
    "    return date"
   ]
  },
  {
   "cell_type": "code",
   "execution_count": 20,
   "metadata": {},
   "outputs": [],
   "source": [
    "gap = []\n",
    "accident_dates = []\n",
    "claim_dates = []\n",
    "for index, row in customers.iterrows():\n",
    "    accident_year = row['Year']\n",
    "    if (row['Month'] <= row['MonthClaimed']):\n",
    "        claim_year = accident_year\n",
    "    else:\n",
    "        claim_year = accident_year + 1\n",
    "    \n",
    "    accident_date = parse_date(accident_year, row['Month'], row['WeekOfMonth'], row['DayOfWeek'])\n",
    "    claim_date = parse_date(claim_year, row['MonthClaimed'], row['WeekOfMonthClaimed'], row['DayOfWeekClaimed'])\n",
    "    accident_dates.append(accident_date)\n",
    "    claim_dates.append(claim_date)\n",
    "    gap.append(abs((claim_date - accident_date).days))"
   ]
  },
  {
   "cell_type": "code",
   "execution_count": 21,
   "metadata": {},
   "outputs": [],
   "source": [
    "customers['Accident_Claim_Gap'] = gap"
   ]
  },
  {
   "cell_type": "code",
   "execution_count": null,
   "metadata": {},
   "outputs": [],
   "source": [
    "org_trustability = []\n"
   ]
  },
  {
   "cell_type": "code",
   "execution_count": null,
   "metadata": {},
   "outputs": [],
   "source": [
    "del customers['PolicyNumber']\n",
    "del customers['Year']\n",
    "del customers['Month']\n",
    "del customers['MonthClaimed']\n",
    "del customers['WeekOfMonth']\n",
    "del customers['WeekOfMonthClaimed']\n",
    "del customers['DayOfWeek']\n",
    "del customers['DayOfWeekClaimed']\n",
    "del customers['Age_na']\n",
    "del customers['DriverRating_na']\n",
    "del customers['PolicyType']"
   ]
  },
  {
   "cell_type": "code",
   "execution_count": null,
   "metadata": {},
   "outputs": [],
   "source": [
    "Fraud=customers[customers['FraudFound_P']==1]\n",
    "NotFraud=customers[customers['FraudFound_P']==0]\n",
    "Y_fraud=Fraud['FraudFound_P'].values\n",
    "Y_NotFraud=NotFraud['FraudFound_P'].values\n",
    "del Fraud['FraudFound_P']\n",
    "del NotFraud[\"FraudFound_P\"]\n",
    "del customers['FraudFound_P']"
   ]
  },
  {
   "cell_type": "code",
   "execution_count": null,
   "metadata": {
    "scrolled": true
   },
   "outputs": [],
   "source": [
    "X_train_fraud,X_test_fraud,Y_train_fraud,Y_test_fraud=train_test_split(Fraud.values,Y_fraud,test_size=0.5)\n",
    "X_train_Notfraud,X_test_Notfraud,Y_train_Notfraud,Y_test_Notfraud=train_test_split(NotFraud.values,Y_NotFraud,test_size=0.80)\n",
    "X_train=np.concatenate([X_train_fraud,X_train_Notfraud])\n",
    "Y_train=np.concatenate([Y_train_fraud,Y_train_Notfraud])\n",
    "X_test=np.concatenate([X_test_fraud,X_test_Notfraud])\n",
    "Y_test=np.concatenate([Y_test_fraud,Y_test_Notfraud])"
   ]
  },
  {
   "cell_type": "code",
   "execution_count": null,
   "metadata": {},
   "outputs": [],
   "source": [
    "df_new=pd.DataFrame(X_train)\n",
    "df_new.columns=customers.columns\n",
    "df_new['FraudFound_P']=Y_train\n",
    "df_new = df_new.sample(frac=1).reset_index(drop=True)\n",
    "Y_train=df_new['FraudFound_P'].values\n",
    "del df_new['FraudFound_P']\n",
    "X_train=df_new.values"
   ]
  },
  {
   "cell_type": "code",
   "execution_count": null,
   "metadata": {},
   "outputs": [],
   "source": [
    "import lightgbm as lgb\n",
    "print(\"LightGBM version: {}\".format(lgb.__version__))"
   ]
  },
  {
   "cell_type": "code",
   "execution_count": null,
   "metadata": {},
   "outputs": [],
   "source": [
    "lgb_train = lgb.Dataset(X_train, Y_train, free_raw_data=False)"
   ]
  },
  {
   "cell_type": "code",
   "execution_count": null,
   "metadata": {},
   "outputs": [],
   "source": [
    "parameters = {'num_leaves': 2**5,\n",
    "              'learning_rate': 0.05,\n",
    "              'is_unbalance': True,\n",
    "              'min_split_gain': 0.03,\n",
    "              'min_child_weight': 1,\n",
    "              'reg_lambda': 1,\n",
    "              'subsample': 1,\n",
    "              'objective':'binary',\n",
    "              #'device': 'gpu', # comment this line if you are not using GPU\n",
    "              'task': 'train'\n",
    "              }\n",
    "num_rounds = 500"
   ]
  },
  {
   "cell_type": "code",
   "execution_count": null,
   "metadata": {},
   "outputs": [],
   "source": [
    "%%time\n",
    "clf = lgb.train(parameters, lgb_train, num_boost_round=num_rounds)"
   ]
  },
  {
   "cell_type": "code",
   "execution_count": null,
   "metadata": {},
   "outputs": [],
   "source": [
    "y_prob = clf.predict(X_test)\n",
    "\n",
    "Y_pred = np.array([0 if i<0.45 else 1 for i in y_prob])"
   ]
  },
  {
   "cell_type": "code",
   "execution_count": null,
   "metadata": {},
   "outputs": [],
   "source": [
    "importances = clf.feature_importance()\n",
    "tick_labels = customers.columns"
   ]
  },
  {
   "cell_type": "code",
   "execution_count": null,
   "metadata": {},
   "outputs": [],
   "source": [
    "feature_importances = pd.DataFrame()\n",
    "feature_importances['Importance'] = importances\n",
    "feature_importances['Feature'] = tick_labels\n",
    "feature_importances.sort_values('Importance', inplace=True)"
   ]
  },
  {
   "cell_type": "code",
   "execution_count": null,
   "metadata": {},
   "outputs": [],
   "source": [
    "importances = feature_importances['Importance']\n",
    "tick_labels = feature_importances['Feature']"
   ]
  },
  {
   "cell_type": "code",
   "execution_count": null,
   "metadata": {},
   "outputs": [],
   "source": [
    "threshold = 0.035"
   ]
  },
  {
   "cell_type": "code",
   "execution_count": null,
   "metadata": {},
   "outputs": [],
   "source": [
    "figure = plt.figure(figsize=(15,20))\n",
    "plt.barh(range(len(importances)), importances, tick_label=tick_labels)\n",
    "plt.axvline(threshold,color='gray',linestyle='dashed')"
   ]
  },
  {
   "cell_type": "code",
   "execution_count": null,
   "metadata": {},
   "outputs": [],
   "source": [
    "from sklearn.metrics import confusion_matrix\n",
    "from sklearn.metrics import accuracy_score\n",
    "from sklearn.metrics import f1_score"
   ]
  },
  {
   "cell_type": "code",
   "execution_count": null,
   "metadata": {},
   "outputs": [],
   "source": [
    "print(accuracy_score(Y_test,Y_pred))\n",
    "print(confusion_matrix(Y_test,Y_pred))\n",
    "print(f1_score(Y_test,Y_pred))"
   ]
  }
 ],
 "metadata": {
  "kernelspec": {
   "display_name": "Python 3",
   "language": "python",
   "name": "python3"
  },
  "language_info": {
   "codemirror_mode": {
    "name": "ipython",
    "version": 3
   },
   "file_extension": ".py",
   "mimetype": "text/x-python",
   "name": "python",
   "nbconvert_exporter": "python",
   "pygments_lexer": "ipython3",
   "version": "3.6.5"
  }
 },
 "nbformat": 4,
 "nbformat_minor": 2
}
